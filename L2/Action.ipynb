{
 "cells": [
  {
   "cell_type": "markdown",
   "metadata": {},
   "source": [
    "## Action1：使用ModelArts（AutoML）完成员工离职预测问题 熟悉数据标注、模型训练、部署上线三个环节"
   ]
  },
  {
   "cell_type": "code",
   "execution_count": null,
   "metadata": {
    "persistent_id": "2bcc9d64-7202-488f-9d80-136b109ee9ca"
   },
   "outputs": [],
   "source": [
    "import numpy as np\n",
    "import pandas as pd\n",
    "\n",
    "file_path = \"./\"\n",
    "file_name = \"attrition_prediction-Attrition.csv\"\n",
    "\n",
    "raw_data = pd.read_csv(file_path+file_name, index_col=0)\n",
    "print(raw_data.head)\n",
    "\n",
    "raw_data = raw_data.drop(\"Attrition_No_score\", axis=1)\n",
    "print(raw_data)\n",
    "\n",
    "raw_data = raw_data.rename(columns = {\"Attrition_Yes_score\": \"Attrition\"})\n",
    "print(raw_data.head)\n",
    "raw_data[['Attrition']].to_csv('submission_automl_raw.csv')"
   ]
  }
 ],
 "metadata": {
  "history": [],
  "kernelspec": {
   "display_name": "Python 3",
   "language": "python",
   "name": "python3"
  },
  "language_info": {
   "codemirror_mode": {
    "name": "ipython",
    "version": 3
   },
   "file_extension": ".py",
   "mimetype": "text/x-python",
   "name": "python",
   "nbconvert_exporter": "python",
   "pygments_lexer": "ipython3",
   "version": "3.7.6"
  },
  "uuid": "757e9999-6c64-40f4-b47b-56682cc6893b"
 },
 "nbformat": 4,
 "nbformat_minor": 4
}
