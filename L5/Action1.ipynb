{
 "cells": [
  {
   "cell_type": "markdown",
   "metadata": {},
   "source": [
    "## Action1：选择任意一张图片，对其进行灰度化，然后使用SVD进行图像的重构，当奇异值数量为原有的1%，10%，50%时，输出重构后的图像"
   ]
  },
  {
   "cell_type": "code",
   "execution_count": null,
   "metadata": {
    "persistent_id": "a1c8168a-b98d-437e-8791-0d4413d40fb6"
   },
   "outputs": [],
   "source": [
    "import numpy as np\n",
    "from scipy.linalg import svd\n",
    "import matplotlib.pyplot as plt\n",
    "import matplotlib.image as mpimg"
   ]
  },
  {
   "cell_type": "code",
   "execution_count": null,
   "metadata": {
    "persistent_id": "2f0133c0-023b-483c-b819-93292f61445f"
   },
   "outputs": [],
   "source": [
    "# rbg图像转换为灰度图像\n",
    "def rgb2gray(rgb):\n",
    "    return np.dot(rgb, [0.2989, 0.5870, 0.1140])"
   ]
  },
  {
   "cell_type": "code",
   "execution_count": null,
   "metadata": {
    "persistent_id": "e0652686-6565-420c-9242-7e5c64c87a76"
   },
   "outputs": [],
   "source": [
    "# 提取前百分之portion的特征，对图像进行还原\n",
    "def get_image_feature(s, portion):\n",
    "    # 将百分比转换为int型个数值\n",
    "    k = int(s.shape[0] * portion / 100)\n",
    "    # 重构s为s_temp,只保留前k个特征值\n",
    "    s_temp = np.zeros(s.shape[0])\n",
    "    s_temp[0:k] = s[0:k]\n",
    "    s = s_temp * np.identity(s.shape[0])\n",
    "    # 用s_temp，以及p,q重构A\n",
    "    temp = np.dot(p, s)\n",
    "    temp = np.dot(temp, q)\n",
    "    plt.imshow(temp, cmap = plt.cm.gray, interpolation = 'nearest')\n",
    "    plt.show()"
   ]
  },
  {
   "cell_type": "code",
   "execution_count": null,
   "metadata": {
    "persistent_id": "975da699-dd86-4c41-a737-1cae0ca90a78"
   },
   "outputs": [],
   "source": [
    "# 加载图形并将图像转换为灰度图像\n",
    "img = mpimg.imread('./data/test.jpeg')\n",
    "A = np.array(img)\n",
    "plt.imshow(A)\n",
    "plt.show()"
   ]
  },
  {
   "cell_type": "code",
   "execution_count": null,
   "metadata": {
    "persistent_id": "2a95596f-e083-46fa-a21c-ed913b5fb453"
   },
   "outputs": [],
   "source": [
    "A = rgb2gray(A)\n",
    "print(A.shape)\n",
    "# 显示灰度图像\n",
    "plt.imshow(A, cmap=plt.cm.gray, interpolation='nearest')\n",
    "plt.show()"
   ]
  },
  {
   "cell_type": "code",
   "execution_count": null,
   "metadata": {
    "persistent_id": "9a4049da-949a-4f33-9658-6b19ea0bacfd"
   },
   "outputs": [],
   "source": [
    "p, s, q = svd(A, full_matrices = False)\n",
    "print(p.shape)\n",
    "print(s.shape)\n",
    "print(q.shape)"
   ]
  },
  {
   "cell_type": "code",
   "execution_count": null,
   "metadata": {
    "persistent_id": "1a943d78-6d00-45bc-ac4f-9b271036c76a"
   },
   "outputs": [],
   "source": [
    "get_image_feature(s, 1)"
   ]
  },
  {
   "cell_type": "code",
   "execution_count": null,
   "metadata": {
    "persistent_id": "9ba9b76f-9047-4ef4-b974-634be233dd71"
   },
   "outputs": [],
   "source": [
    "get_image_feature(s, 10)"
   ]
  },
  {
   "cell_type": "code",
   "execution_count": null,
   "metadata": {
    "persistent_id": "700c25a8-7a43-4986-8cb8-77df690b5df4"
   },
   "outputs": [],
   "source": [
    "get_image_feature(s, 50)"
   ]
  },
  {
   "cell_type": "code",
   "execution_count": null,
   "metadata": {
    "persistent_id": "b937fa21-58c5-46ae-ab26-4109f857f8c8"
   },
   "outputs": [],
   "source": []
  }
 ],
 "metadata": {
  "history": [],
  "kernelspec": {
   "display_name": "Python 3",
   "language": "python",
   "name": "python3"
  },
  "language_info": {
   "codemirror_mode": {
    "name": "ipython",
    "version": 3
   },
   "file_extension": ".py",
   "mimetype": "text/x-python",
   "name": "python",
   "nbconvert_exporter": "python",
   "pygments_lexer": "ipython3",
   "version": "3.7.6"
  },
  "uuid": "d5f81791-5b5d-40a1-af77-8e8d270f8355"
 },
 "nbformat": 4,
 "nbformat_minor": 4
}
