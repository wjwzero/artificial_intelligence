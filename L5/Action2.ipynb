{
 "cells": [
  {
   "cell_type": "markdown",
   "metadata": {},
   "source": [
    "## Action2：使用Google Colab编辑器，对MovieLens数据集进行评分预测，计算RMSE（使用funkSVD, BiasSVD，SVD++）"
   ]
  },
  {
   "cell_type": "code",
   "execution_count": null,
   "metadata": {
    "colab": {},
    "colab_type": "code",
    "id": "QpNoGrt5zC4n"
   },
   "outputs": [],
   "source": [
    "from google.colab import drive\n",
    "import os"
   ]
  },
  {
   "cell_type": "code",
   "execution_count": null,
   "metadata": {
    "colab": {},
    "colab_type": "code",
    "id": "4rg5I8v3zgrV"
   },
   "outputs": [],
   "source": [
    "drive.mount('/content/drive', force_remount=True)\n",
    "os.chdir('/content/drive/My Drive/Colab Notebooks/BaiduML/Computational_AD/MovieLens/')"
   ]
  },
  {
   "cell_type": "code",
   "execution_count": null,
   "metadata": {
    "colab": {},
    "colab_type": "code",
    "id": "AQuYZMh85GAn"
   },
   "outputs": [],
   "source": [
    "!ls"
   ]
  },
  {
   "cell_type": "code",
   "execution_count": null,
   "metadata": {
    "colab": {},
    "colab_type": "code",
    "id": "QQyrY8bT0J4C"
   },
   "outputs": [],
   "source": [
    "!pip install surprise"
   ]
  },
  {
   "cell_type": "code",
   "execution_count": null,
   "metadata": {
    "colab": {},
    "colab_type": "code",
    "id": "C86mIHCS2MMt"
   },
   "outputs": [],
   "source": [
    "from surprise import SVD, SVDpp\n",
    "from surprise import Dataset\n",
    "from surprise.model_selection import cross_validate\n",
    "from surprise import Reader\n",
    "from surprise import accuracy\n",
    "from surprise.model_selection import KFold\n",
    "import pandas as pd\n",
    "import math\n",
    "import time"
   ]
  },
  {
   "cell_type": "code",
   "execution_count": null,
   "metadata": {
    "colab": {},
    "colab_type": "code",
    "id": "l-8f-Wsf2SBa"
   },
   "outputs": [],
   "source": [
    "time1=time.time()"
   ]
  },
  {
   "cell_type": "code",
   "execution_count": null,
   "metadata": {
    "colab": {},
    "colab_type": "code",
    "id": "4pOUX7tx4jv_"
   },
   "outputs": [],
   "source": [
    "# 数据读取\n",
    "reader = Reader(line_format='user item rating timestamp', sep=',', skip_lines=1)\n",
    "data = Dataset.load_from_file('ratings.csv', reader=reader)\n",
    "train_set = data.build_full_trainset()"
   ]
  },
  {
   "cell_type": "markdown",
   "metadata": {
    "colab_type": "text",
    "id": "Mb_jaGEqGDsl"
   },
   "source": [
    "方法思想：分别在数据集上采用k折交叉验证的方式，训练和检验 FunkSVD, BiasSVD 和 SVD++ 三种SVD矩阵分解方法的预测准确率。然后选取其中平均RMSE结果最低的模型。最后将整个数据集当做训练集来重新训练表现最好的模型，并进行预测。"
   ]
  },
  {
   "cell_type": "code",
   "execution_count": null,
   "metadata": {
    "colab": {},
    "colab_type": "code",
    "id": "Ykwd9CB54pjK"
   },
   "outputs": [],
   "source": [
    "# 使用funkSVD, BiasSVD 和 SVD++\n",
    "# algo = SVD(biased=False)\n",
    "algos = [SVD(biased=False), SVD(biased=True), SVDpp()]\n",
    "algo_names = ['funkSVD', 'BiasSVD', 'SVD++']"
   ]
  },
  {
   "cell_type": "code",
   "execution_count": null,
   "metadata": {
    "colab": {},
    "colab_type": "code",
    "id": "JTz_t-XtlfVr"
   },
   "outputs": [],
   "source": [
    "def search_model(algos, algo_names, k):\n",
    "  assert(k>2)\n",
    "  best_score = 1e10\n",
    "  best_algo = None\n",
    "  best_name = None\n",
    "  for algo, algo_name in zip(algos, algo_names):\n",
    "    # 定义K折交叉验证迭代器\n",
    "    kf = KFold(n_splits=k)\n",
    "    score = 0.0\n",
    "    for trainset, testset in kf.split(data):\n",
    "      # 训练并预测\n",
    "      algo.fit(trainset)\n",
    "      predictions = algo.test(testset)\n",
    "      # 计算RMSE\n",
    "      score += accuracy.rmse(predictions, verbose=True)\n",
    "    if best_score > score:\n",
    "      best_score = score\n",
    "      best_algo = algo\n",
    "      best_name = algo_name\n",
    "  return best_algo, best_name, best_score\n",
    "      "
   ]
  },
  {
   "cell_type": "code",
   "execution_count": null,
   "metadata": {
    "colab": {},
    "colab_type": "code",
    "id": "Jjp2sINU7SBG"
   },
   "outputs": [],
   "source": [
    "best_algo, best_name, best_score = search_model(algos, algo_names, 3)\n",
    "print('The best algorithm is {} with average k_fold rmse {}'.format(best_name, best_score))\n",
    "# 在整个训练集上重新训练模型\n",
    "best_algo.fit(train_set)"
   ]
  },
  {
   "cell_type": "code",
   "execution_count": null,
   "metadata": {
    "colab": {},
    "colab_type": "code",
    "id": "b55foYC8Er1L"
   },
   "outputs": [],
   "source": [
    "uid = str(196)\n",
    "iid = str(302)\n",
    "# 输出uid对iid的预测结果\n",
    "pred = best_algo.predict(uid, iid, r_ui=4, verbose=True)\n",
    "time2=time.time()\n",
    "print(time2-time1)"
   ]
  },
  {
   "cell_type": "code",
   "execution_count": null,
   "metadata": {
    "colab": {},
    "colab_type": "code",
    "id": "MpLOrpTl7X87"
   },
   "outputs": [],
   "source": []
  }
 ],
 "metadata": {
  "accelerator": "GPU",
  "colab": {
   "authorship_tag": "ABX9TyNAD82Gf0BgUAAaeARfmR1m",
   "collapsed_sections": [],
   "include_colab_link": true,
   "mount_file_id": "1Yhttz3DUMyAKgi2sSsMlfKjHE4nPmwy9",
   "name": "svd.ipynb",
   "provenance": [],
   "toc_visible": true
  },
  "history": [],
  "kernelspec": {
   "display_name": "Python 3",
   "language": "python",
   "name": "python3"
  },
  "language_info": {
   "codemirror_mode": {
    "name": "ipython",
    "version": 3
   },
   "file_extension": ".py",
   "mimetype": "text/x-python",
   "name": "python",
   "nbconvert_exporter": "python",
   "pygments_lexer": "ipython3",
   "version": "3.7.6"
  },
  "uuid": "b0a294d9-54f9-4c2c-bde6-4e68e676b2c0"
 },
 "nbformat": 4,
 "nbformat_minor": 4
}
