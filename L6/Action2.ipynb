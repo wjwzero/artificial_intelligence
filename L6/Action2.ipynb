{
 "cells": [
  {
   "cell_type": "markdown",
   "metadata": {},
   "source": [
    "## Action2：使用DeepFM对movielens进行评分预测"
   ]
  },
  {
   "cell_type": "code",
   "execution_count": null,
   "metadata": {
    "persistent_id": "cd6765d5-59bd-455e-86f4-4670d3dcb8a2"
   },
   "outputs": [],
   "source": [
    "import pandas as pd\n",
    "from sklearn.metrics import mean_squared_error\n",
    "from sklearn.model_selection import train_test_split\n",
    "from sklearn.preprocessing import LabelEncoder\n",
    "from deepctr.models import DeepFM\n",
    "from deepctr.inputs import SparseFeat, get_feature_names"
   ]
  },
  {
   "cell_type": "code",
   "execution_count": null,
   "metadata": {
    "persistent_id": "50567904-f249-44b0-83fb-35ec568a0976"
   },
   "outputs": [],
   "source": [
    "ratings = pd.read_csv('ratings.csv')\n",
    "movies = pd.read_csv('movies.csv', encoding = \"ISO-8859-1\")"
   ]
  },
  {
   "cell_type": "code",
   "execution_count": null,
   "metadata": {
    "persistent_id": "94bef2cc-b9d6-4930-a220-8b41518e0b4d"
   },
   "outputs": [],
   "source": [
    "movie_ratings = pd.merge(ratings, movies, on='movieId')"
   ]
  },
  {
   "cell_type": "code",
   "execution_count": null,
   "metadata": {
    "persistent_id": "e7082b2e-930c-4f7c-910b-522094c35e11"
   },
   "outputs": [],
   "source": [
    "movie_ratings.head()"
   ]
  },
  {
   "cell_type": "code",
   "execution_count": null,
   "metadata": {
    "persistent_id": "e78af6dc-e461-49b1-bc33-8635783c417a"
   },
   "outputs": [],
   "source": [
    "sparse_features = ['userId', 'movieId', 'timestamp', 'title', 'genres']\n",
    "target = ['rating']"
   ]
  },
  {
   "cell_type": "code",
   "execution_count": null,
   "metadata": {
    "persistent_id": "ce250051-aab5-41bd-9534-88d0649def34"
   },
   "outputs": [],
   "source": [
    "for feature in sparse_features:\n",
    "    lbe = LabelEncoder()\n",
    "    movie_ratings[feature] = lbe.fit_transform(movie_ratings[feature])"
   ]
  },
  {
   "cell_type": "code",
   "execution_count": null,
   "metadata": {
    "persistent_id": "ce1c6aff-bbee-43aa-bc59-9167f5883ed8"
   },
   "outputs": [],
   "source": [
    "movie_ratings.head()"
   ]
  },
  {
   "cell_type": "code",
   "execution_count": null,
   "metadata": {
    "persistent_id": "85d0d182-4b58-4779-9104-2fad6da6f70a"
   },
   "outputs": [],
   "source": [
    "fixlen_feature_columns = [SparseFeat(feature, movie_ratings[feature].nunique()) for feature in sparse_features]\n",
    "linear_feature_columns = fixlen_feature_columns\n",
    "dnn_feature_columns = fixlen_feature_columns\n",
    "feature_names = get_feature_names(linear_feature_columns + dnn_feature_columns)"
   ]
  },
  {
   "cell_type": "code",
   "execution_count": null,
   "metadata": {
    "persistent_id": "b8c32f2b-fed8-4526-b6f9-5d01a8cb3bde"
   },
   "outputs": [],
   "source": [
    "train, test = train_test_split(movie_ratings, test_size = 0.2)\n",
    "train_model_input = {name: train[name].values for name in feature_names}\n",
    "test_model_input = {name:test[name].values for name in feature_names}"
   ]
  },
  {
   "cell_type": "code",
   "execution_count": null,
   "metadata": {
    "persistent_id": "84588aa3-6a8c-4a32-a06c-6f5f0820b80d"
   },
   "outputs": [],
   "source": [
    "import tensorflow as tf\n",
    "\n",
    "physical_devices = tf.config.list_physical_devices('GPU') \n",
    "try: \n",
    "  tf.config.experimental.set_memory_growth(physical_devices[0], True) \n",
    "except: \n",
    "  # Invalid device or cannot modify virtual devices once initialized. \n",
    "  pass \n",
    "model = DeepFM(linear_feature_columns, dnn_feature_columns, task = 'regression')\n",
    "model.compile('adam', 'mse', metrics=['mse'])\n",
    "history = model.fit(train_model_input, train[target].values, batch_size=64, epochs = 10, verbose = True, validation_split=0.2)"
   ]
  },
  {
   "cell_type": "code",
   "execution_count": null,
   "metadata": {
    "persistent_id": "d42d54d8-60d4-4a59-ab20-7e1e513aabf7"
   },
   "outputs": [],
   "source": [
    "test_model_input"
   ]
  },
  {
   "cell_type": "code",
   "execution_count": null,
   "metadata": {
    "persistent_id": "8ed5b98b-e08d-4ed6-a096-5319c64e2f07"
   },
   "outputs": [],
   "source": [
    "pred_ans = model.predict(test_model_input, batch_size = 64)"
   ]
  },
  {
   "cell_type": "code",
   "execution_count": null,
   "metadata": {
    "persistent_id": "d61ffbda-dd6b-44c7-a4b0-e2db39d285fd"
   },
   "outputs": [],
   "source": [
    "mse = round(mean_squared_error(test[target].values, pred_ans), 4)\n",
    "rmse = mse ** 0.5\n",
    "print('test RMSE', rmse)"
   ]
  },
  {
   "cell_type": "code",
   "execution_count": null,
   "metadata": {
    "persistent_id": "7b2737f8-abf6-4425-936e-2a9c18a3f76a"
   },
   "outputs": [],
   "source": []
  }
 ],
 "metadata": {
  "history": [],
  "kernelspec": {
   "display_name": "Python 3",
   "language": "python",
   "name": "python3"
  },
  "language_info": {
   "codemirror_mode": {
    "name": "ipython",
    "version": 3
   },
   "file_extension": ".py",
   "mimetype": "text/x-python",
   "name": "python",
   "nbconvert_exporter": "python",
   "pygments_lexer": "ipython3",
   "version": "3.7.6"
  },
  "uuid": "ae9d305e-1d6c-41a2-b1d7-2b8e4a88350a"
 },
 "nbformat": 4,
 "nbformat_minor": 4
}
