{
 "cells": [
  {
   "cell_type": "code",
   "execution_count": null,
   "metadata": {
    "persistent_id": "a354368e-30be-49e2-aa0e-48b278870bdd"
   },
   "outputs": [],
   "source": [
    "import os"
   ]
  },
  {
   "cell_type": "code",
   "execution_count": null,
   "metadata": {
    "persistent_id": "9808f4a5-11c6-4b93-be48-84be320dd608"
   },
   "outputs": [],
   "source": [
    "def get_filePath_list(file_dir):\n",
    "    filePath_list = []\n",
    "    for walk in os.walk(file_dir):\n",
    "        part_filePath_list = [os.path.join(walk[0], file) for file in walk[2]]\n",
    "        filePath_list.extend(part_filePath_list)\n",
    "    return filePath_list\n",
    "\n",
    "def get_files_list(file_dir, postfix='ALL'):\n",
    "    postfix = postfix.split('.')[-1]\n",
    "    file_list = []\n",
    "    filePath_list = get_filePath_list(file_dir)\n",
    "    if postfix == 'ALL':\n",
    "        file_list = filePath_list\n",
    "    else:\n",
    "        for file in filePath_list:\n",
    "            basename=os.path.basename(file)\n",
    "            postfix_basename = basename.split('.')[-1]\n",
    "            if postfix_basename == postfix:\n",
    "                file_list.append(file)\n",
    "    file_list.sort()\n",
    "    return file_list"
   ]
  },
  {
   "cell_type": "code",
   "execution_count": null,
   "metadata": {
    "persistent_id": "1c117afb-b07a-47b4-a3b5-b94147d3c4e8"
   },
   "outputs": [],
   "source": [
    "import jieba"
   ]
  },
  {
   "cell_type": "code",
   "execution_count": null,
   "metadata": {
    "persistent_id": "bf00dfe3-8cbb-49fa-bec6-78a22ee11cde"
   },
   "outputs": [],
   "source": [
    "def segment_files(file_list, segment_out_dir, stopwords=[]):\n",
    "    for i, file in enumerate(file_list):\n",
    "        segment_out_name = os.path.join(segment_out_dir, 'segment_{}.txt'.format(i))\n",
    "        with open(file, 'rb') as fin:\n",
    "            document = fin.read()\n",
    "            document_cut = jieba.cut(document)\n",
    "            sentence_segment=[]\n",
    "            for word in document_cut:\n",
    "                if word not in stopwords:\n",
    "                    sentence_segment.append(word)\n",
    "            result = ' '.join(sentence_segment)\n",
    "            result = result.encode('utf-8')\n",
    "            with open(segment_out_name, 'wb') as fout:\n",
    "                fout.write(result)        "
   ]
  },
  {
   "cell_type": "code",
   "execution_count": null,
   "metadata": {
    "persistent_id": "9bb57d62-3cc7-4a57-ad0b-8768f8534650"
   },
   "outputs": [],
   "source": [
    "#source and segment dir\n",
    "source_folder = './three_kingdoms/source'\n",
    "segment_folder = './three_kingdoms/segment'\n",
    "\n",
    "file_list = get_files_list(source_folder, postfix='*.txt')\n",
    "segment_files(file_list, segment_folder)"
   ]
  },
  {
   "cell_type": "code",
   "execution_count": null,
   "metadata": {
    "persistent_id": "a6d28fb3-a2f9-488f-aca1-dcfad60a308b"
   },
   "outputs": [],
   "source": [
    "from gensim.models import word2vec\n",
    "import multiprocessing"
   ]
  },
  {
   "cell_type": "code",
   "execution_count": null,
   "metadata": {
    "persistent_id": "ad824363-d45e-46f8-a650-2aff2031e0bc"
   },
   "outputs": [],
   "source": [
    "sentences = word2vec.PathLineSentences(segment_folder)"
   ]
  },
  {
   "cell_type": "code",
   "execution_count": null,
   "metadata": {
    "persistent_id": "589d5383-b4f8-46df-af56-bd0c35a226db"
   },
   "outputs": [],
   "source": [
    "for i, sentence in enumerate(sentences):\n",
    "    if i < 100:\n",
    "        print(sentence)"
   ]
  },
  {
   "cell_type": "code",
   "execution_count": null,
   "metadata": {
    "persistent_id": "549c0762-d643-4f69-8622-f5e6e1bec81a"
   },
   "outputs": [],
   "source": [
    "print('Train word2vec model with {} CPUs'.format(multiprocessing.cpu_count()))\n",
    "model = word2vec.Word2Vec(sentences, size=128, window=5, min_count = 5, workers=multiprocessing.cpu_count())\n",
    "\n",
    "if not os.path.exists('models'):\n",
    "    try:\n",
    "        os.makedirs('models')\n",
    "    except OSError as e:\n",
    "        if e.errno != errno.EEXIST:\n",
    "            raise\n",
    "# save model\n",
    "model.save('./models/word2Vec.model')"
   ]
  },
  {
   "cell_type": "code",
   "execution_count": null,
   "metadata": {
    "persistent_id": "9d73d7b3-0607-408f-9559-83a494f31399"
   },
   "outputs": [],
   "source": [
    "print(model.wv.most_similar('曹操'))\n",
    "print(model.wv.most_similar(positive=['曹操', '刘备'], negative=['张飞']))"
   ]
  },
  {
   "cell_type": "code",
   "execution_count": null,
   "metadata": {
    "persistent_id": "48ff08c8-ce5a-4e37-8b61-54fdbb975999"
   },
   "outputs": [],
   "source": []
  }
 ],
 "metadata": {
  "history": [],
  "kernelspec": {
   "display_name": "Python 3",
   "language": "python",
   "name": "python3"
  },
  "language_info": {
   "codemirror_mode": {
    "name": "ipython",
    "version": 3
   },
   "file_extension": ".py",
   "mimetype": "text/x-python",
   "name": "python",
   "nbconvert_exporter": "python",
   "pygments_lexer": "ipython3",
   "version": "3.7.6"
  },
  "uuid": "42e43bc8-51c8-4bc6-a1a5-fb6e3cff696d"
 },
 "nbformat": 4,
 "nbformat_minor": 4
}
