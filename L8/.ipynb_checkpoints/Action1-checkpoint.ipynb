{
 "cells": [
  {
   "cell_type": "markdown",
   "metadata": {},
   "source": [
    "## Action1：使用MinHashLSHForest对微博新闻句子进行检索 weibo.txt 针对某句话进行Query，查找Top-3相似的句子"
   ]
  },
  {
   "cell_type": "code",
   "execution_count": 36,
   "metadata": {
    "execution_event_id": "2fd5b402-6a12-4f7e-bddf-6ca90eed4f9f",
    "last_executed_text": "from datasketch import MinHash, MinHashLSH, MinHashLSHForest\nfrom sklearn.feature_extraction.text import TfidfVectorizer\nimport jieba.posseg as pseg\nimport re",
    "persistent_id": "b380f440-3234-4a00-bb5d-4ee159c4f00f"
   },
   "outputs": [],
   "source": [
    "from datasketch import MinHash, MinHashLSH, MinHashLSHForest\n",
    "from sklearn.feature_extraction.text import TfidfVectorizer\n",
    "import jieba.posseg as pseg\n",
    "import re"
   ]
  },
  {
   "cell_type": "code",
   "execution_count": 37,
   "metadata": {
    "execution_event_id": "92318d3e-ac04-4f0a-8a1e-b7ebe513ec09",
    "last_executed_text": "file = open('./weibos.txt', 'r', encoding='UTF-8')\ntext = file.read()",
    "persistent_id": "1d0b9dc9-a6c6-4736-ba99-6c0b782f014c"
   },
   "outputs": [],
   "source": [
    "file = open('./weibos.txt', 'r', encoding='UTF-8')\n",
    "text = file.read()"
   ]
  },
  {
   "cell_type": "code",
   "execution_count": 38,
   "metadata": {
    "execution_event_id": "e25c31ba-5fe1-4ae5-ab2d-e7b04d6505b9",
    "last_executed_text": "sentences = re.split('[。！？]', text.replace('\\n', ''))",
    "persistent_id": "7793b229-9b66-4ecb-8b1b-7e5d25a84f6e"
   },
   "outputs": [],
   "source": [
    "sentences = re.split('[。！？]', text.replace('\\n', ''))"
   ]
  },
  {
   "cell_type": "code",
   "execution_count": 39,
   "metadata": {
    "execution_event_id": "b0511485-570e-4dcc-8fd9-69d8416dde0a",
    "last_executed_text": "# 末行处理\nif sentences[len(sentences)-1] == '':\n    sentences.pop()",
    "persistent_id": "cb92d494-c62b-4b75-92f2-6d0ffa9d4227"
   },
   "outputs": [],
   "source": [
    "# 末行处理\n",
    "if sentences[len(sentences)-1] == '':\n",
    "    sentences.pop()"
   ]
  },
  {
   "cell_type": "code",
   "execution_count": 40,
   "metadata": {
    "execution_event_id": "e53aa517-1b7e-4b6e-a8d9-7a2122271573",
    "last_executed_text": "# 分词\ndef get_item_str(itms_text):\n    item_str= \"\"\n    item = (pseg.cut(item_text))\n    for i in list(item):\n        if i.word not in list(stop):\n            item_str += i.word\n            item_str += \" \"\n    return item_str\ndef get_minhash(item_str):\n    temp = MinHash()\n    for d in item_str:\n        temp.update(d.encode('utf8'))\n    return temp\n",
    "persistent_id": "93f0506b-be13-49c5-b8e1-3d3c9a16cac5"
   },
   "outputs": [],
   "source": [
    "# 分词\n",
    "def get_item_str(itms_text):\n",
    "    item_str= \"\"\n",
    "    item = (pseg.cut(item_text))\n",
    "    for i in list(item):\n",
    "        if i.word not in list(stop):\n",
    "            item_str += i.word\n",
    "            item_str += \" \"\n",
    "    return item_str\n",
    "def get_minhash(item_str):\n",
    "    temp = MinHash()\n",
    "    for d in item_str:\n",
    "        temp.update(d.encode('utf8'))\n",
    "    return temp\n"
   ]
  },
  {
   "cell_type": "code",
   "execution_count": 41,
   "metadata": {
    "execution_event_id": "d464eb29-620e-4a81-a385-17c51b8df503",
    "last_executed_text": "stop = [line.strip() for line in open('stopword.txt').readlines()]",
    "persistent_id": "83bbfa22-bb4b-41f3-835d-c1300d8807ed"
   },
   "outputs": [],
   "source": [
    "stop = [line.strip() for line in open('stopword.txt').readlines()]"
   ]
  },
  {
   "cell_type": "code",
   "execution_count": 42,
   "metadata": {
    "execution_event_id": "00155edc-f948-44ad-95ab-e0419293a07e",
    "last_executed_text": "documents = []",
    "persistent_id": "2d20317c-9e53-4f40-bd44-bd98006b08e2"
   },
   "outputs": [],
   "source": [
    "documents = []"
   ]
  },
  {
   "cell_type": "code",
   "execution_count": 43,
   "metadata": {
    "execution_event_id": "f45446c2-dd64-4c1d-9dc2-8301d0b0d216",
    "last_executed_text": "for item_text in sentences:\n    item_str = get_item_str(item_text)\n    documents.append(item_str)    ",
    "persistent_id": "6272e555-53f1-4adf-a049-19a094f8f84d"
   },
   "outputs": [],
   "source": [
    "for item_text in sentences:\n",
    "    item_str = get_item_str(item_text)\n",
    "    documents.append(item_str)    "
   ]
  },
  {
   "cell_type": "code",
   "execution_count": 44,
   "metadata": {
    "execution_event_id": "3db5d3aa-5c99-4b93-835c-a05ac99162ff",
    "last_executed_text": "minhash_list = []\nforest = MinHashLSHForest()\nfor i in range(len(documents)):\n    temp = get_minhash(documents[i])\n    minhash_list.append(temp)\n    forest.add(i, temp)\nforest.index()    ",
    "persistent_id": "851ece7c-81c5-4abe-8b34-49a89c61cfd9"
   },
   "outputs": [],
   "source": [
    "minhash_list = []\n",
    "forest = MinHashLSHForest()\n",
    "for i in range(len(documents)):\n",
    "    temp = get_minhash(documents[i])\n",
    "    minhash_list.append(temp)\n",
    "    forest.add(i, temp)\n",
    "forest.index()    "
   ]
  },
  {
   "cell_type": "code",
   "execution_count": 45,
   "metadata": {
    "execution_event_id": "0291f6b0-ec94-4393-b89d-e5b938d52759",
    "last_executed_text": "query = '国足输给叙利亚之后，里皮辞职'",
    "persistent_id": "a2542f83-03a3-4a14-9a16-e1a12249e2c0"
   },
   "outputs": [],
   "source": [
    "query = '国足输给叙利亚之后，里皮辞职'"
   ]
  },
  {
   "cell_type": "code",
   "execution_count": 46,
   "metadata": {
    "execution_event_id": "c06284d5-7e7d-4e85-9b86-a81b64388872",
    "last_executed_text": "item_str = get_item_str(query)",
    "persistent_id": "3478f2c4-0122-4f72-9e32-da54a8aaf0bf"
   },
   "outputs": [],
   "source": [
    "item_str = get_item_str(query)"
   ]
  },
  {
   "cell_type": "code",
   "execution_count": 47,
   "metadata": {
    "execution_event_id": "6a0ef10b-40b8-466b-8eff-f5a537faba4b",
    "last_executed_text": "minhash_query = get_minhash(item_str)",
    "persistent_id": "99d2a919-9db9-4ccc-9907-802a8eb22147"
   },
   "outputs": [],
   "source": [
    "minhash_query = get_minhash(item_str)"
   ]
  },
  {
   "cell_type": "code",
   "execution_count": 48,
   "metadata": {
    "execution_event_id": "ceb41e79-8a1e-4925-81a3-568b0795918f",
    "last_executed_text": "result = forest.query(minhash_query, 3)\nfor i in range(len(result)):\n    print(result[i], minhash_query.jaccard(minhash_list[result[i]]),documents[result[i]].replace(' ', ''))\nprint(\"Top 3 邻居\", result)",
    "persistent_id": "a0950084-0d90-434b-bc68-6b92ffef750f"
   },
   "outputs": [
    {
     "name": "stdout",
     "output_type": "stream",
     "text": [
      "1 0.5703125 ​国足输给叙利亚之后，里皮辞职\n",
      "34 0.3515625 国足输给叙利亚后，里皮坐不住了，直接辞职了难怪有网友说，爱护生命，远离男足\n",
      "37 1.0 国足昨晚1-2输给叙利亚，赛后主帅里皮宣布辞职\n",
      "Top 3 邻居 [1, 34, 37]\n"
     ]
    }
   ],
   "source": [
    "result = forest.query(minhash_query, 3)\n",
    "for i in range(len(result)):\n",
    "    print(result[i], minhash_query.jaccard(minhash_list[result[i]]),documents[result[i]].replace(' ', ''))\n",
    "print(\"Top 3 邻居\", result)"
   ]
  },
  {
   "cell_type": "code",
   "execution_count": null,
   "metadata": {
    "persistent_id": "4cc011ea-2d05-4550-8387-2df77d6a20ee"
   },
   "outputs": [],
   "source": []
  }
 ],
 "metadata": {
  "history": [
   {
    "cell": {
     "executionCount": 1,
     "executionEventId": "57c9a3f6-79fe-44aa-9bdb-b8da0e292903",
     "hasError": false,
     "id": "7a1dc809-0613-4f4d-ba89-a882eb3a167b",
     "outputs": [],
     "persistentId": "b380f440-3234-4a00-bb5d-4ee159c4f00f",
     "text": "from datasketch import MinHash, MinHashLSH, MinHashLSHForest"
    },
    "executionTime": "2020-03-07T05:43:29.039Z"
   },
   {
    "cell": {
     "executionCount": 2,
     "executionEventId": "2fd5b402-6a12-4f7e-bddf-6ca90eed4f9f",
     "hasError": false,
     "id": "7a1dc809-0613-4f4d-ba89-a882eb3a167b",
     "outputs": [],
     "persistentId": "b380f440-3234-4a00-bb5d-4ee159c4f00f",
     "text": "from datasketch import MinHash, MinHashLSH, MinHashLSHForest\nfrom sklearn.feature_extraction.text import TfidfVectorizer\nimport jieba.posseg as pseg\nimport re"
    },
    "executionTime": "2020-03-07T05:43:37.625Z"
   },
   {
    "cell": {
     "executionCount": 3,
     "executionEventId": "04095f43-a999-429b-b28c-2ec8b79c9b9d",
     "hasError": true,
     "id": "1ebaab56-9b30-44d3-a278-ee5c1f832a4c",
     "outputs": [
      {
       "ename": "NameError",
       "evalue": "name 'f' is not defined",
       "output_type": "error",
       "traceback": [
        "\u001b[0;31m---------------------------------------------------------------------------\u001b[0m",
        "\u001b[0;31mNameError\u001b[0m                                 Traceback (most recent call last)",
        "\u001b[0;32m<ipython-input-3-a15c3041cc81>\u001b[0m in \u001b[0;36m<module>\u001b[0;34m\u001b[0m\n\u001b[1;32m      1\u001b[0m \u001b[0mfile\u001b[0m \u001b[0;34m=\u001b[0m \u001b[0mopen\u001b[0m\u001b[0;34m(\u001b[0m\u001b[0;34m'./weibos.txt'\u001b[0m\u001b[0;34m,\u001b[0m \u001b[0;34m'r'\u001b[0m\u001b[0;34m,\u001b[0m \u001b[0mencoding\u001b[0m\u001b[0;34m=\u001b[0m\u001b[0;34m'UTF-8'\u001b[0m\u001b[0;34m)\u001b[0m\u001b[0;34m\u001b[0m\u001b[0;34m\u001b[0m\u001b[0m\n\u001b[0;32m----> 2\u001b[0;31m \u001b[0mtext\u001b[0m \u001b[0;34m=\u001b[0m \u001b[0mf\u001b[0m\u001b[0;34m.\u001b[0m\u001b[0mread\u001b[0m\u001b[0;34m(\u001b[0m\u001b[0;34m)\u001b[0m\u001b[0;34m\u001b[0m\u001b[0;34m\u001b[0m\u001b[0m\n\u001b[0m",
        "\u001b[0;31mNameError\u001b[0m: name 'f' is not defined"
       ]
      }
     ],
     "persistentId": "1d0b9dc9-a6c6-4736-ba99-6c0b782f014c",
     "text": "file = open('./weibos.txt', 'r', encoding='UTF-8')\ntext = f.read()"
    },
    "executionTime": "2020-03-07T05:45:12.864Z"
   },
   {
    "cell": {
     "executionCount": 4,
     "executionEventId": "ce53b0a0-6454-4dd0-935a-09d2d78fbe1d",
     "hasError": false,
     "id": "1ebaab56-9b30-44d3-a278-ee5c1f832a4c",
     "outputs": [],
     "persistentId": "1d0b9dc9-a6c6-4736-ba99-6c0b782f014c",
     "text": "file = open('./weibos.txt', 'r', encoding='UTF-8')\ntext = file.read()"
    },
    "executionTime": "2020-03-07T05:45:21.100Z"
   },
   {
    "cell": {
     "executionCount": 5,
     "executionEventId": "298a6df7-11c8-486f-92b3-b3e1af285a65",
     "hasError": false,
     "id": "24fc7bf6-51a1-454a-ae6c-0cb9e1d39fd6",
     "outputs": [],
     "persistentId": "7793b229-9b66-4ecb-8b1b-7e5d25a84f6e",
     "text": "sentences = re.split('[。！？]', text.replace('\\n', ''))"
    },
    "executionTime": "2020-03-07T05:46:24.043Z"
   },
   {
    "cell": {
     "executionCount": 6,
     "executionEventId": "d6f2cbb7-ccf0-4af2-8a4f-299faec702cb",
     "hasError": true,
     "id": "27ca11fd-b2a4-4f51-b108-322facde48b1",
     "outputs": [
      {
       "ename": "SyntaxError",
       "evalue": "invalid syntax (<ipython-input-6-68acc2dcd810>, line 1)",
       "output_type": "error",
       "traceback": [
        "\u001b[0;36m  File \u001b[0;32m\"<ipython-input-6-68acc2dcd810>\"\u001b[0;36m, line \u001b[0;32m1\u001b[0m\n\u001b[0;31m    if sentences[len(sentences)-1] == '';\u001b[0m\n\u001b[0m                                        ^\u001b[0m\n\u001b[0;31mSyntaxError\u001b[0m\u001b[0;31m:\u001b[0m invalid syntax\n"
       ]
      }
     ],
     "persistentId": "cb92d494-c62b-4b75-92f2-6d0ffa9d4227",
     "text": "if sentences[len(sentences)-1] == '';\n    sentences.pop()"
    },
    "executionTime": "2020-03-07T05:47:21.179Z"
   },
   {
    "cell": {
     "executionCount": 7,
     "executionEventId": "bc304189-2d4b-47a9-a7c3-8fafe1a253c5",
     "hasError": false,
     "id": "27ca11fd-b2a4-4f51-b108-322facde48b1",
     "outputs": [],
     "persistentId": "cb92d494-c62b-4b75-92f2-6d0ffa9d4227",
     "text": "if sentences[len(sentences)-1] == '':\n    sentences.pop()"
    },
    "executionTime": "2020-03-07T05:47:30.888Z"
   },
   {
    "cell": {
     "executionCount": 8,
     "executionEventId": "3f7c1a74-54ab-4566-a4ee-dda113e4c8bf",
     "hasError": false,
     "id": "3e4e0524-a28d-4918-b226-e6b6fc638ded",
     "outputs": [],
     "persistentId": "93f0506b-be13-49c5-b8e1-3d3c9a16cac5",
     "text": "# 分词"
    },
    "executionTime": "2020-03-07T05:48:05.762Z"
   },
   {
    "cell": {
     "executionCount": 9,
     "executionEventId": "dc82b61c-e4cd-4556-ba49-04c157ff14a0",
     "hasError": true,
     "id": "3e4e0524-a28d-4918-b226-e6b6fc638ded",
     "outputs": [
      {
       "ename": "SyntaxError",
       "evalue": "invalid syntax (<ipython-input-9-ead7b37e57ae>, line 2)",
       "output_type": "error",
       "traceback": [
        "\u001b[0;36m  File \u001b[0;32m\"<ipython-input-9-ead7b37e57ae>\"\u001b[0;36m, line \u001b[0;32m2\u001b[0m\n\u001b[0;31m    def get_item_str(itms_text))\u001b[0m\n\u001b[0m                               ^\u001b[0m\n\u001b[0;31mSyntaxError\u001b[0m\u001b[0;31m:\u001b[0m invalid syntax\n"
       ]
      }
     ],
     "persistentId": "93f0506b-be13-49c5-b8e1-3d3c9a16cac5",
     "text": "# 分词\ndef get_item_str(itms_text))\n    item_str= \"\"\n    item = (pseg.cut(item_text)):\n        for i in list(item):\n            if i.word not in list(stop):\n                item_str += i.word\n                item_str += \" \"\n        return item_str\ndef get_minhash(item_str):\n    temp = MinHash()\n    for d in item_str:\n        temp.update(d.encode('utf8'))\n    return temp\n"
    },
    "executionTime": "2020-03-07T05:51:29.276Z"
   },
   {
    "cell": {
     "executionCount": 10,
     "executionEventId": "c79134c9-5c7b-4c37-9a0c-24fd618964c8",
     "hasError": true,
     "id": "3e4e0524-a28d-4918-b226-e6b6fc638ded",
     "outputs": [
      {
       "ename": "SyntaxError",
       "evalue": "invalid syntax (<ipython-input-10-b31b99dbe294>, line 2)",
       "output_type": "error",
       "traceback": [
        "\u001b[0;36m  File \u001b[0;32m\"<ipython-input-10-b31b99dbe294>\"\u001b[0;36m, line \u001b[0;32m2\u001b[0m\n\u001b[0;31m    def get_item_str(itms_text)):\u001b[0m\n\u001b[0m                               ^\u001b[0m\n\u001b[0;31mSyntaxError\u001b[0m\u001b[0;31m:\u001b[0m invalid syntax\n"
       ]
      }
     ],
     "persistentId": "93f0506b-be13-49c5-b8e1-3d3c9a16cac5",
     "text": "# 分词\ndef get_item_str(itms_text)):\n    item_str= \"\"\n    item = (pseg.cut(item_text)):\n        for i in list(item):\n            if i.word not in list(stop):\n                item_str += i.word\n                item_str += \" \"\n        return item_str\ndef get_minhash(item_str):\n    temp = MinHash()\n    for d in item_str:\n        temp.update(d.encode('utf8'))\n    return temp\n"
    },
    "executionTime": "2020-03-07T05:51:36.442Z"
   },
   {
    "cell": {
     "executionCount": 11,
     "executionEventId": "0cc9651b-1966-46ad-bab6-7cc7d53781da",
     "hasError": true,
     "id": "3e4e0524-a28d-4918-b226-e6b6fc638ded",
     "outputs": [
      {
       "ename": "SyntaxError",
       "evalue": "invalid syntax (<ipython-input-11-5bbe43551dee>, line 4)",
       "output_type": "error",
       "traceback": [
        "\u001b[0;36m  File \u001b[0;32m\"<ipython-input-11-5bbe43551dee>\"\u001b[0;36m, line \u001b[0;32m4\u001b[0m\n\u001b[0;31m    item = (pseg.cut(item_text)):\u001b[0m\n\u001b[0m                                ^\u001b[0m\n\u001b[0;31mSyntaxError\u001b[0m\u001b[0;31m:\u001b[0m invalid syntax\n"
       ]
      }
     ],
     "persistentId": "93f0506b-be13-49c5-b8e1-3d3c9a16cac5",
     "text": "# 分词\ndef get_item_str(itms_text):\n    item_str= \"\"\n    item = (pseg.cut(item_text)):\n        for i in list(item):\n            if i.word not in list(stop):\n                item_str += i.word\n                item_str += \" \"\n        return item_str\ndef get_minhash(item_str):\n    temp = MinHash()\n    for d in item_str:\n        temp.update(d.encode('utf8'))\n    return temp\n"
    },
    "executionTime": "2020-03-07T05:51:46.300Z"
   },
   {
    "cell": {
     "executionCount": 12,
     "executionEventId": "ed6b7f13-86ec-449b-b53e-4bfa6d6f0be6",
     "hasError": true,
     "id": "3e4e0524-a28d-4918-b226-e6b6fc638ded",
     "outputs": [
      {
       "ename": "IndentationError",
       "evalue": "unexpected indent (<ipython-input-12-4b4a0053705d>, line 5)",
       "output_type": "error",
       "traceback": [
        "\u001b[0;36m  File \u001b[0;32m\"<ipython-input-12-4b4a0053705d>\"\u001b[0;36m, line \u001b[0;32m5\u001b[0m\n\u001b[0;31m    for i in list(item):\u001b[0m\n\u001b[0m    ^\u001b[0m\n\u001b[0;31mIndentationError\u001b[0m\u001b[0;31m:\u001b[0m unexpected indent\n"
       ]
      }
     ],
     "persistentId": "93f0506b-be13-49c5-b8e1-3d3c9a16cac5",
     "text": "# 分词\ndef get_item_str(itms_text):\n    item_str= \"\"\n    item = (pseg.cut(item_text))\n        for i in list(item):\n            if i.word not in list(stop):\n                item_str += i.word\n                item_str += \" \"\n        return item_str\ndef get_minhash(item_str):\n    temp = MinHash()\n    for d in item_str:\n        temp.update(d.encode('utf8'))\n    return temp\n"
    },
    "executionTime": "2020-03-07T05:52:03.176Z"
   },
   {
    "cell": {
     "executionCount": 13,
     "executionEventId": "cfb090a7-596d-4b80-bd9c-cae6305458d9",
     "hasError": false,
     "id": "3e4e0524-a28d-4918-b226-e6b6fc638ded",
     "outputs": [],
     "persistentId": "93f0506b-be13-49c5-b8e1-3d3c9a16cac5",
     "text": "# 分词\ndef get_item_str(itms_text):\n    item_str= \"\"\n    item = (pseg.cut(item_text))\n    for i in list(item):\n        if i.word not in list(stop):\n            item_str += i.word\n            item_str += \" \"\n    return item_str\ndef get_minhash(item_str):\n    temp = MinHash()\n    for d in item_str:\n        temp.update(d.encode('utf8'))\n    return temp\n"
    },
    "executionTime": "2020-03-07T05:52:18.352Z"
   },
   {
    "cell": {
     "executionCount": 14,
     "executionEventId": "dee9a289-5a80-41e6-9ab3-df1d2efd4198",
     "hasError": true,
     "id": "ad4e05ed-f840-4e2c-b2c8-536f20794bfd",
     "outputs": [
      {
       "ename": "AttributeError",
       "evalue": "'str' object has no attribute 'decode'",
       "output_type": "error",
       "traceback": [
        "\u001b[0;31m---------------------------------------------------------------------------\u001b[0m",
        "\u001b[0;31mAttributeError\u001b[0m                            Traceback (most recent call last)",
        "\u001b[0;32m<ipython-input-14-1750f418d33d>\u001b[0m in \u001b[0;36m<module>\u001b[0;34m\u001b[0m\n\u001b[0;32m----> 1\u001b[0;31m \u001b[0mstop\u001b[0m \u001b[0;34m=\u001b[0m \u001b[0;34m[\u001b[0m\u001b[0mline\u001b[0m\u001b[0;34m.\u001b[0m\u001b[0mstrip\u001b[0m\u001b[0;34m(\u001b[0m\u001b[0;34m)\u001b[0m\u001b[0;34m.\u001b[0m\u001b[0mdecode\u001b[0m\u001b[0;34m(\u001b[0m\u001b[0;34m'utf-8'\u001b[0m\u001b[0;34m)\u001b[0m \u001b[0;32mfor\u001b[0m \u001b[0mline\u001b[0m \u001b[0;32min\u001b[0m \u001b[0mopen\u001b[0m\u001b[0;34m(\u001b[0m\u001b[0;34m'stopword.txt'\u001b[0m\u001b[0;34m)\u001b[0m\u001b[0;34m.\u001b[0m\u001b[0mreadlines\u001b[0m\u001b[0;34m(\u001b[0m\u001b[0;34m)\u001b[0m\u001b[0;34m]\u001b[0m\u001b[0;34m\u001b[0m\u001b[0;34m\u001b[0m\u001b[0m\n\u001b[0m",
        "\u001b[0;32m<ipython-input-14-1750f418d33d>\u001b[0m in \u001b[0;36m<listcomp>\u001b[0;34m(.0)\u001b[0m\n\u001b[0;32m----> 1\u001b[0;31m \u001b[0mstop\u001b[0m \u001b[0;34m=\u001b[0m \u001b[0;34m[\u001b[0m\u001b[0mline\u001b[0m\u001b[0;34m.\u001b[0m\u001b[0mstrip\u001b[0m\u001b[0;34m(\u001b[0m\u001b[0;34m)\u001b[0m\u001b[0;34m.\u001b[0m\u001b[0mdecode\u001b[0m\u001b[0;34m(\u001b[0m\u001b[0;34m'utf-8'\u001b[0m\u001b[0;34m)\u001b[0m \u001b[0;32mfor\u001b[0m \u001b[0mline\u001b[0m \u001b[0;32min\u001b[0m \u001b[0mopen\u001b[0m\u001b[0;34m(\u001b[0m\u001b[0;34m'stopword.txt'\u001b[0m\u001b[0;34m)\u001b[0m\u001b[0;34m.\u001b[0m\u001b[0mreadlines\u001b[0m\u001b[0;34m(\u001b[0m\u001b[0;34m)\u001b[0m\u001b[0;34m]\u001b[0m\u001b[0;34m\u001b[0m\u001b[0;34m\u001b[0m\u001b[0m\n\u001b[0m",
        "\u001b[0;31mAttributeError\u001b[0m: 'str' object has no attribute 'decode'"
       ]
      }
     ],
     "persistentId": "83bbfa22-bb4b-41f3-835d-c1300d8807ed",
     "text": "stop = [line.strip().decode('utf-8') for line in open('stopword.txt').readlines()]"
    },
    "executionTime": "2020-03-07T05:53:54.465Z"
   },
   {
    "cell": {
     "executionCount": 15,
     "executionEventId": "b480cdcd-e682-491a-a3f7-f88ea704efc9",
     "hasError": false,
     "id": "ad4e05ed-f840-4e2c-b2c8-536f20794bfd",
     "outputs": [],
     "persistentId": "83bbfa22-bb4b-41f3-835d-c1300d8807ed",
     "text": "stop = [line.strip() for line in open('stopword.txt').readlines()]"
    },
    "executionTime": "2020-03-07T05:54:06.666Z"
   },
   {
    "cell": {
     "executionCount": 16,
     "executionEventId": "9febc8b2-7760-45b4-8d03-51f93dfa7769",
     "hasError": false,
     "id": "1b7d66c0-3a91-4ef0-a570-08031df9c62e",
     "outputs": [],
     "persistentId": "2d20317c-9e53-4f40-bd44-bd98006b08e2",
     "text": "decuments = []"
    },
    "executionTime": "2020-03-07T05:54:15.836Z"
   },
   {
    "cell": {
     "executionCount": 17,
     "executionEventId": "67525db2-ffa6-4308-b19b-b74a3b2bd166",
     "hasError": true,
     "id": "e6e46b2d-92ed-4672-968a-085b088c0305",
     "outputs": [
      {
       "name": "stderr",
       "output_type": "stream",
       "text": "Building prefix dict from the default dictionary ...\nLoading model from cache /tmp/jieba.cache\nLoading model cost 0.967 seconds.\nPrefix dict has been built successfully.\n"
      },
      {
       "ename": "NameError",
       "evalue": "name 'documnents' is not defined",
       "output_type": "error",
       "traceback": [
        "\u001b[0;31m---------------------------------------------------------------------------\u001b[0m",
        "\u001b[0;31mNameError\u001b[0m                                 Traceback (most recent call last)",
        "\u001b[0;32m<ipython-input-17-1e1965582996>\u001b[0m in \u001b[0;36m<module>\u001b[0;34m\u001b[0m\n\u001b[1;32m      1\u001b[0m \u001b[0;32mfor\u001b[0m \u001b[0mitem_text\u001b[0m \u001b[0;32min\u001b[0m \u001b[0msentences\u001b[0m\u001b[0;34m:\u001b[0m\u001b[0;34m\u001b[0m\u001b[0;34m\u001b[0m\u001b[0m\n\u001b[1;32m      2\u001b[0m     \u001b[0mitem_str\u001b[0m \u001b[0;34m=\u001b[0m \u001b[0mget_item_str\u001b[0m\u001b[0;34m(\u001b[0m\u001b[0mitem_text\u001b[0m\u001b[0;34m)\u001b[0m\u001b[0;34m\u001b[0m\u001b[0;34m\u001b[0m\u001b[0m\n\u001b[0;32m----> 3\u001b[0;31m     \u001b[0mdocumnents\u001b[0m\u001b[0;34m.\u001b[0m\u001b[0mappend\u001b[0m\u001b[0;34m(\u001b[0m\u001b[0mitem_str\u001b[0m\u001b[0;34m)\u001b[0m\u001b[0;34m\u001b[0m\u001b[0;34m\u001b[0m\u001b[0m\n\u001b[0m",
        "\u001b[0;31mNameError\u001b[0m: name 'documnents' is not defined"
       ]
      }
     ],
     "persistentId": "6272e555-53f1-4adf-a049-19a094f8f84d",
     "text": "for item_text in sentences:\n    item_str = get_item_str(item_text)\n    documnents.append(item_str)    "
    },
    "executionTime": "2020-03-07T05:55:11.283Z"
   },
   {
    "cell": {
     "executionCount": 18,
     "executionEventId": "7d6c5364-7f92-4b2a-a73f-8db65aa2bc13",
     "hasError": true,
     "id": "e6e46b2d-92ed-4672-968a-085b088c0305",
     "outputs": [
      {
       "ename": "NameError",
       "evalue": "name 'documents' is not defined",
       "output_type": "error",
       "traceback": [
        "\u001b[0;31m---------------------------------------------------------------------------\u001b[0m",
        "\u001b[0;31mNameError\u001b[0m                                 Traceback (most recent call last)",
        "\u001b[0;32m<ipython-input-18-e1c59bc1e3f8>\u001b[0m in \u001b[0;36m<module>\u001b[0;34m\u001b[0m\n\u001b[1;32m      1\u001b[0m \u001b[0;32mfor\u001b[0m \u001b[0mitem_text\u001b[0m \u001b[0;32min\u001b[0m \u001b[0msentences\u001b[0m\u001b[0;34m:\u001b[0m\u001b[0;34m\u001b[0m\u001b[0;34m\u001b[0m\u001b[0m\n\u001b[1;32m      2\u001b[0m     \u001b[0mitem_str\u001b[0m \u001b[0;34m=\u001b[0m \u001b[0mget_item_str\u001b[0m\u001b[0;34m(\u001b[0m\u001b[0mitem_text\u001b[0m\u001b[0;34m)\u001b[0m\u001b[0;34m\u001b[0m\u001b[0;34m\u001b[0m\u001b[0m\n\u001b[0;32m----> 3\u001b[0;31m     \u001b[0mdocuments\u001b[0m\u001b[0;34m.\u001b[0m\u001b[0mappend\u001b[0m\u001b[0;34m(\u001b[0m\u001b[0mitem_str\u001b[0m\u001b[0;34m)\u001b[0m\u001b[0;34m\u001b[0m\u001b[0;34m\u001b[0m\u001b[0m\n\u001b[0m",
        "\u001b[0;31mNameError\u001b[0m: name 'documents' is not defined"
       ]
      }
     ],
     "persistentId": "6272e555-53f1-4adf-a049-19a094f8f84d",
     "text": "for item_text in sentences:\n    item_str = get_item_str(item_text)\n    documents.append(item_str)    "
    },
    "executionTime": "2020-03-07T05:55:23.231Z"
   },
   {
    "cell": {
     "executionCount": 19,
     "executionEventId": "1430a6cd-241a-43b5-9181-b192dde39b85",
     "hasError": false,
     "id": "1b7d66c0-3a91-4ef0-a570-08031df9c62e",
     "outputs": [],
     "persistentId": "2d20317c-9e53-4f40-bd44-bd98006b08e2",
     "text": "documents = []"
    },
    "executionTime": "2020-03-07T05:55:30.409Z"
   },
   {
    "cell": {
     "executionCount": 20,
     "executionEventId": "7748d9eb-59f5-4998-b922-44d93f60b749",
     "hasError": false,
     "id": "1b7d66c0-3a91-4ef0-a570-08031df9c62e",
     "outputs": [],
     "persistentId": "2d20317c-9e53-4f40-bd44-bd98006b08e2",
     "text": "documents = []"
    },
    "executionTime": "2020-03-07T05:55:38.059Z"
   },
   {
    "cell": {
     "executionCount": 21,
     "executionEventId": "e77b3f48-93bf-42c7-b741-5bb606676a27",
     "hasError": false,
     "id": "e6e46b2d-92ed-4672-968a-085b088c0305",
     "outputs": [],
     "persistentId": "6272e555-53f1-4adf-a049-19a094f8f84d",
     "text": "for item_text in sentences:\n    item_str = get_item_str(item_text)\n    documents.append(item_str)    "
    },
    "executionTime": "2020-03-07T05:55:40.819Z"
   },
   {
    "cell": {
     "executionCount": 22,
     "executionEventId": "685fc709-ae5d-43ea-8c82-86b661cd2689",
     "hasError": true,
     "id": "f48e8928-d3e0-4e7e-b10e-0b2b64f8c2a6",
     "outputs": [
      {
       "ename": "NameError",
       "evalue": "name 'forest' is not defined",
       "output_type": "error",
       "traceback": [
        "\u001b[0;31m---------------------------------------------------------------------------\u001b[0m",
        "\u001b[0;31mNameError\u001b[0m                                 Traceback (most recent call last)",
        "\u001b[0;32m<ipython-input-22-70c7e15be24b>\u001b[0m in \u001b[0;36m<module>\u001b[0;34m\u001b[0m\n\u001b[1;32m      4\u001b[0m     \u001b[0mtemp\u001b[0m \u001b[0;34m=\u001b[0m \u001b[0mget_minhash\u001b[0m\u001b[0;34m(\u001b[0m\u001b[0mdocuments\u001b[0m\u001b[0;34m[\u001b[0m\u001b[0mi\u001b[0m\u001b[0;34m]\u001b[0m\u001b[0;34m)\u001b[0m\u001b[0;34m\u001b[0m\u001b[0;34m\u001b[0m\u001b[0m\n\u001b[1;32m      5\u001b[0m     \u001b[0mminhash_list\u001b[0m\u001b[0;34m.\u001b[0m\u001b[0mappend\u001b[0m\u001b[0;34m(\u001b[0m\u001b[0mtemp\u001b[0m\u001b[0;34m)\u001b[0m\u001b[0;34m\u001b[0m\u001b[0;34m\u001b[0m\u001b[0m\n\u001b[0;32m----> 6\u001b[0;31m     \u001b[0mforest\u001b[0m\u001b[0;34m.\u001b[0m\u001b[0madd\u001b[0m\u001b[0;34m(\u001b[0m\u001b[0mi\u001b[0m\u001b[0;34m,\u001b[0m \u001b[0mtemp\u001b[0m\u001b[0;34m)\u001b[0m\u001b[0;34m\u001b[0m\u001b[0;34m\u001b[0m\u001b[0m\n\u001b[0m\u001b[1;32m      7\u001b[0m \u001b[0mforest\u001b[0m\u001b[0;34m.\u001b[0m\u001b[0mindex\u001b[0m\u001b[0;34m(\u001b[0m\u001b[0;34m)\u001b[0m\u001b[0;34m\u001b[0m\u001b[0;34m\u001b[0m\u001b[0m\n",
        "\u001b[0;31mNameError\u001b[0m: name 'forest' is not defined"
       ]
      }
     ],
     "persistentId": "851ece7c-81c5-4abe-8b34-49a89c61cfd9",
     "text": "minhash_list = []\nforset = MinHashLSHForest()\nfor i in range(len(documents)):\n    temp = get_minhash(documents[i])\n    minhash_list.append(temp)\n    forest.add(i, temp)\nforest.index()    "
    },
    "executionTime": "2020-03-07T05:57:03.701Z"
   },
   {
    "cell": {
     "executionCount": 23,
     "executionEventId": "8b6597a7-8758-43a8-9e4b-10d5008f3112",
     "hasError": false,
     "id": "f48e8928-d3e0-4e7e-b10e-0b2b64f8c2a6",
     "outputs": [],
     "persistentId": "851ece7c-81c5-4abe-8b34-49a89c61cfd9",
     "text": "minhash_list = []\nforest = MinHashLSHForest()\nfor i in range(len(documents)):\n    temp = get_minhash(documents[i])\n    minhash_list.append(temp)\n    forest.add(i, temp)\nforest.index()    "
    },
    "executionTime": "2020-03-07T05:57:30.565Z"
   },
   {
    "cell": {
     "executionCount": 24,
     "executionEventId": "8efbaa02-f867-49fb-9cb6-e3c1b49528ed",
     "hasError": false,
     "id": "25073f0b-bd90-478e-a9ab-3e54e1370105",
     "outputs": [],
     "persistentId": "a2542f83-03a3-4a14-9a16-e1a12249e2c0",
     "text": "query = '国足输给叙利亚之后，里皮辞职'"
    },
    "executionTime": "2020-03-07T05:58:06.523Z"
   },
   {
    "cell": {
     "executionCount": 25,
     "executionEventId": "65e8d5ea-d8d7-49ad-b23d-430434673064",
     "hasError": false,
     "id": "11bcbbc2-2592-4fc4-ac76-f993d42bc412",
     "outputs": [],
     "persistentId": "3478f2c4-0122-4f72-9e32-da54a8aaf0bf",
     "text": "item_str = get_item_str(query)"
    },
    "executionTime": "2020-03-07T05:58:23.465Z"
   },
   {
    "cell": {
     "executionCount": 26,
     "executionEventId": "e45b1254-0480-49ba-b332-d9ad9fb5d400",
     "hasError": false,
     "id": "9c8409ef-36c9-4be3-a913-603ad923f9ad",
     "outputs": [],
     "persistentId": "99d2a919-9db9-4ccc-9907-802a8eb22147",
     "text": "minhash_query = get_minhash(item_str)"
    },
    "executionTime": "2020-03-07T05:58:37.577Z"
   },
   {
    "cell": {
     "executionCount": 27,
     "executionEventId": "1c7a1311-9c0c-4a68-b7ab-44b8b26b83f5",
     "hasError": true,
     "id": "c2858cee-15f3-4902-be00-2d9e1c3e83df",
     "outputs": [
      {
       "name": "stdout",
       "output_type": "stream",
       "text": "1 0.5703125\n"
      },
      {
       "ename": "TypeError",
       "evalue": "replace() takes at least 2 arguments (1 given)",
       "output_type": "error",
       "traceback": [
        "\u001b[0;31m---------------------------------------------------------------------------\u001b[0m",
        "\u001b[0;31mTypeError\u001b[0m                                 Traceback (most recent call last)",
        "\u001b[0;32m<ipython-input-27-7a6540a7958c>\u001b[0m in \u001b[0;36m<module>\u001b[0;34m\u001b[0m\n\u001b[1;32m      2\u001b[0m \u001b[0;32mfor\u001b[0m \u001b[0mi\u001b[0m \u001b[0;32min\u001b[0m \u001b[0mrange\u001b[0m\u001b[0;34m(\u001b[0m\u001b[0mlen\u001b[0m\u001b[0;34m(\u001b[0m\u001b[0mresult\u001b[0m\u001b[0;34m)\u001b[0m\u001b[0;34m)\u001b[0m\u001b[0;34m:\u001b[0m\u001b[0;34m\u001b[0m\u001b[0;34m\u001b[0m\u001b[0m\n\u001b[1;32m      3\u001b[0m     \u001b[0mprint\u001b[0m\u001b[0;34m(\u001b[0m\u001b[0mresult\u001b[0m\u001b[0;34m[\u001b[0m\u001b[0mi\u001b[0m\u001b[0;34m]\u001b[0m\u001b[0;34m,\u001b[0m \u001b[0mminhash_query\u001b[0m\u001b[0;34m.\u001b[0m\u001b[0mjaccard\u001b[0m\u001b[0;34m(\u001b[0m\u001b[0mminhash_list\u001b[0m\u001b[0;34m[\u001b[0m\u001b[0mresult\u001b[0m\u001b[0;34m[\u001b[0m\u001b[0mi\u001b[0m\u001b[0;34m]\u001b[0m\u001b[0;34m]\u001b[0m\u001b[0;34m)\u001b[0m\u001b[0;34m)\u001b[0m\u001b[0;34m,\u001b[0m\u001b[0;34m\u001b[0m\u001b[0;34m\u001b[0m\u001b[0m\n\u001b[0;32m----> 4\u001b[0;31m     \u001b[0mdocuments\u001b[0m\u001b[0;34m[\u001b[0m\u001b[0mresult\u001b[0m\u001b[0;34m[\u001b[0m\u001b[0mi\u001b[0m\u001b[0;34m]\u001b[0m\u001b[0;34m]\u001b[0m\u001b[0;34m.\u001b[0m\u001b[0mreplace\u001b[0m\u001b[0;34m(\u001b[0m\u001b[0;34m(\u001b[0m\u001b[0;34m' '\u001b[0m\u001b[0;34m,\u001b[0m \u001b[0;34m''\u001b[0m\u001b[0;34m)\u001b[0m\u001b[0;34m)\u001b[0m\u001b[0;34m\u001b[0m\u001b[0;34m\u001b[0m\u001b[0m\n\u001b[0m\u001b[1;32m      5\u001b[0m     \u001b[0mpreint\u001b[0m\u001b[0;34m(\u001b[0m\u001b[0;34m\"Top 3 邻居\"\u001b[0m\u001b[0;34m,\u001b[0m \u001b[0mresult\u001b[0m\u001b[0;34m)\u001b[0m\u001b[0;34m\u001b[0m\u001b[0;34m\u001b[0m\u001b[0m\n",
        "\u001b[0;31mTypeError\u001b[0m: replace() takes at least 2 arguments (1 given)"
       ]
      }
     ],
     "persistentId": "a0950084-0d90-434b-bc68-6b92ffef750f",
     "text": "result = forest.query(minhash_query, 3)\nfor i in range(len(result)):\n    print(result[i], minhash_query.jaccard(minhash_list[result[i]])),\n    documents[result[i]].replace((' ', ''))\n    preint(\"Top 3 邻居\", result)"
    },
    "executionTime": "2020-03-07T06:00:23.191Z"
   },
   {
    "cell": {
     "executionCount": 28,
     "executionEventId": "feb3405a-441f-4ccd-8996-db4ec8a5683a",
     "hasError": true,
     "id": "c2858cee-15f3-4902-be00-2d9e1c3e83df",
     "outputs": [
      {
       "name": "stdout",
       "output_type": "stream",
       "text": "1 0.5703125\n34 0.3515625\n37 1.0\n"
      },
      {
       "ename": "TypeError",
       "evalue": "replace() takes at least 2 arguments (1 given)",
       "output_type": "error",
       "traceback": [
        "\u001b[0;31m---------------------------------------------------------------------------\u001b[0m",
        "\u001b[0;31mTypeError\u001b[0m                                 Traceback (most recent call last)",
        "\u001b[0;32m<ipython-input-28-9df51e6f9830>\u001b[0m in \u001b[0;36m<module>\u001b[0;34m\u001b[0m\n\u001b[1;32m      2\u001b[0m \u001b[0;32mfor\u001b[0m \u001b[0mi\u001b[0m \u001b[0;32min\u001b[0m \u001b[0mrange\u001b[0m\u001b[0;34m(\u001b[0m\u001b[0mlen\u001b[0m\u001b[0;34m(\u001b[0m\u001b[0mresult\u001b[0m\u001b[0;34m)\u001b[0m\u001b[0;34m)\u001b[0m\u001b[0;34m:\u001b[0m\u001b[0;34m\u001b[0m\u001b[0;34m\u001b[0m\u001b[0m\n\u001b[1;32m      3\u001b[0m     \u001b[0mprint\u001b[0m\u001b[0;34m(\u001b[0m\u001b[0mresult\u001b[0m\u001b[0;34m[\u001b[0m\u001b[0mi\u001b[0m\u001b[0;34m]\u001b[0m\u001b[0;34m,\u001b[0m \u001b[0mminhash_query\u001b[0m\u001b[0;34m.\u001b[0m\u001b[0mjaccard\u001b[0m\u001b[0;34m(\u001b[0m\u001b[0mminhash_list\u001b[0m\u001b[0;34m[\u001b[0m\u001b[0mresult\u001b[0m\u001b[0;34m[\u001b[0m\u001b[0mi\u001b[0m\u001b[0;34m]\u001b[0m\u001b[0;34m]\u001b[0m\u001b[0;34m)\u001b[0m\u001b[0;34m)\u001b[0m\u001b[0;34m,\u001b[0m\u001b[0;34m\u001b[0m\u001b[0;34m\u001b[0m\u001b[0m\n\u001b[0;32m----> 4\u001b[0;31m \u001b[0mdocuments\u001b[0m\u001b[0;34m[\u001b[0m\u001b[0mresult\u001b[0m\u001b[0;34m[\u001b[0m\u001b[0mi\u001b[0m\u001b[0;34m]\u001b[0m\u001b[0;34m]\u001b[0m\u001b[0;34m.\u001b[0m\u001b[0mreplace\u001b[0m\u001b[0;34m(\u001b[0m\u001b[0;34m(\u001b[0m\u001b[0;34m' '\u001b[0m\u001b[0;34m,\u001b[0m \u001b[0;34m''\u001b[0m\u001b[0;34m)\u001b[0m\u001b[0;34m)\u001b[0m\u001b[0;34m\u001b[0m\u001b[0;34m\u001b[0m\u001b[0m\n\u001b[0m\u001b[1;32m      5\u001b[0m \u001b[0mpreint\u001b[0m\u001b[0;34m(\u001b[0m\u001b[0;34m\"Top 3 邻居\"\u001b[0m\u001b[0;34m,\u001b[0m \u001b[0mresult\u001b[0m\u001b[0;34m)\u001b[0m\u001b[0;34m\u001b[0m\u001b[0;34m\u001b[0m\u001b[0m\n",
        "\u001b[0;31mTypeError\u001b[0m: replace() takes at least 2 arguments (1 given)"
       ]
      }
     ],
     "persistentId": "a0950084-0d90-434b-bc68-6b92ffef750f",
     "text": "result = forest.query(minhash_query, 3)\nfor i in range(len(result)):\n    print(result[i], minhash_query.jaccard(minhash_list[result[i]])),\ndocuments[result[i]].replace((' ', ''))\npreint(\"Top 3 邻居\", result)"
    },
    "executionTime": "2020-03-07T06:00:46.200Z"
   },
   {
    "cell": {
     "executionCount": 29,
     "executionEventId": "d1c5f210-e700-4586-9895-521d3f2e421a",
     "hasError": true,
     "id": "c2858cee-15f3-4902-be00-2d9e1c3e83df",
     "outputs": [
      {
       "name": "stdout",
       "output_type": "stream",
       "text": "1 0.5703125\n34 0.3515625\n37 1.0\n"
      },
      {
       "ename": "TypeError",
       "evalue": "replace() takes at least 2 arguments (1 given)",
       "output_type": "error",
       "traceback": [
        "\u001b[0;31m---------------------------------------------------------------------------\u001b[0m",
        "\u001b[0;31mTypeError\u001b[0m                                 Traceback (most recent call last)",
        "\u001b[0;32m<ipython-input-29-9df51e6f9830>\u001b[0m in \u001b[0;36m<module>\u001b[0;34m\u001b[0m\n\u001b[1;32m      2\u001b[0m \u001b[0;32mfor\u001b[0m \u001b[0mi\u001b[0m \u001b[0;32min\u001b[0m \u001b[0mrange\u001b[0m\u001b[0;34m(\u001b[0m\u001b[0mlen\u001b[0m\u001b[0;34m(\u001b[0m\u001b[0mresult\u001b[0m\u001b[0;34m)\u001b[0m\u001b[0;34m)\u001b[0m\u001b[0;34m:\u001b[0m\u001b[0;34m\u001b[0m\u001b[0;34m\u001b[0m\u001b[0m\n\u001b[1;32m      3\u001b[0m     \u001b[0mprint\u001b[0m\u001b[0;34m(\u001b[0m\u001b[0mresult\u001b[0m\u001b[0;34m[\u001b[0m\u001b[0mi\u001b[0m\u001b[0;34m]\u001b[0m\u001b[0;34m,\u001b[0m \u001b[0mminhash_query\u001b[0m\u001b[0;34m.\u001b[0m\u001b[0mjaccard\u001b[0m\u001b[0;34m(\u001b[0m\u001b[0mminhash_list\u001b[0m\u001b[0;34m[\u001b[0m\u001b[0mresult\u001b[0m\u001b[0;34m[\u001b[0m\u001b[0mi\u001b[0m\u001b[0;34m]\u001b[0m\u001b[0;34m]\u001b[0m\u001b[0;34m)\u001b[0m\u001b[0;34m)\u001b[0m\u001b[0;34m,\u001b[0m\u001b[0;34m\u001b[0m\u001b[0;34m\u001b[0m\u001b[0m\n\u001b[0;32m----> 4\u001b[0;31m \u001b[0mdocuments\u001b[0m\u001b[0;34m[\u001b[0m\u001b[0mresult\u001b[0m\u001b[0;34m[\u001b[0m\u001b[0mi\u001b[0m\u001b[0;34m]\u001b[0m\u001b[0;34m]\u001b[0m\u001b[0;34m.\u001b[0m\u001b[0mreplace\u001b[0m\u001b[0;34m(\u001b[0m\u001b[0;34m(\u001b[0m\u001b[0;34m' '\u001b[0m\u001b[0;34m,\u001b[0m \u001b[0;34m''\u001b[0m\u001b[0;34m)\u001b[0m\u001b[0;34m)\u001b[0m\u001b[0;34m\u001b[0m\u001b[0;34m\u001b[0m\u001b[0m\n\u001b[0m\u001b[1;32m      5\u001b[0m \u001b[0mpreint\u001b[0m\u001b[0;34m(\u001b[0m\u001b[0;34m\"Top 3 邻居\"\u001b[0m\u001b[0;34m,\u001b[0m \u001b[0mresult\u001b[0m\u001b[0;34m)\u001b[0m\u001b[0;34m\u001b[0m\u001b[0;34m\u001b[0m\u001b[0m\n",
        "\u001b[0;31mTypeError\u001b[0m: replace() takes at least 2 arguments (1 given)"
       ]
      }
     ],
     "persistentId": "a0950084-0d90-434b-bc68-6b92ffef750f",
     "text": "result = forest.query(minhash_query, 3)\nfor i in range(len(result)):\n    print(result[i], minhash_query.jaccard(minhash_list[result[i]])),\ndocuments[result[i]].replace((' ', ''))\npreint(\"Top 3 邻居\", result)"
    },
    "executionTime": "2020-03-07T06:00:49.468Z"
   },
   {
    "cell": {
     "executionCount": 30,
     "executionEventId": "37946983-c0cb-44e6-8856-bc27312733d6",
     "hasError": true,
     "id": "c2858cee-15f3-4902-be00-2d9e1c3e83df",
     "outputs": [
      {
       "name": "stdout",
       "output_type": "stream",
       "text": "1 0.5703125\n34 0.3515625\n37 1.0\n"
      },
      {
       "ename": "TypeError",
       "evalue": "replace() takes at least 2 arguments (1 given)",
       "output_type": "error",
       "traceback": [
        "\u001b[0;31m---------------------------------------------------------------------------\u001b[0m",
        "\u001b[0;31mTypeError\u001b[0m                                 Traceback (most recent call last)",
        "\u001b[0;32m<ipython-input-30-9df51e6f9830>\u001b[0m in \u001b[0;36m<module>\u001b[0;34m\u001b[0m\n\u001b[1;32m      2\u001b[0m \u001b[0;32mfor\u001b[0m \u001b[0mi\u001b[0m \u001b[0;32min\u001b[0m \u001b[0mrange\u001b[0m\u001b[0;34m(\u001b[0m\u001b[0mlen\u001b[0m\u001b[0;34m(\u001b[0m\u001b[0mresult\u001b[0m\u001b[0;34m)\u001b[0m\u001b[0;34m)\u001b[0m\u001b[0;34m:\u001b[0m\u001b[0;34m\u001b[0m\u001b[0;34m\u001b[0m\u001b[0m\n\u001b[1;32m      3\u001b[0m     \u001b[0mprint\u001b[0m\u001b[0;34m(\u001b[0m\u001b[0mresult\u001b[0m\u001b[0;34m[\u001b[0m\u001b[0mi\u001b[0m\u001b[0;34m]\u001b[0m\u001b[0;34m,\u001b[0m \u001b[0mminhash_query\u001b[0m\u001b[0;34m.\u001b[0m\u001b[0mjaccard\u001b[0m\u001b[0;34m(\u001b[0m\u001b[0mminhash_list\u001b[0m\u001b[0;34m[\u001b[0m\u001b[0mresult\u001b[0m\u001b[0;34m[\u001b[0m\u001b[0mi\u001b[0m\u001b[0;34m]\u001b[0m\u001b[0;34m]\u001b[0m\u001b[0;34m)\u001b[0m\u001b[0;34m)\u001b[0m\u001b[0;34m,\u001b[0m\u001b[0;34m\u001b[0m\u001b[0;34m\u001b[0m\u001b[0m\n\u001b[0;32m----> 4\u001b[0;31m \u001b[0mdocuments\u001b[0m\u001b[0;34m[\u001b[0m\u001b[0mresult\u001b[0m\u001b[0;34m[\u001b[0m\u001b[0mi\u001b[0m\u001b[0;34m]\u001b[0m\u001b[0;34m]\u001b[0m\u001b[0;34m.\u001b[0m\u001b[0mreplace\u001b[0m\u001b[0;34m(\u001b[0m\u001b[0;34m(\u001b[0m\u001b[0;34m' '\u001b[0m\u001b[0;34m,\u001b[0m \u001b[0;34m''\u001b[0m\u001b[0;34m)\u001b[0m\u001b[0;34m)\u001b[0m\u001b[0;34m\u001b[0m\u001b[0;34m\u001b[0m\u001b[0m\n\u001b[0m\u001b[1;32m      5\u001b[0m \u001b[0mpreint\u001b[0m\u001b[0;34m(\u001b[0m\u001b[0;34m\"Top 3 邻居\"\u001b[0m\u001b[0;34m,\u001b[0m \u001b[0mresult\u001b[0m\u001b[0;34m)\u001b[0m\u001b[0;34m\u001b[0m\u001b[0;34m\u001b[0m\u001b[0m\n",
        "\u001b[0;31mTypeError\u001b[0m: replace() takes at least 2 arguments (1 given)"
       ]
      }
     ],
     "persistentId": "a0950084-0d90-434b-bc68-6b92ffef750f",
     "text": "result = forest.query(minhash_query, 3)\nfor i in range(len(result)):\n    print(result[i], minhash_query.jaccard(minhash_list[result[i]])),\ndocuments[result[i]].replace((' ', ''))\npreint(\"Top 3 邻居\", result)"
    },
    "executionTime": "2020-03-07T06:01:09.699Z"
   },
   {
    "cell": {
     "executionCount": 31,
     "executionEventId": "5445123e-1d71-49f0-ae16-c901d6059392",
     "hasError": false,
     "id": "c2858cee-15f3-4902-be00-2d9e1c3e83df",
     "outputs": [
      {
       "name": "stdout",
       "output_type": "stream",
       "text": "1 0.5703125 ​国足输给叙利亚之后，里皮辞职\n34 0.3515625 国足输给叙利亚后，里皮坐不住了，直接辞职了难怪有网友说，爱护生命，远离男足\n37 1.0 国足昨晚1-2输给叙利亚，赛后主帅里皮宣布辞职\nTop 3 邻居 [1, 34, 37]\n"
      }
     ],
     "persistentId": "a0950084-0d90-434b-bc68-6b92ffef750f",
     "text": "result = forest.query(minhash_query, 3)\nfor i in range(len(result)):\n    print(result[i], minhash_query.jaccard(minhash_list[result[i]]), documents[result[i]].replace(' ', ''))\nprint(\"Top 3 邻居\", result)\n"
    },
    "executionTime": "2020-03-07T06:01:32.194Z"
   },
   {
    "cell": {
     "executionCount": 32,
     "executionEventId": "2a6907fb-745f-4b28-88e2-3648a13a98d9",
     "hasError": true,
     "id": "c2858cee-15f3-4902-be00-2d9e1c3e83df",
     "outputs": [
      {
       "name": "stdout",
       "output_type": "stream",
       "text": "1 0.5703125\n"
      },
      {
       "ename": "TypeError",
       "evalue": "replace() takes at least 2 arguments (1 given)",
       "output_type": "error",
       "traceback": [
        "\u001b[0;31m---------------------------------------------------------------------------\u001b[0m",
        "\u001b[0;31mTypeError\u001b[0m                                 Traceback (most recent call last)",
        "\u001b[0;32m<ipython-input-32-dd679ff84edb>\u001b[0m in \u001b[0;36m<module>\u001b[0;34m\u001b[0m\n\u001b[1;32m      1\u001b[0m \u001b[0mresult\u001b[0m \u001b[0;34m=\u001b[0m \u001b[0mforest\u001b[0m\u001b[0;34m.\u001b[0m\u001b[0mquery\u001b[0m\u001b[0;34m(\u001b[0m\u001b[0mminhash_query\u001b[0m\u001b[0;34m,\u001b[0m \u001b[0;36m3\u001b[0m\u001b[0;34m)\u001b[0m\u001b[0;34m\u001b[0m\u001b[0;34m\u001b[0m\u001b[0m\n\u001b[1;32m      2\u001b[0m \u001b[0;32mfor\u001b[0m \u001b[0mi\u001b[0m \u001b[0;32min\u001b[0m \u001b[0mrange\u001b[0m\u001b[0;34m(\u001b[0m\u001b[0mlen\u001b[0m\u001b[0;34m(\u001b[0m\u001b[0mresult\u001b[0m\u001b[0;34m)\u001b[0m\u001b[0;34m)\u001b[0m\u001b[0;34m:\u001b[0m\u001b[0;34m\u001b[0m\u001b[0;34m\u001b[0m\u001b[0m\n\u001b[0;32m----> 3\u001b[0;31m     \u001b[0mprint\u001b[0m\u001b[0;34m(\u001b[0m\u001b[0mresult\u001b[0m\u001b[0;34m[\u001b[0m\u001b[0mi\u001b[0m\u001b[0;34m]\u001b[0m\u001b[0;34m,\u001b[0m \u001b[0mminhash_query\u001b[0m\u001b[0;34m.\u001b[0m\u001b[0mjaccard\u001b[0m\u001b[0;34m(\u001b[0m\u001b[0mminhash_list\u001b[0m\u001b[0;34m[\u001b[0m\u001b[0mresult\u001b[0m\u001b[0;34m[\u001b[0m\u001b[0mi\u001b[0m\u001b[0;34m]\u001b[0m\u001b[0;34m]\u001b[0m\u001b[0;34m)\u001b[0m\u001b[0;34m)\u001b[0m\u001b[0;34m,\u001b[0m\u001b[0mdocuments\u001b[0m\u001b[0;34m[\u001b[0m\u001b[0mresult\u001b[0m\u001b[0;34m[\u001b[0m\u001b[0mi\u001b[0m\u001b[0;34m]\u001b[0m\u001b[0;34m]\u001b[0m\u001b[0;34m.\u001b[0m\u001b[0mreplace\u001b[0m\u001b[0;34m(\u001b[0m\u001b[0;34m(\u001b[0m\u001b[0;34m' '\u001b[0m\u001b[0;34m,\u001b[0m \u001b[0;34m''\u001b[0m\u001b[0;34m)\u001b[0m\u001b[0;34m)\u001b[0m\u001b[0;34m\u001b[0m\u001b[0;34m\u001b[0m\u001b[0m\n\u001b[0m\u001b[1;32m      4\u001b[0m \u001b[0mpreint\u001b[0m\u001b[0;34m(\u001b[0m\u001b[0;34m\"Top 3 邻居\"\u001b[0m\u001b[0;34m,\u001b[0m \u001b[0mresult\u001b[0m\u001b[0;34m)\u001b[0m\u001b[0;34m\u001b[0m\u001b[0;34m\u001b[0m\u001b[0m\n",
        "\u001b[0;31mTypeError\u001b[0m: replace() takes at least 2 arguments (1 given)"
       ]
      }
     ],
     "persistentId": "a0950084-0d90-434b-bc68-6b92ffef750f",
     "text": "result = forest.query(minhash_query, 3)\nfor i in range(len(result)):\n    print(result[i], minhash_query.jaccard(minhash_list[result[i]])),documents[result[i]].replace((' ', ''))\npreint(\"Top 3 邻居\", result)\n"
    },
    "executionTime": "2020-03-07T06:02:01.826Z"
   },
   {
    "cell": {
     "executionCount": 33,
     "executionEventId": "98679f7e-da62-422c-9d69-4586d2d4c814",
     "hasError": true,
     "id": "c2858cee-15f3-4902-be00-2d9e1c3e83df",
     "outputs": [
      {
       "ename": "SyntaxError",
       "evalue": "invalid syntax (<ipython-input-33-d39e9ae09d3d>, line 4)",
       "output_type": "error",
       "traceback": [
        "\u001b[0;36m  File \u001b[0;32m\"<ipython-input-33-d39e9ae09d3d>\"\u001b[0;36m, line \u001b[0;32m4\u001b[0m\n\u001b[0;31m    preint(\"Top 3 邻居\", result)\u001b[0m\n\u001b[0m         ^\u001b[0m\n\u001b[0;31mSyntaxError\u001b[0m\u001b[0;31m:\u001b[0m invalid syntax\n"
       ]
      }
     ],
     "persistentId": "a0950084-0d90-434b-bc68-6b92ffef750f",
     "text": "result = forest.query(minhash_query, 3)\nfor i in range(len(result)):\n    print(result[i], minhash_query.jaccard(minhash_list[result[i]]),documents[result[i]].replace((' ', ''))\npreint(\"Top 3 邻居\", result)"
    },
    "executionTime": "2020-03-07T06:02:13.849Z"
   },
   {
    "cell": {
     "executionCount": 34,
     "executionEventId": "dbfe4de7-24ef-4f82-b54e-be7b572e66c5",
     "hasError": true,
     "id": "c2858cee-15f3-4902-be00-2d9e1c3e83df",
     "outputs": [
      {
       "name": "stdout",
       "output_type": "stream",
       "text": "1 0.5703125 ​国足输给叙利亚之后，里皮辞职\n34 0.3515625 国足输给叙利亚后，里皮坐不住了，直接辞职了难怪有网友说，爱护生命，远离男足\n37 1.0 国足昨晚1-2输给叙利亚，赛后主帅里皮宣布辞职\n"
      },
      {
       "ename": "NameError",
       "evalue": "name 'preint' is not defined",
       "output_type": "error",
       "traceback": [
        "\u001b[0;31m---------------------------------------------------------------------------\u001b[0m",
        "\u001b[0;31mNameError\u001b[0m                                 Traceback (most recent call last)",
        "\u001b[0;32m<ipython-input-34-2c217cf2405d>\u001b[0m in \u001b[0;36m<module>\u001b[0;34m\u001b[0m\n\u001b[1;32m      2\u001b[0m \u001b[0;32mfor\u001b[0m \u001b[0mi\u001b[0m \u001b[0;32min\u001b[0m \u001b[0mrange\u001b[0m\u001b[0;34m(\u001b[0m\u001b[0mlen\u001b[0m\u001b[0;34m(\u001b[0m\u001b[0mresult\u001b[0m\u001b[0;34m)\u001b[0m\u001b[0;34m)\u001b[0m\u001b[0;34m:\u001b[0m\u001b[0;34m\u001b[0m\u001b[0;34m\u001b[0m\u001b[0m\n\u001b[1;32m      3\u001b[0m     \u001b[0mprint\u001b[0m\u001b[0;34m(\u001b[0m\u001b[0mresult\u001b[0m\u001b[0;34m[\u001b[0m\u001b[0mi\u001b[0m\u001b[0;34m]\u001b[0m\u001b[0;34m,\u001b[0m \u001b[0mminhash_query\u001b[0m\u001b[0;34m.\u001b[0m\u001b[0mjaccard\u001b[0m\u001b[0;34m(\u001b[0m\u001b[0mminhash_list\u001b[0m\u001b[0;34m[\u001b[0m\u001b[0mresult\u001b[0m\u001b[0;34m[\u001b[0m\u001b[0mi\u001b[0m\u001b[0;34m]\u001b[0m\u001b[0;34m]\u001b[0m\u001b[0;34m)\u001b[0m\u001b[0;34m,\u001b[0m\u001b[0mdocuments\u001b[0m\u001b[0;34m[\u001b[0m\u001b[0mresult\u001b[0m\u001b[0;34m[\u001b[0m\u001b[0mi\u001b[0m\u001b[0;34m]\u001b[0m\u001b[0;34m]\u001b[0m\u001b[0;34m.\u001b[0m\u001b[0mreplace\u001b[0m\u001b[0;34m(\u001b[0m\u001b[0;34m' '\u001b[0m\u001b[0;34m,\u001b[0m \u001b[0;34m''\u001b[0m\u001b[0;34m)\u001b[0m\u001b[0;34m)\u001b[0m\u001b[0;34m\u001b[0m\u001b[0;34m\u001b[0m\u001b[0m\n\u001b[0;32m----> 4\u001b[0;31m \u001b[0mpreint\u001b[0m\u001b[0;34m(\u001b[0m\u001b[0;34m\"Top 3 邻居\"\u001b[0m\u001b[0;34m,\u001b[0m \u001b[0mresult\u001b[0m\u001b[0;34m)\u001b[0m\u001b[0;34m\u001b[0m\u001b[0;34m\u001b[0m\u001b[0m\n\u001b[0m",
        "\u001b[0;31mNameError\u001b[0m: name 'preint' is not defined"
       ]
      }
     ],
     "persistentId": "a0950084-0d90-434b-bc68-6b92ffef750f",
     "text": "result = forest.query(minhash_query, 3)\nfor i in range(len(result)):\n    print(result[i], minhash_query.jaccard(minhash_list[result[i]]),documents[result[i]].replace(' ', ''))\npreint(\"Top 3 邻居\", result)"
    },
    "executionTime": "2020-03-07T06:02:22.880Z"
   },
   {
    "cell": {
     "executionCount": 35,
     "executionEventId": "1f005923-8910-44bb-bf80-43d4be8719a2",
     "hasError": false,
     "id": "c2858cee-15f3-4902-be00-2d9e1c3e83df",
     "outputs": [
      {
       "name": "stdout",
       "output_type": "stream",
       "text": "1 0.5703125 ​国足输给叙利亚之后，里皮辞职\n34 0.3515625 国足输给叙利亚后，里皮坐不住了，直接辞职了难怪有网友说，爱护生命，远离男足\n37 1.0 国足昨晚1-2输给叙利亚，赛后主帅里皮宣布辞职\nTop 3 邻居 [1, 34, 37]\n"
      }
     ],
     "persistentId": "a0950084-0d90-434b-bc68-6b92ffef750f",
     "text": "result = forest.query(minhash_query, 3)\nfor i in range(len(result)):\n    print(result[i], minhash_query.jaccard(minhash_list[result[i]]),documents[result[i]].replace(' ', ''))\nprint(\"Top 3 邻居\", result)"
    },
    "executionTime": "2020-03-07T06:02:32.466Z"
   },
   {
    "cell": {
     "executionCount": 37,
     "executionEventId": "92318d3e-ac04-4f0a-8a1e-b7ebe513ec09",
     "hasError": false,
     "id": "1ebaab56-9b30-44d3-a278-ee5c1f832a4c",
     "outputs": [],
     "persistentId": "1d0b9dc9-a6c6-4736-ba99-6c0b782f014c",
     "text": "file = open('./weibos.txt', 'r', encoding='UTF-8')\ntext = file.read()"
    },
    "executionTime": "2020-03-07T09:00:17.106Z"
   },
   {
    "cell": {
     "executionCount": 38,
     "executionEventId": "e25c31ba-5fe1-4ae5-ab2d-e7b04d6505b9",
     "hasError": false,
     "id": "24fc7bf6-51a1-454a-ae6c-0cb9e1d39fd6",
     "outputs": [],
     "persistentId": "7793b229-9b66-4ecb-8b1b-7e5d25a84f6e",
     "text": "sentences = re.split('[。！？]', text.replace('\\n', ''))"
    },
    "executionTime": "2020-03-07T09:00:17.255Z"
   },
   {
    "cell": {
     "executionCount": 39,
     "executionEventId": "b0511485-570e-4dcc-8fd9-69d8416dde0a",
     "hasError": false,
     "id": "27ca11fd-b2a4-4f51-b108-322facde48b1",
     "outputs": [],
     "persistentId": "cb92d494-c62b-4b75-92f2-6d0ffa9d4227",
     "text": "# 末行处理\nif sentences[len(sentences)-1] == '':\n    sentences.pop()"
    },
    "executionTime": "2020-03-07T09:00:17.394Z"
   },
   {
    "cell": {
     "executionCount": 40,
     "executionEventId": "e53aa517-1b7e-4b6e-a8d9-7a2122271573",
     "hasError": false,
     "id": "3e4e0524-a28d-4918-b226-e6b6fc638ded",
     "outputs": [],
     "persistentId": "93f0506b-be13-49c5-b8e1-3d3c9a16cac5",
     "text": "# 分词\ndef get_item_str(itms_text):\n    item_str= \"\"\n    item = (pseg.cut(item_text))\n    for i in list(item):\n        if i.word not in list(stop):\n            item_str += i.word\n            item_str += \" \"\n    return item_str\ndef get_minhash(item_str):\n    temp = MinHash()\n    for d in item_str:\n        temp.update(d.encode('utf8'))\n    return temp\n"
    },
    "executionTime": "2020-03-07T09:00:17.539Z"
   },
   {
    "cell": {
     "executionCount": 41,
     "executionEventId": "d464eb29-620e-4a81-a385-17c51b8df503",
     "hasError": false,
     "id": "ad4e05ed-f840-4e2c-b2c8-536f20794bfd",
     "outputs": [],
     "persistentId": "83bbfa22-bb4b-41f3-835d-c1300d8807ed",
     "text": "stop = [line.strip() for line in open('stopword.txt').readlines()]"
    },
    "executionTime": "2020-03-07T09:00:17.853Z"
   },
   {
    "cell": {
     "executionCount": 42,
     "executionEventId": "00155edc-f948-44ad-95ab-e0419293a07e",
     "hasError": false,
     "id": "1b7d66c0-3a91-4ef0-a570-08031df9c62e",
     "outputs": [],
     "persistentId": "2d20317c-9e53-4f40-bd44-bd98006b08e2",
     "text": "documents = []"
    },
    "executionTime": "2020-03-07T09:00:18.002Z"
   },
   {
    "cell": {
     "executionCount": 43,
     "executionEventId": "f45446c2-dd64-4c1d-9dc2-8301d0b0d216",
     "hasError": false,
     "id": "e6e46b2d-92ed-4672-968a-085b088c0305",
     "outputs": [],
     "persistentId": "6272e555-53f1-4adf-a049-19a094f8f84d",
     "text": "for item_text in sentences:\n    item_str = get_item_str(item_text)\n    documents.append(item_str)    "
    },
    "executionTime": "2020-03-07T09:00:18.256Z"
   },
   {
    "cell": {
     "executionCount": 44,
     "executionEventId": "3db5d3aa-5c99-4b93-835c-a05ac99162ff",
     "hasError": false,
     "id": "f48e8928-d3e0-4e7e-b10e-0b2b64f8c2a6",
     "outputs": [],
     "persistentId": "851ece7c-81c5-4abe-8b34-49a89c61cfd9",
     "text": "minhash_list = []\nforest = MinHashLSHForest()\nfor i in range(len(documents)):\n    temp = get_minhash(documents[i])\n    minhash_list.append(temp)\n    forest.add(i, temp)\nforest.index()    "
    },
    "executionTime": "2020-03-07T09:00:18.627Z"
   },
   {
    "cell": {
     "executionCount": 45,
     "executionEventId": "0291f6b0-ec94-4393-b89d-e5b938d52759",
     "hasError": false,
     "id": "25073f0b-bd90-478e-a9ab-3e54e1370105",
     "outputs": [],
     "persistentId": "a2542f83-03a3-4a14-9a16-e1a12249e2c0",
     "text": "query = '国足输给叙利亚之后，里皮辞职'"
    },
    "executionTime": "2020-03-07T09:00:18.642Z"
   },
   {
    "cell": {
     "executionCount": 46,
     "executionEventId": "c06284d5-7e7d-4e85-9b86-a81b64388872",
     "hasError": false,
     "id": "11bcbbc2-2592-4fc4-ac76-f993d42bc412",
     "outputs": [],
     "persistentId": "3478f2c4-0122-4f72-9e32-da54a8aaf0bf",
     "text": "item_str = get_item_str(query)"
    },
    "executionTime": "2020-03-07T09:00:18.735Z"
   },
   {
    "cell": {
     "executionCount": 47,
     "executionEventId": "6a0ef10b-40b8-466b-8eff-f5a537faba4b",
     "hasError": false,
     "id": "9c8409ef-36c9-4be3-a913-603ad923f9ad",
     "outputs": [],
     "persistentId": "99d2a919-9db9-4ccc-9907-802a8eb22147",
     "text": "minhash_query = get_minhash(item_str)"
    },
    "executionTime": "2020-03-07T09:00:18.804Z"
   },
   {
    "cell": {
     "executionCount": 48,
     "executionEventId": "ceb41e79-8a1e-4925-81a3-568b0795918f",
     "hasError": false,
     "id": "c2858cee-15f3-4902-be00-2d9e1c3e83df",
     "outputs": [
      {
       "name": "stdout",
       "output_type": "stream",
       "text": "1 0.5703125 ​国足输给叙利亚之后，里皮辞职\n34 0.3515625 国足输给叙利亚后，里皮坐不住了，直接辞职了难怪有网友说，爱护生命，远离男足\n37 1.0 国足昨晚1-2输给叙利亚，赛后主帅里皮宣布辞职\nTop 3 邻居 [1, 34, 37]\n"
      }
     ],
     "persistentId": "a0950084-0d90-434b-bc68-6b92ffef750f",
     "text": "result = forest.query(minhash_query, 3)\nfor i in range(len(result)):\n    print(result[i], minhash_query.jaccard(minhash_list[result[i]]),documents[result[i]].replace(' ', ''))\nprint(\"Top 3 邻居\", result)"
    },
    "executionTime": "2020-03-07T09:00:18.978Z"
   }
  ],
  "kernelspec": {
   "display_name": "Python 3",
   "language": "python",
   "name": "python3"
  },
  "language_info": {
   "codemirror_mode": {
    "name": "ipython",
    "version": 3
   },
   "file_extension": ".py",
   "mimetype": "text/x-python",
   "name": "python",
   "nbconvert_exporter": "python",
   "pygments_lexer": "ipython3",
   "version": "3.7.6"
  },
  "uuid": "f86ab959-2819-4933-b464-17060126f47c"
 },
 "nbformat": 4,
 "nbformat_minor": 4
}
