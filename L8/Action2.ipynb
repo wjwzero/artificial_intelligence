{
 "cells": [
  {
   "cell_type": "markdown",
   "metadata": {},
   "source": [
    "## Action2：请设计一个基于DNN模型的推荐系统\n",
    "+ 阐述两阶段的架构（召回、排序）\n",
    "+ 以及每个阶段的DNN模型设计：\n",
    "+ DNN输入层（如何进行特征选择）\n",
    "+ DNN隐藏层结构\n",
    "+ DNN输出层\n"
   ]
  },
  {
   "cell_type": "markdown",
   "metadata": {},
   "source": [
    "+ 召回阶段 是一个超大规模的多分类问题；以用户信息，上下文信息为输入条件的情况下\n",
    "    + DNN 输入层 ：用户行为、用户特征取平均数及其他上下文信息\n",
    "    + DNN 隐藏层 ：ReLU\n",
    "    + DNN 输出层 ：ANN 采用LSH 近似TopN\n",
    "+ 排序阶段 \n",
    "    + DNN 输入层 ：再召回阶段输入的基础上加入 非线性feature\n",
    "    + DNN 隐藏层 ：ReLU \n",
    "    + DNN 输出层 ：根据场景 加入权重 使用 Weighted LR"
   ]
  },
  {
   "cell_type": "code",
   "execution_count": null,
   "metadata": {},
   "outputs": [],
   "source": []
  }
 ],
 "metadata": {
  "history": [],
  "kernelspec": {
   "display_name": "Python 3",
   "language": "python",
   "name": "python3"
  },
  "language_info": {
   "codemirror_mode": {
    "name": "ipython",
    "version": 3
   },
   "file_extension": ".py",
   "mimetype": "text/x-python",
   "name": "python",
   "nbconvert_exporter": "python",
   "pygments_lexer": "ipython3",
   "version": "3.7.6"
  },
  "uuid": "f12024e7-c82e-4006-9f16-906b2956c8b0"
 },
 "nbformat": 4,
 "nbformat_minor": 4
}
