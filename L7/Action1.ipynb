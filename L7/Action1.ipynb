{
 "cells": [
  {
   "cell_type": "markdown",
   "metadata": {
    "persistent_id": "e705cfa8-ad26-4620-984b-4d60196988b7"
   },
   "source": [
    "## Action1: 使用Wide&Deep模型对movielens进行评分预测"
   ]
  },
  {
   "cell_type": "markdown",
   "metadata": {},
   "source": [
    "- 数据集为 movielens "
   ]
  },
  {
   "cell_type": "code",
   "execution_count": 1,
   "metadata": {
    "execution_event_id": "cf9fd1ce-00d1-47e1-b77b-b367213ccb73",
    "last_executed_text": "import pandas as pd\nimport numpy as np\nimport warnings\nwarnings.filterwarnings(\"ignore\")",
    "persistent_id": "732a1adf-81f8-44c9-87eb-869925be5362"
   },
   "outputs": [],
   "source": [
    "import pandas as pd\n",
    "import numpy as np\n",
    "import warnings\n",
    "warnings.filterwarnings(\"ignore\")"
   ]
  },
  {
   "cell_type": "code",
   "execution_count": 2,
   "metadata": {
    "execution_event_id": "f8be8e9a-bfef-4006-993c-21682c20c991",
    "last_executed_text": "ratings = pd.read_csv('data/ratings.dat', sep = '::', header = None)\nmovies = pd.read_csv('data/movies.dat', sep = '::', header = None)\nusers = pd.read_csv('data/users.dat', sep = '::', header = None)\nratings.columns = ['userId', 'movieId', 'rating', 'timestamp']\nmovies.columns = ['movieId', 'name', 'genres']\nusers.columns = ['userId', 'sex', 'age', 'occupation', 'zipcode']\nmovie_ratings = pd.merge(ratings, movies, on = 'movieId')\nmovie_ratings = pd.merge(movie_ratings, users, on = 'userId')",
    "persistent_id": "7d4b5e8e-5e2f-42a4-bc0f-3b52c0c165af"
   },
   "outputs": [],
   "source": [
    "ratings = pd.read_csv('data/ratings.dat', sep = '::', header = None)\n",
    "movies = pd.read_csv('data/movies.dat', sep = '::', header = None)\n",
    "users = pd.read_csv('data/users.dat', sep = '::', header = None)\n",
    "ratings.columns = ['userId', 'movieId', 'rating', 'timestamp']\n",
    "movies.columns = ['movieId', 'name', 'genres']\n",
    "users.columns = ['userId', 'sex', 'age', 'occupation', 'zipcode']\n",
    "movie_ratings = pd.merge(ratings, movies, on = 'movieId')\n",
    "movie_ratings = pd.merge(movie_ratings, users, on = 'userId')"
   ]
  },
  {
   "cell_type": "code",
   "execution_count": 3,
   "metadata": {
    "execution_event_id": "25413b66-8f06-42bf-ba1d-935b9ec9d96c",
    "last_executed_text": "movie_ratings.head()",
    "persistent_id": "67adb73b-151b-4de8-bb03-f9a2d98b60ed"
   },
   "outputs": [
    {
     "data": {
      "text/html": [
       "<div>\n",
       "<style scoped>\n",
       "    .dataframe tbody tr th:only-of-type {\n",
       "        vertical-align: middle;\n",
       "    }\n",
       "\n",
       "    .dataframe tbody tr th {\n",
       "        vertical-align: top;\n",
       "    }\n",
       "\n",
       "    .dataframe thead th {\n",
       "        text-align: right;\n",
       "    }\n",
       "</style>\n",
       "<table border=\"1\" class=\"dataframe\">\n",
       "  <thead>\n",
       "    <tr style=\"text-align: right;\">\n",
       "      <th></th>\n",
       "      <th>userId</th>\n",
       "      <th>movieId</th>\n",
       "      <th>rating</th>\n",
       "      <th>timestamp</th>\n",
       "      <th>name</th>\n",
       "      <th>genres</th>\n",
       "      <th>sex</th>\n",
       "      <th>age</th>\n",
       "      <th>occupation</th>\n",
       "      <th>zipcode</th>\n",
       "    </tr>\n",
       "  </thead>\n",
       "  <tbody>\n",
       "    <tr>\n",
       "      <th>0</th>\n",
       "      <td>1</td>\n",
       "      <td>1193</td>\n",
       "      <td>5</td>\n",
       "      <td>978300760</td>\n",
       "      <td>One Flew Over the Cuckoo's Nest (1975)</td>\n",
       "      <td>Drama</td>\n",
       "      <td>F</td>\n",
       "      <td>1</td>\n",
       "      <td>10</td>\n",
       "      <td>48067</td>\n",
       "    </tr>\n",
       "    <tr>\n",
       "      <th>1</th>\n",
       "      <td>1</td>\n",
       "      <td>661</td>\n",
       "      <td>3</td>\n",
       "      <td>978302109</td>\n",
       "      <td>James and the Giant Peach (1996)</td>\n",
       "      <td>Animation|Children's|Musical</td>\n",
       "      <td>F</td>\n",
       "      <td>1</td>\n",
       "      <td>10</td>\n",
       "      <td>48067</td>\n",
       "    </tr>\n",
       "    <tr>\n",
       "      <th>2</th>\n",
       "      <td>1</td>\n",
       "      <td>914</td>\n",
       "      <td>3</td>\n",
       "      <td>978301968</td>\n",
       "      <td>My Fair Lady (1964)</td>\n",
       "      <td>Musical|Romance</td>\n",
       "      <td>F</td>\n",
       "      <td>1</td>\n",
       "      <td>10</td>\n",
       "      <td>48067</td>\n",
       "    </tr>\n",
       "    <tr>\n",
       "      <th>3</th>\n",
       "      <td>1</td>\n",
       "      <td>3408</td>\n",
       "      <td>4</td>\n",
       "      <td>978300275</td>\n",
       "      <td>Erin Brockovich (2000)</td>\n",
       "      <td>Drama</td>\n",
       "      <td>F</td>\n",
       "      <td>1</td>\n",
       "      <td>10</td>\n",
       "      <td>48067</td>\n",
       "    </tr>\n",
       "    <tr>\n",
       "      <th>4</th>\n",
       "      <td>1</td>\n",
       "      <td>2355</td>\n",
       "      <td>5</td>\n",
       "      <td>978824291</td>\n",
       "      <td>Bug's Life, A (1998)</td>\n",
       "      <td>Animation|Children's|Comedy</td>\n",
       "      <td>F</td>\n",
       "      <td>1</td>\n",
       "      <td>10</td>\n",
       "      <td>48067</td>\n",
       "    </tr>\n",
       "  </tbody>\n",
       "</table>\n",
       "</div>"
      ],
      "text/plain": [
       "   userId  movieId  rating  timestamp                                    name  \\\n",
       "0       1     1193       5  978300760  One Flew Over the Cuckoo's Nest (1975)   \n",
       "1       1      661       3  978302109        James and the Giant Peach (1996)   \n",
       "2       1      914       3  978301968                     My Fair Lady (1964)   \n",
       "3       1     3408       4  978300275                  Erin Brockovich (2000)   \n",
       "4       1     2355       5  978824291                    Bug's Life, A (1998)   \n",
       "\n",
       "                         genres sex  age  occupation zipcode  \n",
       "0                         Drama   F    1          10   48067  \n",
       "1  Animation|Children's|Musical   F    1          10   48067  \n",
       "2               Musical|Romance   F    1          10   48067  \n",
       "3                         Drama   F    1          10   48067  \n",
       "4   Animation|Children's|Comedy   F    1          10   48067  "
      ]
     },
     "execution_count": 3,
     "metadata": {},
     "output_type": "execute_result"
    }
   ],
   "source": [
    "movie_ratings.head()"
   ]
  },
  {
   "cell_type": "code",
   "execution_count": 4,
   "metadata": {
    "execution_event_id": "3eea6155-03f3-4dfa-8cbc-686a8fbf795e",
    "last_executed_text": "movie_ratings.shape",
    "persistent_id": "c9ae7de7-7890-497a-b247-0641fa27bad9"
   },
   "outputs": [
    {
     "data": {
      "text/plain": [
       "(1000209, 10)"
      ]
     },
     "execution_count": 4,
     "metadata": {},
     "output_type": "execute_result"
    }
   ],
   "source": [
    "movie_ratings.shape"
   ]
  },
  {
   "cell_type": "code",
   "execution_count": 7,
   "metadata": {
    "execution_event_id": "ea6446ba-0648-411a-8b2e-52b9111249bf",
    "last_executed_text": "from sklearn.metrics import mean_squared_error\nfrom sklearn.model_selection import train_test_split\nfrom sklearn.preprocessing import LabelEncoder\nfrom tensorflow.python.keras.preprocessing.sequence import pad_sequences\nfrom tensorflow.keras.callbacks import EarlyStopping\n\nfrom deepctr.models import WDL\nfrom deepctr.inputs import SparseFeat, DenseFeat, VarLenSparseFeat, get_feature_names",
    "persistent_id": "bfc4d18a-0cff-4cb6-9ddf-b4efb6cabd29"
   },
   "outputs": [],
   "source": [
    "from sklearn.metrics import mean_squared_error\n",
    "from sklearn.model_selection import train_test_split\n",
    "from sklearn.preprocessing import LabelEncoder\n",
    "from tensorflow.python.keras.preprocessing.sequence import pad_sequences\n",
    "from tensorflow.keras.callbacks import EarlyStopping\n",
    "\n",
    "from deepctr.models import WDL\n",
    "from deepctr.inputs import SparseFeat, DenseFeat, VarLenSparseFeat, get_feature_names"
   ]
  },
  {
   "cell_type": "code",
   "execution_count": 8,
   "metadata": {
    "execution_event_id": "a817a9a8-5c3c-4322-a4a6-7efb402a673b",
    "last_executed_text": "def split(x):\n    key_ans = x.split('|')\n    for key in key_ans:\n        if key not in key2index:\n            key2index[key] = len(key2index) + 1\n    return list(map(lambda x: key2index[x], key_ans))",
    "persistent_id": "cf5c2765-d9a1-4966-b8a3-e80dd41cc50b"
   },
   "outputs": [],
   "source": [
    "def split(x):\n",
    "    key_ans = x.split('|')\n",
    "    for key in key_ans:\n",
    "        if key not in key2index:\n",
    "            key2index[key] = len(key2index) + 1\n",
    "    return list(map(lambda x: key2index[x], key_ans))"
   ]
  },
  {
   "cell_type": "code",
   "execution_count": 9,
   "metadata": {
    "execution_event_id": "efca0889-5a70-4054-b0e3-70856e9c1eb4",
    "last_executed_text": "sparse_features = ['movieId', 'userId','occupation', 'zipcode']\ndense_features = ['timestamp', 'age']\n\nmovie_ratings[sparse_features] = movie_ratings[sparse_features].fillna('-1',)\nmovie_ratings[dense_features] = movie_ratings[dense_features].fillna(0,)\n\ntarget = ['rating']",
    "persistent_id": "5f4ad49a-ea03-4c79-8b9b-a168b44f4599"
   },
   "outputs": [],
   "source": [
    "sparse_features = ['movieId', 'userId','occupation', 'zipcode']\n",
    "dense_features = ['timestamp', 'age']\n",
    "\n",
    "movie_ratings[sparse_features] = movie_ratings[sparse_features].fillna('-1',)\n",
    "movie_ratings[dense_features] = movie_ratings[dense_features].fillna(0,)\n",
    "\n",
    "target = ['rating']"
   ]
  },
  {
   "cell_type": "code",
   "execution_count": 10,
   "metadata": {
    "execution_event_id": "592b1598-0f6f-42c7-9db3-11e9dd473139",
    "last_executed_text": "# sampling train and test\ntrain, test = train_test_split(movie_ratings, test_size = 0.2)",
    "persistent_id": "12c33998-9694-4498-ad90-32b77f45ae82"
   },
   "outputs": [],
   "source": [
    "# sampling train and test\n",
    "train, test = train_test_split(movie_ratings, test_size = 0.2)"
   ]
  },
  {
   "cell_type": "code",
   "execution_count": 11,
   "metadata": {
    "execution_event_id": "ef93fd39-a864-418d-bd6f-5bab7cabfaf4",
    "last_executed_text": "# concat train and test for preprocessing\ndata = pd.concat([train, test])",
    "persistent_id": "4f1f43fe-9040-48e6-90f9-7c6e7194747f"
   },
   "outputs": [],
   "source": [
    "# concat train and test for preprocessing\n",
    "data = pd.concat([train, test])"
   ]
  },
  {
   "cell_type": "code",
   "execution_count": 12,
   "metadata": {
    "execution_event_id": "309b8e1b-c39b-4fb6-84c3-04ffc958a0aa",
    "last_executed_text": "data.head()",
    "persistent_id": "2801d8d8-fdd7-48cf-8728-e6c38e63f29a"
   },
   "outputs": [
    {
     "data": {
      "text/html": [
       "<div>\n",
       "<style scoped>\n",
       "    .dataframe tbody tr th:only-of-type {\n",
       "        vertical-align: middle;\n",
       "    }\n",
       "\n",
       "    .dataframe tbody tr th {\n",
       "        vertical-align: top;\n",
       "    }\n",
       "\n",
       "    .dataframe thead th {\n",
       "        text-align: right;\n",
       "    }\n",
       "</style>\n",
       "<table border=\"1\" class=\"dataframe\">\n",
       "  <thead>\n",
       "    <tr style=\"text-align: right;\">\n",
       "      <th></th>\n",
       "      <th>userId</th>\n",
       "      <th>movieId</th>\n",
       "      <th>rating</th>\n",
       "      <th>timestamp</th>\n",
       "      <th>name</th>\n",
       "      <th>genres</th>\n",
       "      <th>sex</th>\n",
       "      <th>age</th>\n",
       "      <th>occupation</th>\n",
       "      <th>zipcode</th>\n",
       "    </tr>\n",
       "  </thead>\n",
       "  <tbody>\n",
       "    <tr>\n",
       "      <th>330458</th>\n",
       "      <td>4381</td>\n",
       "      <td>266</td>\n",
       "      <td>4</td>\n",
       "      <td>965267143</td>\n",
       "      <td>Legends of the Fall (1994)</td>\n",
       "      <td>Drama|Romance|War|Western</td>\n",
       "      <td>M</td>\n",
       "      <td>25</td>\n",
       "      <td>4</td>\n",
       "      <td>65804</td>\n",
       "    </tr>\n",
       "    <tr>\n",
       "      <th>127545</th>\n",
       "      <td>1680</td>\n",
       "      <td>1977</td>\n",
       "      <td>3</td>\n",
       "      <td>974709644</td>\n",
       "      <td>Friday the 13th: The Final Chapter (1984)</td>\n",
       "      <td>Horror</td>\n",
       "      <td>M</td>\n",
       "      <td>25</td>\n",
       "      <td>20</td>\n",
       "      <td>95380</td>\n",
       "    </tr>\n",
       "    <tr>\n",
       "      <th>192392</th>\n",
       "      <td>2575</td>\n",
       "      <td>1222</td>\n",
       "      <td>4</td>\n",
       "      <td>973905697</td>\n",
       "      <td>Full Metal Jacket (1987)</td>\n",
       "      <td>Action|Drama|War</td>\n",
       "      <td>M</td>\n",
       "      <td>35</td>\n",
       "      <td>7</td>\n",
       "      <td>76248</td>\n",
       "    </tr>\n",
       "    <tr>\n",
       "      <th>401893</th>\n",
       "      <td>5368</td>\n",
       "      <td>920</td>\n",
       "      <td>2</td>\n",
       "      <td>960495636</td>\n",
       "      <td>Gone with the Wind (1939)</td>\n",
       "      <td>Drama|Romance|War</td>\n",
       "      <td>F</td>\n",
       "      <td>25</td>\n",
       "      <td>17</td>\n",
       "      <td>20120</td>\n",
       "    </tr>\n",
       "    <tr>\n",
       "      <th>260891</th>\n",
       "      <td>3539</td>\n",
       "      <td>175</td>\n",
       "      <td>3</td>\n",
       "      <td>966932034</td>\n",
       "      <td>Kids (1995)</td>\n",
       "      <td>Drama</td>\n",
       "      <td>F</td>\n",
       "      <td>25</td>\n",
       "      <td>4</td>\n",
       "      <td>77006</td>\n",
       "    </tr>\n",
       "  </tbody>\n",
       "</table>\n",
       "</div>"
      ],
      "text/plain": [
       "        userId  movieId  rating  timestamp  \\\n",
       "330458    4381      266       4  965267143   \n",
       "127545    1680     1977       3  974709644   \n",
       "192392    2575     1222       4  973905697   \n",
       "401893    5368      920       2  960495636   \n",
       "260891    3539      175       3  966932034   \n",
       "\n",
       "                                             name                     genres  \\\n",
       "330458                 Legends of the Fall (1994)  Drama|Romance|War|Western   \n",
       "127545  Friday the 13th: The Final Chapter (1984)                     Horror   \n",
       "192392                   Full Metal Jacket (1987)           Action|Drama|War   \n",
       "401893                  Gone with the Wind (1939)          Drama|Romance|War   \n",
       "260891                                Kids (1995)                      Drama   \n",
       "\n",
       "       sex  age  occupation zipcode  \n",
       "330458   M   25           4   65804  \n",
       "127545   M   25          20   95380  \n",
       "192392   M   35           7   76248  \n",
       "401893   F   25          17   20120  \n",
       "260891   F   25           4   77006  "
      ]
     },
     "execution_count": 12,
     "metadata": {},
     "output_type": "execute_result"
    }
   ],
   "source": [
    "data.head()"
   ]
  },
  {
   "cell_type": "code",
   "execution_count": 13,
   "metadata": {
    "execution_event_id": "d0792b1c-1e3f-4c96-9025-d0d40319dd1b",
    "last_executed_text": "from sklearn.preprocessing import MinMaxScaler\n\n# lable encoder sparse data\nfor feat in sparse_features:\n    lbe = LabelEncoder()\n    data[feat] = lbe.fit_transform(data[feat])\n\nscaler = MinMaxScaler()\ndata[dense_features] = scaler.fit_transform(data[dense_features])",
    "persistent_id": "915721e8-ef5d-4871-a7c7-ebfb40cba7aa"
   },
   "outputs": [],
   "source": [
    "from sklearn.preprocessing import MinMaxScaler\n",
    "\n",
    "# lable encoder sparse data\n",
    "for feat in sparse_features:\n",
    "    lbe = LabelEncoder()\n",
    "    data[feat] = lbe.fit_transform(data[feat])\n",
    "\n",
    "scaler = MinMaxScaler()\n",
    "data[dense_features] = scaler.fit_transform(data[dense_features])"
   ]
  },
  {
   "cell_type": "code",
   "execution_count": 14,
   "metadata": {
    "execution_event_id": "f209736a-cc31-4cf8-ad77-c16d770a7ebf",
    "last_executed_text": "data.head()",
    "persistent_id": "a407f6d4-44b0-47ac-94de-de2655eeb82f"
   },
   "outputs": [
    {
     "data": {
      "text/html": [
       "<div>\n",
       "<style scoped>\n",
       "    .dataframe tbody tr th:only-of-type {\n",
       "        vertical-align: middle;\n",
       "    }\n",
       "\n",
       "    .dataframe tbody tr th {\n",
       "        vertical-align: top;\n",
       "    }\n",
       "\n",
       "    .dataframe thead th {\n",
       "        text-align: right;\n",
       "    }\n",
       "</style>\n",
       "<table border=\"1\" class=\"dataframe\">\n",
       "  <thead>\n",
       "    <tr style=\"text-align: right;\">\n",
       "      <th></th>\n",
       "      <th>userId</th>\n",
       "      <th>movieId</th>\n",
       "      <th>rating</th>\n",
       "      <th>timestamp</th>\n",
       "      <th>name</th>\n",
       "      <th>genres</th>\n",
       "      <th>sex</th>\n",
       "      <th>age</th>\n",
       "      <th>occupation</th>\n",
       "      <th>zipcode</th>\n",
       "    </tr>\n",
       "  </thead>\n",
       "  <tbody>\n",
       "    <tr>\n",
       "      <th>330458</th>\n",
       "      <td>4380</td>\n",
       "      <td>259</td>\n",
       "      <td>4</td>\n",
       "      <td>0.095411</td>\n",
       "      <td>Legends of the Fall (1994)</td>\n",
       "      <td>Drama|Romance|War|Western</td>\n",
       "      <td>M</td>\n",
       "      <td>0.436364</td>\n",
       "      <td>4</td>\n",
       "      <td>2200</td>\n",
       "    </tr>\n",
       "    <tr>\n",
       "      <th>127545</th>\n",
       "      <td>1679</td>\n",
       "      <td>1797</td>\n",
       "      <td>3</td>\n",
       "      <td>0.200619</td>\n",
       "      <td>Friday the 13th: The Final Chapter (1984)</td>\n",
       "      <td>Horror</td>\n",
       "      <td>M</td>\n",
       "      <td>0.436364</td>\n",
       "      <td>20</td>\n",
       "      <td>3190</td>\n",
       "    </tr>\n",
       "    <tr>\n",
       "      <th>192392</th>\n",
       "      <td>2574</td>\n",
       "      <td>1132</td>\n",
       "      <td>4</td>\n",
       "      <td>0.191662</td>\n",
       "      <td>Full Metal Jacket (1987)</td>\n",
       "      <td>Action|Drama|War</td>\n",
       "      <td>M</td>\n",
       "      <td>0.618182</td>\n",
       "      <td>7</td>\n",
       "      <td>2383</td>\n",
       "    </tr>\n",
       "    <tr>\n",
       "      <th>401893</th>\n",
       "      <td>5367</td>\n",
       "      <td>859</td>\n",
       "      <td>2</td>\n",
       "      <td>0.042247</td>\n",
       "      <td>Gone with the Wind (1939)</td>\n",
       "      <td>Drama|Romance|War</td>\n",
       "      <td>F</td>\n",
       "      <td>0.436364</td>\n",
       "      <td>17</td>\n",
       "      <td>786</td>\n",
       "    </tr>\n",
       "    <tr>\n",
       "      <th>260891</th>\n",
       "      <td>3538</td>\n",
       "      <td>169</td>\n",
       "      <td>3</td>\n",
       "      <td>0.113961</td>\n",
       "      <td>Kids (1995)</td>\n",
       "      <td>Drama</td>\n",
       "      <td>F</td>\n",
       "      <td>0.436364</td>\n",
       "      <td>4</td>\n",
       "      <td>2393</td>\n",
       "    </tr>\n",
       "  </tbody>\n",
       "</table>\n",
       "</div>"
      ],
      "text/plain": [
       "        userId  movieId  rating  timestamp  \\\n",
       "330458    4380      259       4   0.095411   \n",
       "127545    1679     1797       3   0.200619   \n",
       "192392    2574     1132       4   0.191662   \n",
       "401893    5367      859       2   0.042247   \n",
       "260891    3538      169       3   0.113961   \n",
       "\n",
       "                                             name                     genres  \\\n",
       "330458                 Legends of the Fall (1994)  Drama|Romance|War|Western   \n",
       "127545  Friday the 13th: The Final Chapter (1984)                     Horror   \n",
       "192392                   Full Metal Jacket (1987)           Action|Drama|War   \n",
       "401893                  Gone with the Wind (1939)          Drama|Romance|War   \n",
       "260891                                Kids (1995)                      Drama   \n",
       "\n",
       "       sex       age  occupation  zipcode  \n",
       "330458   M  0.436364           4     2200  \n",
       "127545   M  0.436364          20     3190  \n",
       "192392   M  0.618182           7     2383  \n",
       "401893   F  0.436364          17      786  \n",
       "260891   F  0.436364           4     2393  "
      ]
     },
     "execution_count": 14,
     "metadata": {},
     "output_type": "execute_result"
    }
   ],
   "source": [
    "data.head()"
   ]
  },
  {
   "cell_type": "code",
   "execution_count": 15,
   "metadata": {
    "execution_event_id": "9d203a4a-82bc-43bb-8c53-fa01244218cb",
    "last_executed_text": "# preprocess the sequence data\nkey2index = {}\ngenres_list = list(map(split, data['genres'].values))\n# print(genres_list)\ngenres_length = np.array(list(map(len, genres_list)))\nmax_len = max(genres_length)\ngenres_list = pad_sequences(genres_list, maxlen=max_len, padding='post')",
    "persistent_id": "799428b1-fa42-4d99-a9e9-9ee50e8b96ee"
   },
   "outputs": [],
   "source": [
    "# preprocess the sequence data\n",
    "key2index = {}\n",
    "genres_list = list(map(split, data['genres'].values))\n",
    "# print(genres_list)\n",
    "genres_length = np.array(list(map(len, genres_list)))\n",
    "max_len = max(genres_length)\n",
    "genres_list = pad_sequences(genres_list, maxlen=max_len, padding='post')"
   ]
  },
  {
   "cell_type": "code",
   "execution_count": 16,
   "metadata": {
    "execution_event_id": "850a25de-c50e-46f5-ba75-fbf04bd87c79",
    "last_executed_text": "fixlen_feature_columns = [SparseFeat(feat, data[feat].nunique(), embedding_dim = 4)\n                         for feat in sparse_features] + [DenseFeat(feat, 1, ) for feat in dense_features]\n\nvarlen_feature_columns = [VarLenSparseFeat(SparseFeat('genres', vocabulary_size = len(\n    key2index) + 1, embedding_dim = 4), maxlen=max_len, combiner='mean',\n                                          weight_name = None)]\n\nlinear_feature_columns = fixlen_feature_columns + varlen_feature_columns\ndnn_feature_columns = fixlen_feature_columns + varlen_feature_columns\n\n# print(\"Type of linear_feature_columns is {0} and the shape of linear_feature_columns is {1}\".format(type(linear_feature_columns), len(linear_feature_columns)))\nfeature_names = get_feature_names(linear_feature_columns + dnn_feature_columns)\n# print(feature_names)",
    "persistent_id": "fdcc3339-fa89-4651-bd59-030db79909a2"
   },
   "outputs": [],
   "source": [
    "fixlen_feature_columns = [SparseFeat(feat, data[feat].nunique(), embedding_dim = 4)\n",
    "                         for feat in sparse_features] + [DenseFeat(feat, 1, ) for feat in dense_features]\n",
    "\n",
    "varlen_feature_columns = [VarLenSparseFeat(SparseFeat('genres', vocabulary_size = len(\n",
    "    key2index) + 1, embedding_dim = 4), maxlen=max_len, combiner='mean',\n",
    "                                          weight_name = None)]\n",
    "\n",
    "linear_feature_columns = fixlen_feature_columns + varlen_feature_columns\n",
    "dnn_feature_columns = fixlen_feature_columns + varlen_feature_columns\n",
    "\n",
    "# print(\"Type of linear_feature_columns is {0} and the shape of linear_feature_columns is {1}\".format(type(linear_feature_columns), len(linear_feature_columns)))\n",
    "feature_names = get_feature_names(linear_feature_columns + dnn_feature_columns)\n",
    "# print(feature_names)"
   ]
  },
  {
   "cell_type": "code",
   "execution_count": 17,
   "metadata": {
    "execution_event_id": "41102b49-c8c5-43c8-9ec6-e2aff097de33",
    "last_executed_text": "train = data[:train.shape[0]]\ntest = data[train.shape[0]:]",
    "persistent_id": "f3f6c718-8c33-4f96-9179-521321b1aa23"
   },
   "outputs": [],
   "source": [
    "train = data[:train.shape[0]]\n",
    "test = data[train.shape[0]:]"
   ]
  },
  {
   "cell_type": "code",
   "execution_count": 18,
   "metadata": {
    "execution_event_id": "d0c42203-487f-4acc-a004-0d7a7566ee5e",
    "last_executed_text": "train_genres_list = list(map(split, train['genres'].values))\ntrain_genres_list = pad_sequences(train_genres_list, maxlen=max_len, padding='post')\ntest_genres_list = list(map(split, test['genres'].values))\ntest_genres_list = pad_sequences(test_genres_list, maxlen=max_len, padding='post')",
    "persistent_id": "9a0549e4-5ffa-4251-8880-cf8361ad2b28"
   },
   "outputs": [],
   "source": [
    "train_genres_list = list(map(split, train['genres'].values))\n",
    "train_genres_list = pad_sequences(train_genres_list, maxlen=max_len, padding='post')\n",
    "test_genres_list = list(map(split, test['genres'].values))\n",
    "test_genres_list = pad_sequences(test_genres_list, maxlen=max_len, padding='post')"
   ]
  },
  {
   "cell_type": "code",
   "execution_count": 19,
   "metadata": {
    "execution_event_id": "16bf5072-0f0d-4c8a-a4c8-078c9f413504",
    "last_executed_text": "train_model_input = {name: train[name].values for name in feature_names}\ntrain_model_input[\"genres\"] = train_genres_list\ntest_model_input = {name: test[name].values for name in feature_names}\ntest_model_input[\"genres\"] = test_genres_list",
    "persistent_id": "06c8b19a-7b45-4e01-8cdb-ce36d0cc396e"
   },
   "outputs": [],
   "source": [
    "train_model_input = {name: train[name].values for name in feature_names}\n",
    "train_model_input[\"genres\"] = train_genres_list\n",
    "test_model_input = {name: test[name].values for name in feature_names}\n",
    "test_model_input[\"genres\"] = test_genres_list"
   ]
  },
  {
   "cell_type": "code",
   "execution_count": 20,
   "metadata": {
    "execution_event_id": "0af55e21-5a22-46b3-a7a3-bbaa4ec7d0a4",
    "last_executed_text": "model = WDL(linear_feature_columns, dnn_feature_columns, task='regression')\nmodel.compile(\"adam\", \"mse\", metrics=['mse'])\nes = EarlyStopping(monitor='val_mse', mode='min')\nhistory = model.fit(train_model_input, train[target].values, callbacks= [es], batch_size=256, epochs=30, verbose=True, validation_split=0.2)",
    "persistent_id": "73582283-749f-4cea-ace3-1cc0d0b1b206"
   },
   "outputs": [
    {
     "name": "stdout",
     "output_type": "stream",
     "text": [
      "Train on 640133 samples, validate on 160034 samples\n",
      "Epoch 1/30\n",
      "640133/640133 [==============================] - 62s 96us/sample - loss: 0.9964 - mse: 0.9957 - val_loss: 0.8353 - val_mse: 0.8341\n",
      "Epoch 2/30\n",
      "640133/640133 [==============================] - 57s 90us/sample - loss: 0.8076 - mse: 0.8058 - val_loss: 0.8133 - val_mse: 0.8109\n",
      "Epoch 3/30\n",
      "640133/640133 [==============================] - 58s 90us/sample - loss: 0.7803 - mse: 0.7773 - val_loss: 0.7915 - val_mse: 0.7879\n",
      "Epoch 4/30\n",
      "640133/640133 [==============================] - 57s 88us/sample - loss: 0.7559 - mse: 0.7516 - val_loss: 0.7793 - val_mse: 0.7744\n",
      "Epoch 5/30\n",
      "640133/640133 [==============================] - 58s 90us/sample - loss: 0.7358 - mse: 0.7303 - val_loss: 0.7699 - val_mse: 0.7638\n",
      "Epoch 6/30\n",
      "640133/640133 [==============================] - 59s 92us/sample - loss: 0.7237 - mse: 0.7170 - val_loss: 0.7684 - val_mse: 0.7612\n",
      "Epoch 7/30\n",
      "640133/640133 [==============================] - 56s 88us/sample - loss: 0.7146 - mse: 0.7068 - val_loss: 0.7697 - val_mse: 0.7614\n"
     ]
    }
   ],
   "source": [
    "model = WDL(linear_feature_columns, dnn_feature_columns, task='regression')\n",
    "model.compile(\"adam\", \"mse\", metrics=['mse'])\n",
    "es = EarlyStopping(monitor='val_mse', mode='min')\n",
    "history = model.fit(train_model_input, train[target].values, callbacks= [es], batch_size=256, epochs=30, verbose=True, validation_split=0.2)"
   ]
  },
  {
   "cell_type": "code",
   "execution_count": 21,
   "metadata": {
    "execution_event_id": "6d8cd46c-cdb1-449f-8c66-a91e5a78b553",
    "last_executed_text": "pred_ans = model.predict(test_model_input, batch_size = 256)",
    "persistent_id": "d4ccb0a7-62a5-4944-aa37-a942b0a42838"
   },
   "outputs": [],
   "source": [
    "pred_ans = model.predict(test_model_input, batch_size = 256)"
   ]
  },
  {
   "cell_type": "code",
   "execution_count": 22,
   "metadata": {
    "execution_event_id": "981d7c28-6710-460b-96ab-73b5cf9874e0",
    "last_executed_text": "mse = round(mean_squared_error(test[target].values, pred_ans), 4)\nrmse = mse ** 0.5\nprint(\"test RMSE\", rmse)",
    "persistent_id": "4f18d351-c4fe-43f5-922f-97f622e49ca7"
   },
   "outputs": [
    {
     "name": "stdout",
     "output_type": "stream",
     "text": [
      "test RMSE 0.8729833904490967\n"
     ]
    }
   ],
   "source": [
    "mse = round(mean_squared_error(test[target].values, pred_ans), 4)\n",
    "rmse = mse ** 0.5\n",
    "print(\"test RMSE\", rmse)"
   ]
  },
  {
   "cell_type": "code",
   "execution_count": 23,
   "metadata": {
    "execution_event_id": "59e7ca90-59fb-4529-940f-85b013a463b8",
    "last_executed_text": "import matplotlib.pyplot as plt\n\n# summarize history for loss\nplt.plot(history.history['loss'])\nplt.plot(history.history['val_loss'])\nplt.title('model loss')\nplt.ylabel('loss')\nplt.xlabel('epoch')\nplt.legend(['train', 'test'], loc='upper left')\nplt.show()\n# summarize history for loss\nplt.plot(history.history['mse'])\nplt.plot(history.history['val_mse'])\nplt.title('model mse')\nplt.ylabel('mse')\nplt.xlabel('epoch')\nplt.legend(['train', 'test'], loc='upper left')\nplt.show()",
    "persistent_id": "259b1654-48f1-47ec-9cbe-070e4b972b1e"
   },
   "outputs": [
    {
     "data": {
      "image/png": "[encoded data removed]",
      "text/plain": [
       "<Figure size 432x288 with 1 Axes>"
      ]
     },
     "metadata": {
      "needs_background": "light"
     },
     "output_type": "display_data"
    },
    {
     "data": {
      "image/png": "[encoded data removed]",
      "text/plain": [
       "<Figure size 432x288 with 1 Axes>"
      ]
     },
     "metadata": {
      "needs_background": "light"
     },
     "output_type": "display_data"
    }
   ],
   "source": [
    "import matplotlib.pyplot as plt\n",
    "\n",
    "# summarize history for loss\n",
    "plt.plot(history.history['loss'])\n",
    "plt.plot(history.history['val_loss'])\n",
    "plt.title('model loss')\n",
    "plt.ylabel('loss')\n",
    "plt.xlabel('epoch')\n",
    "plt.legend(['train', 'test'], loc='upper left')\n",
    "plt.show()\n",
    "# summarize history for loss\n",
    "plt.plot(history.history['mse'])\n",
    "plt.plot(history.history['val_mse'])\n",
    "plt.title('model mse')\n",
    "plt.ylabel('mse')\n",
    "plt.xlabel('epoch')\n",
    "plt.legend(['train', 'test'], loc='upper left')\n",
    "plt.show()"
   ]
  }
 ],
 "metadata": {
  "history": [
   {
    "cell": {
     "executionCount": 1,
     "executionEventId": "cf9fd1ce-00d1-47e1-b77b-b367213ccb73",
     "hasError": false,
     "id": "ce51a94e-348e-48d8-b866-27ffb8d3f2ec",
     "outputs": [],
     "persistentId": "732a1adf-81f8-44c9-87eb-869925be5362",
     "text": "import pandas as pd\nimport numpy as np\nimport warnings\nwarnings.filterwarnings(\"ignore\")"
    },
    "executionTime": "2020-03-18T06:38:10.697Z"
   },
   {
    "cell": {
     "executionCount": 2,
     "executionEventId": "f8be8e9a-bfef-4006-993c-21682c20c991",
     "hasError": false,
     "id": "abfbaa6b-81b9-482d-8407-5c700891419b",
     "outputs": [],
     "persistentId": "7d4b5e8e-5e2f-42a4-bc0f-3b52c0c165af",
     "text": "ratings = pd.read_csv('data/ratings.dat', sep = '::', header = None)\nmovies = pd.read_csv('data/movies.dat', sep = '::', header = None)\nusers = pd.read_csv('data/users.dat', sep = '::', header = None)\nratings.columns = ['userId', 'movieId', 'rating', 'timestamp']\nmovies.columns = ['movieId', 'name', 'genres']\nusers.columns = ['userId', 'sex', 'age', 'occupation', 'zipcode']\nmovie_ratings = pd.merge(ratings, movies, on = 'movieId')\nmovie_ratings = pd.merge(movie_ratings, users, on = 'userId')"
    },
    "executionTime": "2020-03-18T06:38:21.170Z"
   },
   {
    "cell": {
     "executionCount": 3,
     "executionEventId": "25413b66-8f06-42bf-ba1d-935b9ec9d96c",
     "hasError": false,
     "id": "75488d46-04d8-4be8-8fc9-69e4f4e4a480",
     "outputs": [
      {
       "data": {
        "text/html": "<div>\n<style scoped>\n    .dataframe tbody tr th:only-of-type {\n        vertical-align: middle;\n    }\n\n    .dataframe tbody tr th {\n        vertical-align: top;\n    }\n\n    .dataframe thead th {\n        text-align: right;\n    }\n</style>\n<table border=\"1\" class=\"dataframe\">\n  <thead>\n    <tr style=\"text-align: right;\">\n      <th></th>\n      <th>userId</th>\n      <th>movieId</th>\n      <th>rating</th>\n      <th>timestamp</th>\n      <th>name</th>\n      <th>genres</th>\n      <th>sex</th>\n      <th>age</th>\n      <th>occupation</th>\n      <th>zipcode</th>\n    </tr>\n  </thead>\n  <tbody>\n    <tr>\n      <th>0</th>\n      <td>1</td>\n      <td>1193</td>\n      <td>5</td>\n      <td>978300760</td>\n      <td>One Flew Over the Cuckoo's Nest (1975)</td>\n      <td>Drama</td>\n      <td>F</td>\n      <td>1</td>\n      <td>10</td>\n      <td>48067</td>\n    </tr>\n    <tr>\n      <th>1</th>\n      <td>1</td>\n      <td>661</td>\n      <td>3</td>\n      <td>978302109</td>\n      <td>James and the Giant Peach (1996)</td>\n      <td>Animation|Children's|Musical</td>\n      <td>F</td>\n      <td>1</td>\n      <td>10</td>\n      <td>48067</td>\n    </tr>\n    <tr>\n      <th>2</th>\n      <td>1</td>\n      <td>914</td>\n      <td>3</td>\n      <td>978301968</td>\n      <td>My Fair Lady (1964)</td>\n      <td>Musical|Romance</td>\n      <td>F</td>\n      <td>1</td>\n      <td>10</td>\n      <td>48067</td>\n    </tr>\n    <tr>\n      <th>3</th>\n      <td>1</td>\n      <td>3408</td>\n      <td>4</td>\n      <td>978300275</td>\n      <td>Erin Brockovich (2000)</td>\n      <td>Drama</td>\n      <td>F</td>\n      <td>1</td>\n      <td>10</td>\n      <td>48067</td>\n    </tr>\n    <tr>\n      <th>4</th>\n      <td>1</td>\n      <td>2355</td>\n      <td>5</td>\n      <td>978824291</td>\n      <td>Bug's Life, A (1998)</td>\n      <td>Animation|Children's|Comedy</td>\n      <td>F</td>\n      <td>1</td>\n      <td>10</td>\n      <td>48067</td>\n    </tr>\n  </tbody>\n</table>\n</div>",
        "text/plain": "   userId  movieId  rating  timestamp                                    name  \\\n0       1     1193       5  978300760  One Flew Over the Cuckoo's Nest (1975)   \n1       1      661       3  978302109        James and the Giant Peach (1996)   \n2       1      914       3  978301968                     My Fair Lady (1964)   \n3       1     3408       4  978300275                  Erin Brockovich (2000)   \n4       1     2355       5  978824291                    Bug's Life, A (1998)   \n\n                         genres sex  age  occupation zipcode  \n0                         Drama   F    1          10   48067  \n1  Animation|Children's|Musical   F    1          10   48067  \n2               Musical|Romance   F    1          10   48067  \n3                         Drama   F    1          10   48067  \n4   Animation|Children's|Comedy   F    1          10   48067  "
       },
       "execution_count": 3,
       "metadata": {},
       "output_type": "execute_result"
      }
     ],
     "persistentId": "67adb73b-151b-4de8-bb03-f9a2d98b60ed",
     "text": "movie_ratings.head()"
    },
    "executionTime": "2020-03-18T06:38:21.225Z"
   },
   {
    "cell": {
     "executionCount": 4,
     "executionEventId": "3eea6155-03f3-4dfa-8cbc-686a8fbf795e",
     "hasError": false,
     "id": "a0171aa7-8612-43cd-b502-dc6c74acd48f",
     "outputs": [
      {
       "data": {
        "text/plain": "(1000209, 10)"
       },
       "execution_count": 4,
       "metadata": {},
       "output_type": "execute_result"
      }
     ],
     "persistentId": "c9ae7de7-7890-497a-b247-0641fa27bad9",
     "text": "movie_ratings.shape"
    },
    "executionTime": "2020-03-18T06:38:21.292Z"
   },
   {
    "cell": {
     "executionCount": 5,
     "executionEventId": "ebc77b0c-9ac7-48f8-8cdd-879022ae6a6f",
     "hasError": true,
     "id": "83eb14ff-0729-49d1-98eb-87768207f2c3",
     "outputs": [
      {
       "ename": "ModuleNotFoundError",
       "evalue": "No module named 'tensorflow'",
       "output_type": "error",
       "traceback": [
        "\u001b[0;31m---------------------------------------------------------------------------\u001b[0m",
        "\u001b[0;31mModuleNotFoundError\u001b[0m                       Traceback (most recent call last)",
        "\u001b[0;32m<ipython-input-5-c023e54ed741>\u001b[0m in \u001b[0;36m<module>\u001b[0;34m\u001b[0m\n\u001b[1;32m      2\u001b[0m \u001b[0;32mfrom\u001b[0m \u001b[0msklearn\u001b[0m\u001b[0;34m.\u001b[0m\u001b[0mmodel_selection\u001b[0m \u001b[0;32mimport\u001b[0m \u001b[0mtrain_test_split\u001b[0m\u001b[0;34m\u001b[0m\u001b[0;34m\u001b[0m\u001b[0m\n\u001b[1;32m      3\u001b[0m \u001b[0;32mfrom\u001b[0m \u001b[0msklearn\u001b[0m\u001b[0;34m.\u001b[0m\u001b[0mpreprocessing\u001b[0m \u001b[0;32mimport\u001b[0m \u001b[0mLabelEncoder\u001b[0m\u001b[0;34m\u001b[0m\u001b[0;34m\u001b[0m\u001b[0m\n\u001b[0;32m----> 4\u001b[0;31m \u001b[0;32mfrom\u001b[0m \u001b[0mtensorflow\u001b[0m\u001b[0;34m.\u001b[0m\u001b[0mpython\u001b[0m\u001b[0;34m.\u001b[0m\u001b[0mkeras\u001b[0m\u001b[0;34m.\u001b[0m\u001b[0mpreprocessing\u001b[0m\u001b[0;34m.\u001b[0m\u001b[0msequence\u001b[0m \u001b[0;32mimport\u001b[0m \u001b[0mpad_sequences\u001b[0m\u001b[0;34m\u001b[0m\u001b[0;34m\u001b[0m\u001b[0m\n\u001b[0m\u001b[1;32m      5\u001b[0m \u001b[0;32mfrom\u001b[0m \u001b[0mtensorflow\u001b[0m\u001b[0;34m.\u001b[0m\u001b[0mkeras\u001b[0m\u001b[0;34m.\u001b[0m\u001b[0mcallbacks\u001b[0m \u001b[0;32mimport\u001b[0m \u001b[0mEarlyStopping\u001b[0m\u001b[0;34m\u001b[0m\u001b[0;34m\u001b[0m\u001b[0m\n\u001b[1;32m      6\u001b[0m \u001b[0;34m\u001b[0m\u001b[0m\n",
        "\u001b[0;31mModuleNotFoundError\u001b[0m: No module named 'tensorflow'"
       ]
      }
     ],
     "persistentId": "bfc4d18a-0cff-4cb6-9ddf-b4efb6cabd29",
     "text": "from sklearn.metrics import mean_squared_error\nfrom sklearn.model_selection import train_test_split\nfrom sklearn.preprocessing import LabelEncoder\nfrom tensorflow.python.keras.preprocessing.sequence import pad_sequences\nfrom tensorflow.keras.callbacks import EarlyStopping\n\nfrom deepctr.models import WDL\nfrom deepctr.inputs import SparseFeat, DenseFeat, VarLenSparseFeat, get_feature_names"
    },
    "executionTime": "2020-03-18T06:38:21.919Z"
   },
   {
    "cell": {
     "executionCount": 6,
     "executionEventId": "2a3d44a5-7411-4fde-8018-2cafe6eef232",
     "hasError": true,
     "id": "83eb14ff-0729-49d1-98eb-87768207f2c3",
     "outputs": [
      {
       "ename": "ModuleNotFoundError",
       "evalue": "No module named 'deepctr'",
       "output_type": "error",
       "traceback": [
        "\u001b[0;31m---------------------------------------------------------------------------\u001b[0m",
        "\u001b[0;31mModuleNotFoundError\u001b[0m                       Traceback (most recent call last)",
        "\u001b[0;32m<ipython-input-6-c023e54ed741>\u001b[0m in \u001b[0;36m<module>\u001b[0;34m\u001b[0m\n\u001b[1;32m      5\u001b[0m \u001b[0;32mfrom\u001b[0m \u001b[0mtensorflow\u001b[0m\u001b[0;34m.\u001b[0m\u001b[0mkeras\u001b[0m\u001b[0;34m.\u001b[0m\u001b[0mcallbacks\u001b[0m \u001b[0;32mimport\u001b[0m \u001b[0mEarlyStopping\u001b[0m\u001b[0;34m\u001b[0m\u001b[0;34m\u001b[0m\u001b[0m\n\u001b[1;32m      6\u001b[0m \u001b[0;34m\u001b[0m\u001b[0m\n\u001b[0;32m----> 7\u001b[0;31m \u001b[0;32mfrom\u001b[0m \u001b[0mdeepctr\u001b[0m\u001b[0;34m.\u001b[0m\u001b[0mmodels\u001b[0m \u001b[0;32mimport\u001b[0m \u001b[0mWDL\u001b[0m\u001b[0;34m\u001b[0m\u001b[0;34m\u001b[0m\u001b[0m\n\u001b[0m\u001b[1;32m      8\u001b[0m \u001b[0;32mfrom\u001b[0m \u001b[0mdeepctr\u001b[0m\u001b[0;34m.\u001b[0m\u001b[0minputs\u001b[0m \u001b[0;32mimport\u001b[0m \u001b[0mSparseFeat\u001b[0m\u001b[0;34m,\u001b[0m \u001b[0mDenseFeat\u001b[0m\u001b[0;34m,\u001b[0m \u001b[0mVarLenSparseFeat\u001b[0m\u001b[0;34m,\u001b[0m \u001b[0mget_feature_names\u001b[0m\u001b[0;34m\u001b[0m\u001b[0;34m\u001b[0m\u001b[0m\n",
        "\u001b[0;31mModuleNotFoundError\u001b[0m: No module named 'deepctr'"
       ]
      }
     ],
     "persistentId": "bfc4d18a-0cff-4cb6-9ddf-b4efb6cabd29",
     "text": "from sklearn.metrics import mean_squared_error\nfrom sklearn.model_selection import train_test_split\nfrom sklearn.preprocessing import LabelEncoder\nfrom tensorflow.python.keras.preprocessing.sequence import pad_sequences\nfrom tensorflow.keras.callbacks import EarlyStopping\n\nfrom deepctr.models import WDL\nfrom deepctr.inputs import SparseFeat, DenseFeat, VarLenSparseFeat, get_feature_names"
    },
    "executionTime": "2020-03-18T08:41:30.379Z"
   },
   {
    "cell": {
     "executionCount": 7,
     "executionEventId": "ea6446ba-0648-411a-8b2e-52b9111249bf",
     "hasError": false,
     "id": "83eb14ff-0729-49d1-98eb-87768207f2c3",
     "outputs": [],
     "persistentId": "bfc4d18a-0cff-4cb6-9ddf-b4efb6cabd29",
     "text": "from sklearn.metrics import mean_squared_error\nfrom sklearn.model_selection import train_test_split\nfrom sklearn.preprocessing import LabelEncoder\nfrom tensorflow.python.keras.preprocessing.sequence import pad_sequences\nfrom tensorflow.keras.callbacks import EarlyStopping\n\nfrom deepctr.models import WDL\nfrom deepctr.inputs import SparseFeat, DenseFeat, VarLenSparseFeat, get_feature_names"
    },
    "executionTime": "2020-03-18T08:45:15.596Z"
   },
   {
    "cell": {
     "executionCount": 8,
     "executionEventId": "a817a9a8-5c3c-4322-a4a6-7efb402a673b",
     "hasError": false,
     "id": "6947dedc-08b2-4373-920b-7f67a3b1583a",
     "outputs": [],
     "persistentId": "cf5c2765-d9a1-4966-b8a3-e80dd41cc50b",
     "text": "def split(x):\n    key_ans = x.split('|')\n    for key in key_ans:\n        if key not in key2index:\n            key2index[key] = len(key2index) + 1\n    return list(map(lambda x: key2index[x], key_ans))"
    },
    "executionTime": "2020-03-18T08:45:19.826Z"
   },
   {
    "cell": {
     "executionCount": 9,
     "executionEventId": "efca0889-5a70-4054-b0e3-70856e9c1eb4",
     "hasError": false,
     "id": "8752751b-c13b-4a36-9a46-66caa2ecb77b",
     "outputs": [],
     "persistentId": "5f4ad49a-ea03-4c79-8b9b-a168b44f4599",
     "text": "sparse_features = ['movieId', 'userId','occupation', 'zipcode']\ndense_features = ['timestamp', 'age']\n\nmovie_ratings[sparse_features] = movie_ratings[sparse_features].fillna('-1',)\nmovie_ratings[dense_features] = movie_ratings[dense_features].fillna(0,)\n\ntarget = ['rating']"
    },
    "executionTime": "2020-03-18T08:45:20.454Z"
   },
   {
    "cell": {
     "executionCount": 10,
     "executionEventId": "592b1598-0f6f-42c7-9db3-11e9dd473139",
     "hasError": false,
     "id": "3869352e-483d-47ae-8c5d-2208139342f5",
     "outputs": [],
     "persistentId": "12c33998-9694-4498-ad90-32b77f45ae82",
     "text": "# sampling train and test\ntrain, test = train_test_split(movie_ratings, test_size = 0.2)"
    },
    "executionTime": "2020-03-18T08:45:21.072Z"
   },
   {
    "cell": {
     "executionCount": 11,
     "executionEventId": "ef93fd39-a864-418d-bd6f-5bab7cabfaf4",
     "hasError": false,
     "id": "fc7054b8-e9f1-4642-b43b-e24dc3e508be",
     "outputs": [],
     "persistentId": "4f1f43fe-9040-48e6-90f9-7c6e7194747f",
     "text": "# concat train and test for preprocessing\ndata = pd.concat([train, test])"
    },
    "executionTime": "2020-03-18T08:45:21.251Z"
   },
   {
    "cell": {
     "executionCount": 12,
     "executionEventId": "309b8e1b-c39b-4fb6-84c3-04ffc958a0aa",
     "hasError": false,
     "id": "8b15663f-8bf2-422f-ad26-20507b46e30b",
     "outputs": [
      {
       "data": {
        "text/html": "<div>\n<style scoped>\n    .dataframe tbody tr th:only-of-type {\n        vertical-align: middle;\n    }\n\n    .dataframe tbody tr th {\n        vertical-align: top;\n    }\n\n    .dataframe thead th {\n        text-align: right;\n    }\n</style>\n<table border=\"1\" class=\"dataframe\">\n  <thead>\n    <tr style=\"text-align: right;\">\n      <th></th>\n      <th>userId</th>\n      <th>movieId</th>\n      <th>rating</th>\n      <th>timestamp</th>\n      <th>name</th>\n      <th>genres</th>\n      <th>sex</th>\n      <th>age</th>\n      <th>occupation</th>\n      <th>zipcode</th>\n    </tr>\n  </thead>\n  <tbody>\n    <tr>\n      <th>330458</th>\n      <td>4381</td>\n      <td>266</td>\n      <td>4</td>\n      <td>965267143</td>\n      <td>Legends of the Fall (1994)</td>\n      <td>Drama|Romance|War|Western</td>\n      <td>M</td>\n      <td>25</td>\n      <td>4</td>\n      <td>65804</td>\n    </tr>\n    <tr>\n      <th>127545</th>\n      <td>1680</td>\n      <td>1977</td>\n      <td>3</td>\n      <td>974709644</td>\n      <td>Friday the 13th: The Final Chapter (1984)</td>\n      <td>Horror</td>\n      <td>M</td>\n      <td>25</td>\n      <td>20</td>\n      <td>95380</td>\n    </tr>\n    <tr>\n      <th>192392</th>\n      <td>2575</td>\n      <td>1222</td>\n      <td>4</td>\n      <td>973905697</td>\n      <td>Full Metal Jacket (1987)</td>\n      <td>Action|Drama|War</td>\n      <td>M</td>\n      <td>35</td>\n      <td>7</td>\n      <td>76248</td>\n    </tr>\n    <tr>\n      <th>401893</th>\n      <td>5368</td>\n      <td>920</td>\n      <td>2</td>\n      <td>960495636</td>\n      <td>Gone with the Wind (1939)</td>\n      <td>Drama|Romance|War</td>\n      <td>F</td>\n      <td>25</td>\n      <td>17</td>\n      <td>20120</td>\n    </tr>\n    <tr>\n      <th>260891</th>\n      <td>3539</td>\n      <td>175</td>\n      <td>3</td>\n      <td>966932034</td>\n      <td>Kids (1995)</td>\n      <td>Drama</td>\n      <td>F</td>\n      <td>25</td>\n      <td>4</td>\n      <td>77006</td>\n    </tr>\n  </tbody>\n</table>\n</div>",
        "text/plain": "        userId  movieId  rating  timestamp  \\\n330458    4381      266       4  965267143   \n127545    1680     1977       3  974709644   \n192392    2575     1222       4  973905697   \n401893    5368      920       2  960495636   \n260891    3539      175       3  966932034   \n\n                                             name                     genres  \\\n330458                 Legends of the Fall (1994)  Drama|Romance|War|Western   \n127545  Friday the 13th: The Final Chapter (1984)                     Horror   \n192392                   Full Metal Jacket (1987)           Action|Drama|War   \n401893                  Gone with the Wind (1939)          Drama|Romance|War   \n260891                                Kids (1995)                      Drama   \n\n       sex  age  occupation zipcode  \n330458   M   25           4   65804  \n127545   M   25          20   95380  \n192392   M   35           7   76248  \n401893   F   25          17   20120  \n260891   F   25           4   77006  "
       },
       "execution_count": 12,
       "metadata": {},
       "output_type": "execute_result"
      }
     ],
     "persistentId": "2801d8d8-fdd7-48cf-8728-e6c38e63f29a",
     "text": "data.head()"
    },
    "executionTime": "2020-03-18T08:45:21.314Z"
   },
   {
    "cell": {
     "executionCount": 13,
     "executionEventId": "d0792b1c-1e3f-4c96-9025-d0d40319dd1b",
     "hasError": false,
     "id": "4c2a7595-a1c2-4909-8b0b-23ddfb007353",
     "outputs": [],
     "persistentId": "915721e8-ef5d-4871-a7c7-ebfb40cba7aa",
     "text": "from sklearn.preprocessing import MinMaxScaler\n\n# lable encoder sparse data\nfor feat in sparse_features:\n    lbe = LabelEncoder()\n    data[feat] = lbe.fit_transform(data[feat])\n\nscaler = MinMaxScaler()\ndata[dense_features] = scaler.fit_transform(data[dense_features])"
    },
    "executionTime": "2020-03-18T08:45:22.775Z"
   },
   {
    "cell": {
     "executionCount": 14,
     "executionEventId": "f209736a-cc31-4cf8-ad77-c16d770a7ebf",
     "hasError": false,
     "id": "03c1e617-9ba9-4be5-a0b4-6088dd31db1f",
     "outputs": [
      {
       "data": {
        "text/html": "<div>\n<style scoped>\n    .dataframe tbody tr th:only-of-type {\n        vertical-align: middle;\n    }\n\n    .dataframe tbody tr th {\n        vertical-align: top;\n    }\n\n    .dataframe thead th {\n        text-align: right;\n    }\n</style>\n<table border=\"1\" class=\"dataframe\">\n  <thead>\n    <tr style=\"text-align: right;\">\n      <th></th>\n      <th>userId</th>\n      <th>movieId</th>\n      <th>rating</th>\n      <th>timestamp</th>\n      <th>name</th>\n      <th>genres</th>\n      <th>sex</th>\n      <th>age</th>\n      <th>occupation</th>\n      <th>zipcode</th>\n    </tr>\n  </thead>\n  <tbody>\n    <tr>\n      <th>330458</th>\n      <td>4380</td>\n      <td>259</td>\n      <td>4</td>\n      <td>0.095411</td>\n      <td>Legends of the Fall (1994)</td>\n      <td>Drama|Romance|War|Western</td>\n      <td>M</td>\n      <td>0.436364</td>\n      <td>4</td>\n      <td>2200</td>\n    </tr>\n    <tr>\n      <th>127545</th>\n      <td>1679</td>\n      <td>1797</td>\n      <td>3</td>\n      <td>0.200619</td>\n      <td>Friday the 13th: The Final Chapter (1984)</td>\n      <td>Horror</td>\n      <td>M</td>\n      <td>0.436364</td>\n      <td>20</td>\n      <td>3190</td>\n    </tr>\n    <tr>\n      <th>192392</th>\n      <td>2574</td>\n      <td>1132</td>\n      <td>4</td>\n      <td>0.191662</td>\n      <td>Full Metal Jacket (1987)</td>\n      <td>Action|Drama|War</td>\n      <td>M</td>\n      <td>0.618182</td>\n      <td>7</td>\n      <td>2383</td>\n    </tr>\n    <tr>\n      <th>401893</th>\n      <td>5367</td>\n      <td>859</td>\n      <td>2</td>\n      <td>0.042247</td>\n      <td>Gone with the Wind (1939)</td>\n      <td>Drama|Romance|War</td>\n      <td>F</td>\n      <td>0.436364</td>\n      <td>17</td>\n      <td>786</td>\n    </tr>\n    <tr>\n      <th>260891</th>\n      <td>3538</td>\n      <td>169</td>\n      <td>3</td>\n      <td>0.113961</td>\n      <td>Kids (1995)</td>\n      <td>Drama</td>\n      <td>F</td>\n      <td>0.436364</td>\n      <td>4</td>\n      <td>2393</td>\n    </tr>\n  </tbody>\n</table>\n</div>",
        "text/plain": "        userId  movieId  rating  timestamp  \\\n330458    4380      259       4   0.095411   \n127545    1679     1797       3   0.200619   \n192392    2574     1132       4   0.191662   \n401893    5367      859       2   0.042247   \n260891    3538      169       3   0.113961   \n\n                                             name                     genres  \\\n330458                 Legends of the Fall (1994)  Drama|Romance|War|Western   \n127545  Friday the 13th: The Final Chapter (1984)                     Horror   \n192392                   Full Metal Jacket (1987)           Action|Drama|War   \n401893                  Gone with the Wind (1939)          Drama|Romance|War   \n260891                                Kids (1995)                      Drama   \n\n       sex       age  occupation  zipcode  \n330458   M  0.436364           4     2200  \n127545   M  0.436364          20     3190  \n192392   M  0.618182           7     2383  \n401893   F  0.436364          17      786  \n260891   F  0.436364           4     2393  "
       },
       "execution_count": 14,
       "metadata": {},
       "output_type": "execute_result"
      }
     ],
     "persistentId": "a407f6d4-44b0-47ac-94de-de2655eeb82f",
     "text": "data.head()"
    },
    "executionTime": "2020-03-18T08:45:22.821Z"
   },
   {
    "cell": {
     "executionCount": 15,
     "executionEventId": "9d203a4a-82bc-43bb-8c53-fa01244218cb",
     "hasError": false,
     "id": "895dda81-1be7-4931-9537-8f751cc5e30a",
     "outputs": [],
     "persistentId": "799428b1-fa42-4d99-a9e9-9ee50e8b96ee",
     "text": "# preprocess the sequence data\nkey2index = {}\ngenres_list = list(map(split, data['genres'].values))\n# print(genres_list)\ngenres_length = np.array(list(map(len, genres_list)))\nmax_len = max(genres_length)\ngenres_list = pad_sequences(genres_list, maxlen=max_len, padding='post')"
    },
    "executionTime": "2020-03-18T08:45:35.767Z"
   },
   {
    "cell": {
     "executionCount": 16,
     "executionEventId": "850a25de-c50e-46f5-ba75-fbf04bd87c79",
     "hasError": false,
     "id": "5c5a6440-d4b1-4b24-9158-9cc976f2028f",
     "outputs": [],
     "persistentId": "fdcc3339-fa89-4651-bd59-030db79909a2",
     "text": "fixlen_feature_columns = [SparseFeat(feat, data[feat].nunique(), embedding_dim = 4)\n                         for feat in sparse_features] + [DenseFeat(feat, 1, ) for feat in dense_features]\n\nvarlen_feature_columns = [VarLenSparseFeat(SparseFeat('genres', vocabulary_size = len(\n    key2index) + 1, embedding_dim = 4), maxlen=max_len, combiner='mean',\n                                          weight_name = None)]\n\nlinear_feature_columns = fixlen_feature_columns + varlen_feature_columns\ndnn_feature_columns = fixlen_feature_columns + varlen_feature_columns\n\n# print(\"Type of linear_feature_columns is {0} and the shape of linear_feature_columns is {1}\".format(type(linear_feature_columns), len(linear_feature_columns)))\nfeature_names = get_feature_names(linear_feature_columns + dnn_feature_columns)\n# print(feature_names)"
    },
    "executionTime": "2020-03-18T08:45:35.859Z"
   },
   {
    "cell": {
     "executionCount": 17,
     "executionEventId": "41102b49-c8c5-43c8-9ec6-e2aff097de33",
     "hasError": false,
     "id": "1b49dc75-78c3-404d-83cf-bf470cb57866",
     "outputs": [],
     "persistentId": "f3f6c718-8c33-4f96-9179-521321b1aa23",
     "text": "train = data[:train.shape[0]]\ntest = data[train.shape[0]:]"
    },
    "executionTime": "2020-03-18T08:45:35.910Z"
   },
   {
    "cell": {
     "executionCount": 18,
     "executionEventId": "d0c42203-487f-4acc-a004-0d7a7566ee5e",
     "hasError": false,
     "id": "2d865de2-dcb6-4a43-ab93-4ab163081ae7",
     "outputs": [],
     "persistentId": "9a0549e4-5ffa-4251-8880-cf8361ad2b28",
     "text": "train_genres_list = list(map(split, train['genres'].values))\ntrain_genres_list = pad_sequences(train_genres_list, maxlen=max_len, padding='post')\ntest_genres_list = list(map(split, test['genres'].values))\ntest_genres_list = pad_sequences(test_genres_list, maxlen=max_len, padding='post')"
    },
    "executionTime": "2020-03-18T08:45:48.681Z"
   },
   {
    "cell": {
     "executionCount": 19,
     "executionEventId": "16bf5072-0f0d-4c8a-a4c8-078c9f413504",
     "hasError": false,
     "id": "c5a6101c-bbae-4605-8685-c7f17457297c",
     "outputs": [],
     "persistentId": "06c8b19a-7b45-4e01-8cdb-ce36d0cc396e",
     "text": "train_model_input = {name: train[name].values for name in feature_names}\ntrain_model_input[\"genres\"] = train_genres_list\ntest_model_input = {name: test[name].values for name in feature_names}\ntest_model_input[\"genres\"] = test_genres_list"
    },
    "executionTime": "2020-03-18T08:45:48.704Z"
   },
   {
    "cell": {
     "executionCount": 20,
     "executionEventId": "0af55e21-5a22-46b3-a7a3-bbaa4ec7d0a4",
     "hasError": false,
     "id": "1ffd80e7-caeb-4193-9727-eee64be23aba",
     "outputs": [
      {
       "name": "stdout",
       "output_type": "stream",
       "text": "Train on 640133 samples, validate on 160034 samples\nEpoch 1/30\n640133/640133 [==============================] - 62s 96us/sample - loss: 0.9964 - mse: 0.9957 - val_loss: 0.8353 - val_mse: 0.8341\nEpoch 2/30\n640133/640133 [==============================] - 57s 90us/sample - loss: 0.8076 - mse: 0.8058 - val_loss: 0.8133 - val_mse: 0.8109\nEpoch 3/30\n640133/640133 [==============================] - 58s 90us/sample - loss: 0.7803 - mse: 0.7773 - val_loss: 0.7915 - val_mse: 0.7879\nEpoch 4/30\n640133/640133 [==============================] - 57s 88us/sample - loss: 0.7559 - mse: 0.7516 - val_loss: 0.7793 - val_mse: 0.7744\nEpoch 5/30\n640133/640133 [==============================] - 58s 90us/sample - loss: 0.7358 - mse: 0.7303 - val_loss: 0.7699 - val_mse: 0.7638\nEpoch 6/30\n640133/640133 [==============================] - 59s 92us/sample - loss: 0.7237 - mse: 0.7170 - val_loss: 0.7684 - val_mse: 0.7612\nEpoch 7/30\n640133/640133 [==============================] - 56s 88us/sample - loss: 0.7146 - mse: 0.7068 - val_loss: 0.7697 - val_mse: 0.7614\n"
      }
     ],
     "persistentId": "73582283-749f-4cea-ace3-1cc0d0b1b206",
     "text": "model = WDL(linear_feature_columns, dnn_feature_columns, task='regression')\nmodel.compile(\"adam\", \"mse\", metrics=['mse'])\nes = EarlyStopping(monitor='val_mse', mode='min')\nhistory = model.fit(train_model_input, train[target].values, callbacks= [es], batch_size=256, epochs=30, verbose=True, validation_split=0.2)"
    },
    "executionTime": "2020-03-18T08:52:37.561Z"
   },
   {
    "cell": {
     "executionCount": 21,
     "executionEventId": "6d8cd46c-cdb1-449f-8c66-a91e5a78b553",
     "hasError": false,
     "id": "06e3cfc8-af8a-4320-a6ca-bd3265c35ce3",
     "outputs": [],
     "persistentId": "d4ccb0a7-62a5-4944-aa37-a942b0a42838",
     "text": "pred_ans = model.predict(test_model_input, batch_size = 256)"
    },
    "executionTime": "2020-03-18T08:52:44.227Z"
   },
   {
    "cell": {
     "executionCount": 22,
     "executionEventId": "981d7c28-6710-460b-96ab-73b5cf9874e0",
     "hasError": false,
     "id": "7550146f-d661-484e-8b25-fc762406e743",
     "outputs": [
      {
       "name": "stdout",
       "output_type": "stream",
       "text": "test RMSE 0.8729833904490967\n"
      }
     ],
     "persistentId": "4f18d351-c4fe-43f5-922f-97f622e49ca7",
     "text": "mse = round(mean_squared_error(test[target].values, pred_ans), 4)\nrmse = mse ** 0.5\nprint(\"test RMSE\", rmse)"
    },
    "executionTime": "2020-03-18T08:52:44.238Z"
   },
   {
    "cell": {
     "executionCount": 23,
     "executionEventId": "59e7ca90-59fb-4529-940f-85b013a463b8",
     "hasError": false,
     "id": "bd732226-7877-4b33-b1cf-c761d7d269ba",
     "outputs": [
      {
       "data": {
        "image/png": "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\n",
        "text/plain": "<Figure size 432x288 with 1 Axes>"
       },
       "metadata": {
        "needs_background": "light"
       },
       "output_type": "display_data"
      },
      {
       "data": {
        "image/png": "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\n",
        "text/plain": "<Figure size 432x288 with 1 Axes>"
       },
       "metadata": {
        "needs_background": "light"
       },
       "output_type": "display_data"
      }
     ],
     "persistentId": "259b1654-48f1-47ec-9cbe-070e4b972b1e",
     "text": "import matplotlib.pyplot as plt\n\n# summarize history for loss\nplt.plot(history.history['loss'])\nplt.plot(history.history['val_loss'])\nplt.title('model loss')\nplt.ylabel('loss')\nplt.xlabel('epoch')\nplt.legend(['train', 'test'], loc='upper left')\nplt.show()\n# summarize history for loss\nplt.plot(history.history['mse'])\nplt.plot(history.history['val_mse'])\nplt.title('model mse')\nplt.ylabel('mse')\nplt.xlabel('epoch')\nplt.legend(['train', 'test'], loc='upper left')\nplt.show()"
    },
    "executionTime": "2020-03-18T08:52:45.013Z"
   }
  ],
  "kernelspec": {
   "display_name": "Python 3",
   "language": "python",
   "name": "python3"
  },
  "language_info": {
   "codemirror_mode": {
    "name": "ipython",
    "version": 3
   },
   "file_extension": ".py",
   "mimetype": "text/x-python",
   "name": "python",
   "nbconvert_exporter": "python",
   "pygments_lexer": "ipython3",
   "version": "3.7.6"
  },
  "uuid": "eb975aba-41d7-4477-9024-8ea046c6b265"
 },
 "nbformat": 4,
 "nbformat_minor": 4
}
