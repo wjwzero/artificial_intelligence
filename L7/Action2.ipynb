{
 "cells": [
  {
   "cell_type": "markdown",
   "metadata": {},
   "source": [
    "## Action2：使用基于邻域的协同过滤（KNNBasic, KNNWithMeans, KNNWithZScore, KNNBaseline中的任意一种）对MovieLens数据集进行协同过滤，采用k折交叉验证(k=3)，输出每次计算的RMSE, MAE"
   ]
  },
  {
   "cell_type": "code",
   "execution_count": 7,
   "metadata": {
    "execution_event_id": "210705b3-09d7-4068-9869-f3b88f22fe6b",
    "last_executed_text": "from surprise import KNNBasic, KNNWithMeans, KNNWithZScore, KNNBaseline\nfrom surprise import Dataset, Reader\nfrom surprise import accuracy\nfrom surprise.model_selection import KFold",
    "persistent_id": "a451fa9e-6707-44d6-bf5c-2a85fc06f353"
   },
   "outputs": [],
   "source": [
    "from surprise import KNNBasic, KNNWithMeans, KNNWithZScore, KNNBaseline\n",
    "from surprise import Dataset, Reader\n",
    "from surprise import accuracy\n",
    "from surprise.model_selection import KFold"
   ]
  },
  {
   "cell_type": "code",
   "execution_count": 8,
   "metadata": {
    "execution_event_id": "fa3315b3-2c34-49e2-b79b-d17c877a7b0c",
    "last_executed_text": "# read data\nreader = Reader(line_format='user item rating timestamp', sep='::', skip_lines=0)\ndata = Dataset.load_from_file('data/ratings.dat', reader = reader)\ntrain_set = data.build_full_trainset()",
    "persistent_id": "77991655-4042-4530-8865-9a2ee8d02f01"
   },
   "outputs": [],
   "source": [
    "# read data\n",
    "reader = Reader(line_format='user item rating timestamp', sep='::', skip_lines=0)\n",
    "data = Dataset.load_from_file('data/ratings.dat', reader = reader)\n",
    "train_set = data.build_full_trainset()"
   ]
  },
  {
   "cell_type": "code",
   "execution_count": 9,
   "metadata": {
    "execution_event_id": "6b47b117-84df-4e20-a355-aaf9029e4d73",
    "last_executed_text": "# initialize models\nmodels = {}\nmodels['KNNBasic'] = KNNBasic(k=50, min_k = 3, sim_options={'user_based': True}, verbose=True)\nmodels['KNNWithMeans'] = KNNWithMeans(k=50, min_k = 3, sim_options={'user_based': True}, verbose=True)\nmodels['KNNWithZScore'] = KNNWithZScore(k=50, min_k = 3, sim_options={'user_based': True}, verbose=True)\nmodels['KNNBaseline'] = KNNBaseline(k=50, min_k = 3, sim_options={'user_based': True}, verbose=True)",
    "persistent_id": "d30a8f81-d7fc-4e68-8ee0-0705eaff7121"
   },
   "outputs": [],
   "source": [
    "# initialize models\n",
    "models = {}\n",
    "models['KNNBasic'] = KNNBasic(k=50, min_k = 3, sim_options={'user_based': True}, verbose=True)\n",
    "models['KNNWithMeans'] = KNNWithMeans(k=50, min_k = 3, sim_options={'user_based': True}, verbose=True)\n",
    "models['KNNWithZScore'] = KNNWithZScore(k=50, min_k = 3, sim_options={'user_based': True}, verbose=True)\n",
    "models['KNNBaseline'] = KNNBaseline(k=50, min_k = 3, sim_options={'user_based': True}, verbose=True)"
   ]
  },
  {
   "cell_type": "code",
   "execution_count": 10,
   "metadata": {
    "execution_event_id": "29c5d27c-e81e-47d2-bcb9-61b4cedd9d6f",
    "last_executed_text": "# k fold\nkf = KFold(n_splits=3)\nbest_model_rmse = ''\nbest_model_mse = ''\nbest_rmse = 1e10\nbest_mse = 1e10",
    "persistent_id": "926bef71-448b-4fa6-bdba-8199b04e3279"
   },
   "outputs": [],
   "source": [
    "# k fold\n",
    "kf = KFold(n_splits=3)\n",
    "best_model_rmse = ''\n",
    "best_model_mse = ''\n",
    "best_rmse = 1e10\n",
    "best_mse = 1e10"
   ]
  },
  {
   "cell_type": "code",
   "execution_count": null,
   "metadata": {
    "execution_event_id": "eb5378b7-308f-42b8-9900-62c9e1bc1c21",
    "last_executed_text": "# search best\nfor key in models:\n    avg_rmse = 0.0\n    avg_mse = 0.0\n    for trainset, testset in kf.split(data):\n        models[key].fit(trainset)\n        predictions = models[key].test(testset)\n        avg_rmse += accuracy.rmse(predictions, verbose = True)\n        avg_mse += accuracy.mse(predictions, verbose = True)\n    avg_rmse /= 3\n    avg_mse /= 3\n    if best_rmse > avg_rmse:\n        best_model_rmse = key\n        best_rmse = avg_rmse\n    if best_mse > avg_mse:\n        best_model_mse = key\n        best_mse = avg_mse",
    "persistent_id": "94b42fc6-db8b-4cbd-88b3-6b9079a21504"
   },
   "outputs": [
    {
     "name": "stdout",
     "output_type": "stream",
     "text": [
      "Computing the msd similarity matrix...\n",
      "Done computing similarity matrix.\n",
      "RMSE: 0.9296\n",
      "MSE: 0.8641\n",
      "Computing the msd similarity matrix...\n",
      "Done computing similarity matrix.\n"
     ]
    }
   ],
   "source": [
    "# search best\n",
    "for key in models:\n",
    "    avg_rmse = 0.0\n",
    "    avg_mse = 0.0\n",
    "    for trainset, testset in kf.split(data):\n",
    "        models[key].fit(trainset)\n",
    "        predictions = models[key].test(testset)\n",
    "        avg_rmse += accuracy.rmse(predictions, verbose = True)\n",
    "        avg_mse += accuracy.mse(predictions, verbose = True)\n",
    "    avg_rmse /= 3\n",
    "    avg_mse /= 3\n",
    "    if best_rmse > avg_rmse:\n",
    "        best_model_rmse = key\n",
    "        best_rmse = avg_rmse\n",
    "    if best_mse > avg_mse:\n",
    "        best_model_mse = key\n",
    "        best_mse = avg_mse"
   ]
  },
  {
   "cell_type": "code",
   "execution_count": null,
   "metadata": {
    "execution_event_id": "1f226541-102c-4ccb-9bc8-eea53467fc98",
    "last_executed_text": "print(\"Best model in RMSE is {0}, with RMSE {1}\".format(best_model_rmse, best_rmse))\nprint(\"Best model in MSE is {0}, with MSE {1}\".format(best_model_mse, best_mse))",
    "persistent_id": "97a7944b-d076-4729-a15b-27abce266791"
   },
   "outputs": [],
   "source": [
    "print(\"Best model in RMSE is {0}, with RMSE {1}\".format(best_model_rmse, best_rmse))\n",
    "print(\"Best model in MSE is {0}, with MSE {1}\".format(best_model_mse, best_mse))"
   ]
  }
 ],
 "metadata": {
  "history": [
   {
    "cell": {
     "executionCount": 1,
     "executionEventId": "ad1b6304-97ac-47f2-b9f0-542a8b116169",
     "hasError": true,
     "id": "e46c6cf4-9a4a-4312-b15a-d87b0e300f58",
     "outputs": [
      {
       "ename": "ModuleNotFoundError",
       "evalue": "No module named 'surprise'",
       "output_type": "error",
       "traceback": [
        "\u001b[0;31m---------------------------------------------------------------------------\u001b[0m",
        "\u001b[0;31mModuleNotFoundError\u001b[0m                       Traceback (most recent call last)",
        "\u001b[0;32m<ipython-input-1-139288247cc6>\u001b[0m in \u001b[0;36m<module>\u001b[0;34m\u001b[0m\n\u001b[0;32m----> 1\u001b[0;31m \u001b[0;32mfrom\u001b[0m \u001b[0msurprise\u001b[0m \u001b[0;32mimport\u001b[0m \u001b[0mKNNBasic\u001b[0m\u001b[0;34m,\u001b[0m \u001b[0mKNNWithMeans\u001b[0m\u001b[0;34m,\u001b[0m \u001b[0mKNNWithZScore\u001b[0m\u001b[0;34m,\u001b[0m \u001b[0mKNNBaseline\u001b[0m\u001b[0;34m\u001b[0m\u001b[0;34m\u001b[0m\u001b[0m\n\u001b[0m\u001b[1;32m      2\u001b[0m \u001b[0;32mfrom\u001b[0m \u001b[0msurprise\u001b[0m \u001b[0;32mimport\u001b[0m \u001b[0mDataset\u001b[0m\u001b[0;34m,\u001b[0m \u001b[0mReader\u001b[0m\u001b[0;34m\u001b[0m\u001b[0;34m\u001b[0m\u001b[0m\n\u001b[1;32m      3\u001b[0m \u001b[0;32mfrom\u001b[0m \u001b[0msurprise\u001b[0m \u001b[0;32mimport\u001b[0m \u001b[0maccuracy\u001b[0m\u001b[0;34m\u001b[0m\u001b[0;34m\u001b[0m\u001b[0m\n\u001b[1;32m      4\u001b[0m \u001b[0;32mfrom\u001b[0m \u001b[0msurprise\u001b[0m\u001b[0;34m.\u001b[0m\u001b[0mmodel_selection\u001b[0m \u001b[0;32mimport\u001b[0m \u001b[0mKFold\u001b[0m\u001b[0;34m\u001b[0m\u001b[0;34m\u001b[0m\u001b[0m\n",
        "\u001b[0;31mModuleNotFoundError\u001b[0m: No module named 'surprise'"
       ]
      }
     ],
     "persistentId": "a451fa9e-6707-44d6-bf5c-2a85fc06f353",
     "text": "from surprise import KNNBasic, KNNWithMeans, KNNWithZScore, KNNBaseline\nfrom surprise import Dataset, Reader\nfrom surprise import accuracy\nfrom surprise.model_selection import KFold"
    },
    "executionTime": "2020-03-19T02:35:10.897Z"
   },
   {
    "cell": {
     "executionCount": 2,
     "executionEventId": "b877cd38-0dcc-4901-b901-b52709dcea67",
     "hasError": true,
     "id": "d635eec8-b55e-47f0-92ed-14b351455e5f",
     "outputs": [
      {
       "ename": "NameError",
       "evalue": "name 'Reader' is not defined",
       "output_type": "error",
       "traceback": [
        "\u001b[0;31m---------------------------------------------------------------------------\u001b[0m",
        "\u001b[0;31mNameError\u001b[0m                                 Traceback (most recent call last)",
        "\u001b[0;32m<ipython-input-2-520bb84e03a1>\u001b[0m in \u001b[0;36m<module>\u001b[0;34m\u001b[0m\n\u001b[1;32m      1\u001b[0m \u001b[0;31m# read data\u001b[0m\u001b[0;34m\u001b[0m\u001b[0;34m\u001b[0m\u001b[0;34m\u001b[0m\u001b[0m\n\u001b[0;32m----> 2\u001b[0;31m \u001b[0mreader\u001b[0m \u001b[0;34m=\u001b[0m \u001b[0mReader\u001b[0m\u001b[0;34m(\u001b[0m\u001b[0mline_format\u001b[0m\u001b[0;34m=\u001b[0m\u001b[0;34m'user item rating timestamp'\u001b[0m\u001b[0;34m,\u001b[0m \u001b[0msep\u001b[0m\u001b[0;34m=\u001b[0m\u001b[0;34m'::'\u001b[0m\u001b[0;34m,\u001b[0m \u001b[0mskip_lines\u001b[0m\u001b[0;34m=\u001b[0m\u001b[0;36m0\u001b[0m\u001b[0;34m)\u001b[0m\u001b[0;34m\u001b[0m\u001b[0;34m\u001b[0m\u001b[0m\n\u001b[0m\u001b[1;32m      3\u001b[0m \u001b[0mdata\u001b[0m \u001b[0;34m=\u001b[0m \u001b[0mDataset\u001b[0m\u001b[0;34m.\u001b[0m\u001b[0mload_from_file\u001b[0m\u001b[0;34m(\u001b[0m\u001b[0;34m'data/ratings.dat'\u001b[0m\u001b[0;34m,\u001b[0m \u001b[0mreader\u001b[0m \u001b[0;34m=\u001b[0m \u001b[0mreader\u001b[0m\u001b[0;34m)\u001b[0m\u001b[0;34m\u001b[0m\u001b[0;34m\u001b[0m\u001b[0m\n\u001b[1;32m      4\u001b[0m \u001b[0mtrain_set\u001b[0m \u001b[0;34m=\u001b[0m \u001b[0mdata\u001b[0m\u001b[0;34m.\u001b[0m\u001b[0mbuild_full_trainset\u001b[0m\u001b[0;34m(\u001b[0m\u001b[0;34m)\u001b[0m\u001b[0;34m\u001b[0m\u001b[0;34m\u001b[0m\u001b[0m\n",
        "\u001b[0;31mNameError\u001b[0m: name 'Reader' is not defined"
       ]
      }
     ],
     "persistentId": "77991655-4042-4530-8865-9a2ee8d02f01",
     "text": "# read data\nreader = Reader(line_format='user item rating timestamp', sep='::', skip_lines=0)\ndata = Dataset.load_from_file('data/ratings.dat', reader = reader)\ntrain_set = data.build_full_trainset()"
    },
    "executionTime": "2020-03-19T02:35:11.010Z"
   },
   {
    "cell": {
     "executionCount": 3,
     "executionEventId": "02a267cb-8d83-4a45-b2c2-98339706f23a",
     "hasError": true,
     "id": "e7e9f5e8-5a1c-4320-b825-38b8469a2415",
     "outputs": [
      {
       "ename": "NameError",
       "evalue": "name 'KNNBasic' is not defined",
       "output_type": "error",
       "traceback": [
        "\u001b[0;31m---------------------------------------------------------------------------\u001b[0m",
        "\u001b[0;31mNameError\u001b[0m                                 Traceback (most recent call last)",
        "\u001b[0;32m<ipython-input-3-b409456f6965>\u001b[0m in \u001b[0;36m<module>\u001b[0;34m\u001b[0m\n\u001b[1;32m      1\u001b[0m \u001b[0;31m# initialize models\u001b[0m\u001b[0;34m\u001b[0m\u001b[0;34m\u001b[0m\u001b[0;34m\u001b[0m\u001b[0m\n\u001b[1;32m      2\u001b[0m \u001b[0mmodels\u001b[0m \u001b[0;34m=\u001b[0m \u001b[0;34m{\u001b[0m\u001b[0;34m}\u001b[0m\u001b[0;34m\u001b[0m\u001b[0;34m\u001b[0m\u001b[0m\n\u001b[0;32m----> 3\u001b[0;31m \u001b[0mmodels\u001b[0m\u001b[0;34m[\u001b[0m\u001b[0;34m'KNNBasic'\u001b[0m\u001b[0;34m]\u001b[0m \u001b[0;34m=\u001b[0m \u001b[0mKNNBasic\u001b[0m\u001b[0;34m(\u001b[0m\u001b[0mk\u001b[0m\u001b[0;34m=\u001b[0m\u001b[0;36m50\u001b[0m\u001b[0;34m,\u001b[0m \u001b[0mmin_k\u001b[0m \u001b[0;34m=\u001b[0m \u001b[0;36m3\u001b[0m\u001b[0;34m,\u001b[0m \u001b[0msim_options\u001b[0m\u001b[0;34m=\u001b[0m\u001b[0;34m{\u001b[0m\u001b[0;34m'user_based'\u001b[0m\u001b[0;34m:\u001b[0m \u001b[0;32mTrue\u001b[0m\u001b[0;34m}\u001b[0m\u001b[0;34m,\u001b[0m \u001b[0mverbose\u001b[0m\u001b[0;34m=\u001b[0m\u001b[0;32mTrue\u001b[0m\u001b[0;34m)\u001b[0m\u001b[0;34m\u001b[0m\u001b[0;34m\u001b[0m\u001b[0m\n\u001b[0m\u001b[1;32m      4\u001b[0m \u001b[0mmodels\u001b[0m\u001b[0;34m[\u001b[0m\u001b[0;34m'KNNWithMeans'\u001b[0m\u001b[0;34m]\u001b[0m \u001b[0;34m=\u001b[0m \u001b[0mKNNWithMeans\u001b[0m\u001b[0;34m(\u001b[0m\u001b[0mk\u001b[0m\u001b[0;34m=\u001b[0m\u001b[0;36m50\u001b[0m\u001b[0;34m,\u001b[0m \u001b[0mmin_k\u001b[0m \u001b[0;34m=\u001b[0m \u001b[0;36m3\u001b[0m\u001b[0;34m,\u001b[0m \u001b[0msim_options\u001b[0m\u001b[0;34m=\u001b[0m\u001b[0;34m{\u001b[0m\u001b[0;34m'user_based'\u001b[0m\u001b[0;34m:\u001b[0m \u001b[0;32mTrue\u001b[0m\u001b[0;34m}\u001b[0m\u001b[0;34m,\u001b[0m \u001b[0mverbose\u001b[0m\u001b[0;34m=\u001b[0m\u001b[0;32mTrue\u001b[0m\u001b[0;34m)\u001b[0m\u001b[0;34m\u001b[0m\u001b[0;34m\u001b[0m\u001b[0m\n\u001b[1;32m      5\u001b[0m \u001b[0mmodels\u001b[0m\u001b[0;34m[\u001b[0m\u001b[0;34m'KNNWithZScore'\u001b[0m\u001b[0;34m]\u001b[0m \u001b[0;34m=\u001b[0m \u001b[0mKNNWithZScore\u001b[0m\u001b[0;34m(\u001b[0m\u001b[0mk\u001b[0m\u001b[0;34m=\u001b[0m\u001b[0;36m50\u001b[0m\u001b[0;34m,\u001b[0m \u001b[0mmin_k\u001b[0m \u001b[0;34m=\u001b[0m \u001b[0;36m3\u001b[0m\u001b[0;34m,\u001b[0m \u001b[0msim_options\u001b[0m\u001b[0;34m=\u001b[0m\u001b[0;34m{\u001b[0m\u001b[0;34m'user_based'\u001b[0m\u001b[0;34m:\u001b[0m \u001b[0;32mTrue\u001b[0m\u001b[0;34m}\u001b[0m\u001b[0;34m,\u001b[0m \u001b[0mverbose\u001b[0m\u001b[0;34m=\u001b[0m\u001b[0;32mTrue\u001b[0m\u001b[0;34m)\u001b[0m\u001b[0;34m\u001b[0m\u001b[0;34m\u001b[0m\u001b[0m\n",
        "\u001b[0;31mNameError\u001b[0m: name 'KNNBasic' is not defined"
       ]
      }
     ],
     "persistentId": "d30a8f81-d7fc-4e68-8ee0-0705eaff7121",
     "text": "# initialize models\nmodels = {}\nmodels['KNNBasic'] = KNNBasic(k=50, min_k = 3, sim_options={'user_based': True}, verbose=True)\nmodels['KNNWithMeans'] = KNNWithMeans(k=50, min_k = 3, sim_options={'user_based': True}, verbose=True)\nmodels['KNNWithZScore'] = KNNWithZScore(k=50, min_k = 3, sim_options={'user_based': True}, verbose=True)\nmodels['KNNBaseline'] = KNNBaseline(k=50, min_k = 3, sim_options={'user_based': True}, verbose=True)"
    },
    "executionTime": "2020-03-19T02:35:11.147Z"
   },
   {
    "cell": {
     "executionCount": 4,
     "executionEventId": "a1feeb65-b027-4c3f-b586-f44fe105bbf9",
     "hasError": true,
     "id": "f9be115e-c15a-4c5e-9c2c-3f0087ffda53",
     "outputs": [
      {
       "ename": "NameError",
       "evalue": "name 'KFold' is not defined",
       "output_type": "error",
       "traceback": [
        "\u001b[0;31m---------------------------------------------------------------------------\u001b[0m",
        "\u001b[0;31mNameError\u001b[0m                                 Traceback (most recent call last)",
        "\u001b[0;32m<ipython-input-4-7c6970a40fe0>\u001b[0m in \u001b[0;36m<module>\u001b[0;34m\u001b[0m\n\u001b[1;32m      1\u001b[0m \u001b[0;31m# k fold\u001b[0m\u001b[0;34m\u001b[0m\u001b[0;34m\u001b[0m\u001b[0;34m\u001b[0m\u001b[0m\n\u001b[0;32m----> 2\u001b[0;31m \u001b[0mkf\u001b[0m \u001b[0;34m=\u001b[0m \u001b[0mKFold\u001b[0m\u001b[0;34m(\u001b[0m\u001b[0mn_splits\u001b[0m\u001b[0;34m=\u001b[0m\u001b[0;36m3\u001b[0m\u001b[0;34m)\u001b[0m\u001b[0;34m\u001b[0m\u001b[0;34m\u001b[0m\u001b[0m\n\u001b[0m\u001b[1;32m      3\u001b[0m \u001b[0mbest_model_rmse\u001b[0m \u001b[0;34m=\u001b[0m \u001b[0;34m''\u001b[0m\u001b[0;34m\u001b[0m\u001b[0;34m\u001b[0m\u001b[0m\n\u001b[1;32m      4\u001b[0m \u001b[0mbest_model_mse\u001b[0m \u001b[0;34m=\u001b[0m \u001b[0;34m''\u001b[0m\u001b[0;34m\u001b[0m\u001b[0;34m\u001b[0m\u001b[0m\n\u001b[1;32m      5\u001b[0m \u001b[0mbest_rmse\u001b[0m \u001b[0;34m=\u001b[0m \u001b[0;36m1e10\u001b[0m\u001b[0;34m\u001b[0m\u001b[0;34m\u001b[0m\u001b[0m\n",
        "\u001b[0;31mNameError\u001b[0m: name 'KFold' is not defined"
       ]
      }
     ],
     "persistentId": "926bef71-448b-4fa6-bdba-8199b04e3279",
     "text": "# k fold\nkf = KFold(n_splits=3)\nbest_model_rmse = ''\nbest_model_mse = ''\nbest_rmse = 1e10\nbest_mse = 1e10"
    },
    "executionTime": "2020-03-19T02:35:11.304Z"
   },
   {
    "cell": {
     "executionCount": 5,
     "executionEventId": "eb5378b7-308f-42b8-9900-62c9e1bc1c21",
     "hasError": false,
     "id": "f9e5724f-fe72-495a-a381-88011db315f9",
     "outputs": [],
     "persistentId": "94b42fc6-db8b-4cbd-88b3-6b9079a21504",
     "text": "# search best\nfor key in models:\n    avg_rmse = 0.0\n    avg_mse = 0.0\n    for trainset, testset in kf.split(data):\n        models[key].fit(trainset)\n        predictions = models[key].test(testset)\n        avg_rmse += accuracy.rmse(predictions, verbose = True)\n        avg_mse += accuracy.mse(predictions, verbose = True)\n    avg_rmse /= 3\n    avg_mse /= 3\n    if best_rmse > avg_rmse:\n        best_model_rmse = key\n        best_rmse = avg_rmse\n    if best_mse > avg_mse:\n        best_model_mse = key\n        best_mse = avg_mse"
    },
    "executionTime": "2020-03-19T02:35:11.941Z"
   },
   {
    "cell": {
     "executionCount": 6,
     "executionEventId": "1f226541-102c-4ccb-9bc8-eea53467fc98",
     "hasError": true,
     "id": "7a8347af-a054-4326-aaef-1d40e1f74b96",
     "outputs": [
      {
       "ename": "NameError",
       "evalue": "name 'best_model_rmse' is not defined",
       "output_type": "error",
       "traceback": [
        "\u001b[0;31m---------------------------------------------------------------------------\u001b[0m",
        "\u001b[0;31mNameError\u001b[0m                                 Traceback (most recent call last)",
        "\u001b[0;32m<ipython-input-6-0744f0e37786>\u001b[0m in \u001b[0;36m<module>\u001b[0;34m\u001b[0m\n\u001b[0;32m----> 1\u001b[0;31m \u001b[0mprint\u001b[0m\u001b[0;34m(\u001b[0m\u001b[0;34m\"Best model in RMSE is {0}, with RMSE {1}\"\u001b[0m\u001b[0;34m.\u001b[0m\u001b[0mformat\u001b[0m\u001b[0;34m(\u001b[0m\u001b[0mbest_model_rmse\u001b[0m\u001b[0;34m,\u001b[0m \u001b[0mbest_rmse\u001b[0m\u001b[0;34m)\u001b[0m\u001b[0;34m)\u001b[0m\u001b[0;34m\u001b[0m\u001b[0;34m\u001b[0m\u001b[0m\n\u001b[0m\u001b[1;32m      2\u001b[0m \u001b[0mprint\u001b[0m\u001b[0;34m(\u001b[0m\u001b[0;34m\"Best model in MSE is {0}, with MSE {1}\"\u001b[0m\u001b[0;34m.\u001b[0m\u001b[0mformat\u001b[0m\u001b[0;34m(\u001b[0m\u001b[0mbest_model_mse\u001b[0m\u001b[0;34m,\u001b[0m \u001b[0mbest_mse\u001b[0m\u001b[0;34m)\u001b[0m\u001b[0;34m)\u001b[0m\u001b[0;34m\u001b[0m\u001b[0;34m\u001b[0m\u001b[0m\n",
        "\u001b[0;31mNameError\u001b[0m: name 'best_model_rmse' is not defined"
       ]
      }
     ],
     "persistentId": "97a7944b-d076-4729-a15b-27abce266791",
     "text": "print(\"Best model in RMSE is {0}, with RMSE {1}\".format(best_model_rmse, best_rmse))\nprint(\"Best model in MSE is {0}, with MSE {1}\".format(best_model_mse, best_mse))"
    },
    "executionTime": "2020-03-19T02:35:12.404Z"
   },
   {
    "cell": {
     "executionCount": 7,
     "executionEventId": "210705b3-09d7-4068-9869-f3b88f22fe6b",
     "hasError": false,
     "id": "e46c6cf4-9a4a-4312-b15a-d87b0e300f58",
     "outputs": [],
     "persistentId": "a451fa9e-6707-44d6-bf5c-2a85fc06f353",
     "text": "from surprise import KNNBasic, KNNWithMeans, KNNWithZScore, KNNBaseline\nfrom surprise import Dataset, Reader\nfrom surprise import accuracy\nfrom surprise.model_selection import KFold"
    },
    "executionTime": "2020-03-19T02:38:33.568Z"
   },
   {
    "cell": {
     "executionCount": 8,
     "executionEventId": "fa3315b3-2c34-49e2-b79b-d17c877a7b0c",
     "hasError": false,
     "id": "d635eec8-b55e-47f0-92ed-14b351455e5f",
     "outputs": [],
     "persistentId": "77991655-4042-4530-8865-9a2ee8d02f01",
     "text": "# read data\nreader = Reader(line_format='user item rating timestamp', sep='::', skip_lines=0)\ndata = Dataset.load_from_file('data/ratings.dat', reader = reader)\ntrain_set = data.build_full_trainset()"
    },
    "executionTime": "2020-03-19T02:38:38.343Z"
   },
   {
    "cell": {
     "executionCount": 9,
     "executionEventId": "6b47b117-84df-4e20-a355-aaf9029e4d73",
     "hasError": false,
     "id": "e7e9f5e8-5a1c-4320-b825-38b8469a2415",
     "outputs": [],
     "persistentId": "d30a8f81-d7fc-4e68-8ee0-0705eaff7121",
     "text": "# initialize models\nmodels = {}\nmodels['KNNBasic'] = KNNBasic(k=50, min_k = 3, sim_options={'user_based': True}, verbose=True)\nmodels['KNNWithMeans'] = KNNWithMeans(k=50, min_k = 3, sim_options={'user_based': True}, verbose=True)\nmodels['KNNWithZScore'] = KNNWithZScore(k=50, min_k = 3, sim_options={'user_based': True}, verbose=True)\nmodels['KNNBaseline'] = KNNBaseline(k=50, min_k = 3, sim_options={'user_based': True}, verbose=True)"
    },
    "executionTime": "2020-03-19T02:38:38.362Z"
   },
   {
    "cell": {
     "executionCount": 10,
     "executionEventId": "29c5d27c-e81e-47d2-bcb9-61b4cedd9d6f",
     "hasError": false,
     "id": "f9be115e-c15a-4c5e-9c2c-3f0087ffda53",
     "outputs": [],
     "persistentId": "926bef71-448b-4fa6-bdba-8199b04e3279",
     "text": "# k fold\nkf = KFold(n_splits=3)\nbest_model_rmse = ''\nbest_model_mse = ''\nbest_rmse = 1e10\nbest_mse = 1e10"
    },
    "executionTime": "2020-03-19T02:38:38.418Z"
   }
  ],
  "kernelspec": {
   "display_name": "Python 3",
   "language": "python",
   "name": "python3"
  },
  "language_info": {
   "codemirror_mode": {
    "name": "ipython",
    "version": 3
   },
   "file_extension": ".py",
   "mimetype": "text/x-python",
   "name": "python",
   "nbconvert_exporter": "python",
   "pygments_lexer": "ipython3",
   "version": "3.7.6"
  },
  "uuid": "5ed2d0f2-bc4f-4fb4-8a42-713930e8c3a5"
 },
 "nbformat": 4,
 "nbformat_minor": 4
}
