{
 "cells": [
  {
   "cell_type": "markdown",
   "metadata": {
    "persistent_id": "0dce6465-5dea-474d-b1b3-f5d479c8b95b"
   },
   "source": [
    "## Action1 对MovieLens数据集进行评分预测"
   ]
  },
  {
   "cell_type": "code",
   "execution_count": 8,
   "metadata": {
    "execution_event_id": "aab4ccf3-f19b-4c0f-b594-6e9aa0802c5c",
    "last_executed_text": "from surprise import SVDpp\nfrom surprise import SVD\nfrom surprise import Dataset\nfrom surprise import Reader\nfrom surprise import BaselineOnly, KNNBasic, NormalPredictor\nfrom surprise import accuracy\nfrom surprise.model_selection import KFold, cross_validate\nimport pandas as pd",
    "persistent_id": "feaf118e-5d57-4a7d-acc7-9b5eea024114"
   },
   "outputs": [],
   "source": [
    "from surprise import SVDpp\n",
    "from surprise import SVD\n",
    "from surprise import Dataset\n",
    "from surprise import Reader\n",
    "from surprise import BaselineOnly, KNNBasic, NormalPredictor\n",
    "from surprise import accuracy\n",
    "from surprise.model_selection import KFold, cross_validate\n",
    "import pandas as pd"
   ]
  },
  {
   "cell_type": "code",
   "execution_count": 9,
   "metadata": {
    "execution_event_id": "81670d2a-b797-4815-9ef4-c693ef2beb3b",
    "last_executed_text": "# 数据读取\nreader = Reader(line_format='user item rating timestamp', sep=',', skip_lines=1)\ndata = Dataset.load_from_file('./ratings.csv', reader=reader)\ntrain_set = data.build_full_trainset()",
    "persistent_id": "8aa6c260-6dae-4f17-b287-7cc27b040365"
   },
   "outputs": [],
   "source": [
    "# 数据读取\n",
    "reader = Reader(line_format='user item rating timestamp', sep=',', skip_lines=1)\n",
    "data = Dataset.load_from_file('./ratings.csv', reader=reader)\n",
    "train_set = data.build_full_trainset()"
   ]
  },
  {
   "cell_type": "code",
   "execution_count": 10,
   "metadata": {
    "execution_event_id": "bc819034-e55c-43b6-b2a1-bb6974d15ffa",
    "last_executed_text": "# 使用funkSVD, BiasSVD 和 SVD++\nalgos = [SVD(biased=False), SVD(biased=True), SVDpp()]\nalgo_names = ['funkSVD', 'BiasSVD', 'SVD++']",
    "persistent_id": "a773e65e-f138-419e-8ea5-f63e8cd70f4c"
   },
   "outputs": [],
   "source": [
    "# 使用funkSVD, BiasSVD 和 SVD++\n",
    "algos = [SVD(biased=False), SVD(biased=True), SVDpp()]\n",
    "algo_names = ['funkSVD', 'BiasSVD', 'SVD++']"
   ]
  },
  {
   "cell_type": "code",
   "execution_count": 11,
   "metadata": {
    "execution_event_id": "712a5d3d-4e6c-4ddc-913e-4597971d9421",
    "last_executed_text": "def search_model(algos, algo_names, k):\n    assert(k>2)\n    best_score = 1e10\n    best_algo = None\n    best_name = None\n    for algo, algo_name in zip(algos, algo_names):\n        print('training model {}'.format(algo_name))\n        # 定义K折交叉验证迭代器\n        kf = KFold(n_splits=k)\n        score = 0.0\n        for trainset, testset in kf.split(data):\n            # 训练并预测\n            algo.fit(trainset)\n            predictions = algo.test(testset)\n            # 计算RMSE\n            score += accuracy.rmse(predictions, verbose=True)\n            if best_score > score:\n                best_score = score\n                best_algo = algo\n                best_name = algo_name\n    return best_algo, best_name, best_score",
    "persistent_id": "2b675f7a-e24e-42de-8d6c-55e1f806fc6f"
   },
   "outputs": [],
   "source": [
    "def search_model(algos, algo_names, k):\n",
    "    assert(k>2)\n",
    "    best_score = 1e10\n",
    "    best_algo = None\n",
    "    best_name = None\n",
    "    for algo, algo_name in zip(algos, algo_names):\n",
    "        print('training model {}'.format(algo_name))\n",
    "        # 定义K折交叉验证迭代器\n",
    "        kf = KFold(n_splits=k)\n",
    "        score = 0.0\n",
    "        for trainset, testset in kf.split(data):\n",
    "            # 训练并预测\n",
    "            algo.fit(trainset)\n",
    "            predictions = algo.test(testset)\n",
    "            # 计算RMSE\n",
    "            score += accuracy.rmse(predictions, verbose=True)\n",
    "            if best_score > score:\n",
    "                best_score = score\n",
    "                best_algo = algo\n",
    "                best_name = algo_name\n",
    "    return best_algo, best_name, best_score"
   ]
  },
  {
   "cell_type": "code",
   "execution_count": 12,
   "metadata": {
    "execution_event_id": "89a5e38d-2fbb-4609-8a20-0c9cf0f52e22",
    "last_executed_text": "best_algo, best_name, best_score = search_model(algos, algo_names, 6)\nprint('The best algorithm is {} with average k_fold rmse {}'.format(best_name, best_score))\n\n# 在整个训练集上重新训练模型\nbest_algo.train(train_set)\n\nuid = str(196)\niid = str(302)\n# 输出uid对iid的预测结果\npred = algo.predict(uid, iid, r_ui=4, verbose=True)\ntime2=time.time()\nprint(time2-time1)",
    "persistent_id": "20832ab0-43e0-4a53-b1ae-741f99d4d594"
   },
   "outputs": [
    {
     "name": "stdout",
     "output_type": "stream",
     "text": [
      "training model funkSVD\n",
      "RMSE: 0.8484\n",
      "RMSE: 0.8524\n",
      "RMSE: 0.8553\n",
      "RMSE: 0.8547\n",
      "RMSE: 0.8532\n",
      "RMSE: 0.8532\n",
      "training model BiasSVD\n",
      "RMSE: 0.8320\n",
      "RMSE: 0.8285\n",
      "RMSE: 0.8321\n",
      "RMSE: 0.8327\n",
      "RMSE: 0.8266\n",
      "RMSE: 0.8309\n",
      "training model SVD++\n",
      "RMSE: 0.8207\n",
      "RMSE: 0.8201\n",
      "RMSE: 0.8158\n",
      "RMSE: 0.8191\n",
      "RMSE: 0.8189\n",
      "RMSE: 0.8186\n",
      "The best algorithm is SVD++ with average k_fold rmse 0.8207102179981268\n"
     ]
    },
    {
     "ename": "AttributeError",
     "evalue": "'SVDpp' object has no attribute 'train'",
     "output_type": "error",
     "traceback": [
      "\u001b[0;31m---------------------------------------------------------------------------\u001b[0m",
      "\u001b[0;31mAttributeError\u001b[0m                            Traceback (most recent call last)",
      "\u001b[0;32m<ipython-input-12-6f9ce8aa6e01>\u001b[0m in \u001b[0;36m<module>\u001b[0;34m\u001b[0m\n\u001b[1;32m      3\u001b[0m \u001b[0;34m\u001b[0m\u001b[0m\n\u001b[1;32m      4\u001b[0m \u001b[0;31m# 在整个训练集上重新训练模型\u001b[0m\u001b[0;34m\u001b[0m\u001b[0;34m\u001b[0m\u001b[0;34m\u001b[0m\u001b[0m\n\u001b[0;32m----> 5\u001b[0;31m \u001b[0mbest_algo\u001b[0m\u001b[0;34m.\u001b[0m\u001b[0mtrain\u001b[0m\u001b[0;34m(\u001b[0m\u001b[0mtrain_set\u001b[0m\u001b[0;34m)\u001b[0m\u001b[0;34m\u001b[0m\u001b[0;34m\u001b[0m\u001b[0m\n\u001b[0m\u001b[1;32m      6\u001b[0m \u001b[0;34m\u001b[0m\u001b[0m\n\u001b[1;32m      7\u001b[0m \u001b[0muid\u001b[0m \u001b[0;34m=\u001b[0m \u001b[0mstr\u001b[0m\u001b[0;34m(\u001b[0m\u001b[0;36m196\u001b[0m\u001b[0;34m)\u001b[0m\u001b[0;34m\u001b[0m\u001b[0;34m\u001b[0m\u001b[0m\n",
      "\u001b[0;31mAttributeError\u001b[0m: 'SVDpp' object has no attribute 'train'"
     ]
    }
   ],
   "source": [
    "best_algo, best_name, best_score = search_model(algos, algo_names, 6)\n",
    "print('The best algorithm is {} with average k_fold rmse {}'.format(best_name, best_score))\n",
    "\n",
    "# 在整个训练集上重新训练模型\n",
    "best_algo.train(train_set)\n",
    "\n",
    "uid = str(196)\n",
    "iid = str(302)\n",
    "# 输出uid对iid的预测结果\n",
    "pred = algo.predict(uid, iid, r_ui=4, verbose=True)\n",
    "time2=time.time()\n",
    "print(time2-time1)"
   ]
  },
  {
   "cell_type": "code",
   "execution_count": null,
   "metadata": {
    "persistent_id": "5272c338-e34b-42b3-801d-494396a7786a"
   },
   "outputs": [],
   "source": []
  },
  {
   "cell_type": "code",
   "execution_count": null,
   "metadata": {},
   "outputs": [],
   "source": []
  }
 ],
 "metadata": {
  "history": [
   {
    "cell": {
     "executionCount": 1,
     "executionEventId": "e14feb5a-d9d3-44cf-b976-02ff1761fe6d",
     "hasError": false,
     "id": "3ddd71da-0a74-410e-b102-4a6ed15396b4",
     "outputs": [],
     "persistentId": "feaf118e-5d57-4a7d-acc7-9b5eea024114",
     "text": "from surprise import SVDpp\nfrom surprise import SVD\nfrom surprise import Dataset\nfrom surprise import Reader\nfrom surprise import BaselineOnly, KNNBasic, NormalPredictor\nfrom surprise import accuracy\nfrom surprise.model_selection import KFold, cross_validate\nimport pandas as pd"
    },
    "executionTime": "2020-03-20T02:39:30.897Z"
   },
   {
    "cell": {
     "executionCount": 2,
     "executionEventId": "b060c77c-a968-403f-998c-02bfdacf6647",
     "hasError": false,
     "id": "3ddd71da-0a74-410e-b102-4a6ed15396b4",
     "outputs": [],
     "persistentId": "feaf118e-5d57-4a7d-acc7-9b5eea024114",
     "text": "from surprise import SVDpp\nfrom surprise import SVD\nfrom surprise import Dataset\nfrom surprise import Reader\nfrom surprise import BaselineOnly, KNNBasic, NormalPredictor\nfrom surprise import accuracy\nfrom surprise.model_selection import KFold, cross_validate\nimport pandas as pd"
    },
    "executionTime": "2020-03-20T02:42:15.949Z"
   },
   {
    "cell": {
     "executionCount": 3,
     "executionEventId": "becfb688-00cf-4c7d-833d-585ee7bff519",
     "hasError": true,
     "id": "bafed696-f943-45af-958b-259ff0e5b800",
     "outputs": [
      {
       "ename": "ValueError",
       "evalue": "Impossible to parse line. Check the line_format and sep parameters.",
       "output_type": "error",
       "traceback": [
        "\u001b[0;31m---------------------------------------------------------------------------\u001b[0m",
        "\u001b[0;31mIndexError\u001b[0m                                Traceback (most recent call last)",
        "\u001b[0;32m/opt/conda/lib/python3.7/site-packages/surprise/reader.py\u001b[0m in \u001b[0;36mparse_line\u001b[0;34m(self, line)\u001b[0m\n\u001b[1;32m     92\u001b[0m                 uid, iid, r, timestamp = (line[i].strip()\n\u001b[0;32m---> 93\u001b[0;31m                                           for i in self.indexes)\n\u001b[0m\u001b[1;32m     94\u001b[0m             \u001b[0;32melse\u001b[0m\u001b[0;34m:\u001b[0m\u001b[0;34m\u001b[0m\u001b[0;34m\u001b[0m\u001b[0m\n",
        "\u001b[0;32m/opt/conda/lib/python3.7/site-packages/surprise/reader.py\u001b[0m in \u001b[0;36m<genexpr>\u001b[0;34m(.0)\u001b[0m\n\u001b[1;32m     92\u001b[0m                 uid, iid, r, timestamp = (line[i].strip()\n\u001b[0;32m---> 93\u001b[0;31m                                           for i in self.indexes)\n\u001b[0m\u001b[1;32m     94\u001b[0m             \u001b[0;32melse\u001b[0m\u001b[0;34m:\u001b[0m\u001b[0;34m\u001b[0m\u001b[0;34m\u001b[0m\u001b[0m\n",
        "\u001b[0;31mIndexError\u001b[0m: list index out of range",
        "\nDuring handling of the above exception, another exception occurred:\n",
        "\u001b[0;31mValueError\u001b[0m                                Traceback (most recent call last)",
        "\u001b[0;32m<ipython-input-3-c484691a8ad1>\u001b[0m in \u001b[0;36m<module>\u001b[0;34m\u001b[0m\n\u001b[1;32m      1\u001b[0m \u001b[0;31m# 数据读取\u001b[0m\u001b[0;34m\u001b[0m\u001b[0;34m\u001b[0m\u001b[0;34m\u001b[0m\u001b[0m\n\u001b[1;32m      2\u001b[0m \u001b[0mreader\u001b[0m \u001b[0;34m=\u001b[0m \u001b[0mReader\u001b[0m\u001b[0;34m(\u001b[0m\u001b[0mline_format\u001b[0m\u001b[0;34m=\u001b[0m\u001b[0;34m'user item rating timestamp'\u001b[0m\u001b[0;34m,\u001b[0m \u001b[0msep\u001b[0m\u001b[0;34m=\u001b[0m\u001b[0;34m','\u001b[0m\u001b[0;34m,\u001b[0m \u001b[0mskip_lines\u001b[0m\u001b[0;34m=\u001b[0m\u001b[0;36m1\u001b[0m\u001b[0;34m)\u001b[0m\u001b[0;34m\u001b[0m\u001b[0;34m\u001b[0m\u001b[0m\n\u001b[0;32m----> 3\u001b[0;31m \u001b[0mdata\u001b[0m \u001b[0;34m=\u001b[0m \u001b[0mDataset\u001b[0m\u001b[0;34m.\u001b[0m\u001b[0mload_from_file\u001b[0m\u001b[0;34m(\u001b[0m\u001b[0;34m'./ratings.csv'\u001b[0m\u001b[0;34m,\u001b[0m \u001b[0mreader\u001b[0m\u001b[0;34m=\u001b[0m\u001b[0mreader\u001b[0m\u001b[0;34m)\u001b[0m\u001b[0;34m\u001b[0m\u001b[0;34m\u001b[0m\u001b[0m\n\u001b[0m\u001b[1;32m      4\u001b[0m \u001b[0mtrain_set\u001b[0m \u001b[0;34m=\u001b[0m \u001b[0mdata\u001b[0m\u001b[0;34m.\u001b[0m\u001b[0mbuild_full_trainset\u001b[0m\u001b[0;34m(\u001b[0m\u001b[0;34m)\u001b[0m\u001b[0;34m\u001b[0m\u001b[0;34m\u001b[0m\u001b[0m\n",
        "\u001b[0;32m/opt/conda/lib/python3.7/site-packages/surprise/dataset.py\u001b[0m in \u001b[0;36mload_from_file\u001b[0;34m(cls, file_path, reader)\u001b[0m\n\u001b[1;32m    118\u001b[0m         \"\"\"\n\u001b[1;32m    119\u001b[0m \u001b[0;34m\u001b[0m\u001b[0m\n\u001b[0;32m--> 120\u001b[0;31m         \u001b[0;32mreturn\u001b[0m \u001b[0mDatasetAutoFolds\u001b[0m\u001b[0;34m(\u001b[0m\u001b[0mratings_file\u001b[0m\u001b[0;34m=\u001b[0m\u001b[0mfile_path\u001b[0m\u001b[0;34m,\u001b[0m \u001b[0mreader\u001b[0m\u001b[0;34m=\u001b[0m\u001b[0mreader\u001b[0m\u001b[0;34m)\u001b[0m\u001b[0;34m\u001b[0m\u001b[0;34m\u001b[0m\u001b[0m\n\u001b[0m\u001b[1;32m    121\u001b[0m \u001b[0;34m\u001b[0m\u001b[0m\n\u001b[1;32m    122\u001b[0m     \u001b[0;34m@\u001b[0m\u001b[0mclassmethod\u001b[0m\u001b[0;34m\u001b[0m\u001b[0;34m\u001b[0m\u001b[0m\n",
        "\u001b[0;32m/opt/conda/lib/python3.7/site-packages/surprise/dataset.py\u001b[0m in \u001b[0;36m__init__\u001b[0;34m(self, ratings_file, reader, df)\u001b[0m\n\u001b[1;32m    251\u001b[0m         \u001b[0;32mif\u001b[0m \u001b[0mratings_file\u001b[0m \u001b[0;32mis\u001b[0m \u001b[0;32mnot\u001b[0m \u001b[0;32mNone\u001b[0m\u001b[0;34m:\u001b[0m\u001b[0;34m\u001b[0m\u001b[0;34m\u001b[0m\u001b[0m\n\u001b[1;32m    252\u001b[0m             \u001b[0mself\u001b[0m\u001b[0;34m.\u001b[0m\u001b[0mratings_file\u001b[0m \u001b[0;34m=\u001b[0m \u001b[0mratings_file\u001b[0m\u001b[0;34m\u001b[0m\u001b[0;34m\u001b[0m\u001b[0m\n\u001b[0;32m--> 253\u001b[0;31m             \u001b[0mself\u001b[0m\u001b[0;34m.\u001b[0m\u001b[0mraw_ratings\u001b[0m \u001b[0;34m=\u001b[0m \u001b[0mself\u001b[0m\u001b[0;34m.\u001b[0m\u001b[0mread_ratings\u001b[0m\u001b[0;34m(\u001b[0m\u001b[0mself\u001b[0m\u001b[0;34m.\u001b[0m\u001b[0mratings_file\u001b[0m\u001b[0;34m)\u001b[0m\u001b[0;34m\u001b[0m\u001b[0;34m\u001b[0m\u001b[0m\n\u001b[0m\u001b[1;32m    254\u001b[0m         \u001b[0;32melif\u001b[0m \u001b[0mdf\u001b[0m \u001b[0;32mis\u001b[0m \u001b[0;32mnot\u001b[0m \u001b[0;32mNone\u001b[0m\u001b[0;34m:\u001b[0m\u001b[0;34m\u001b[0m\u001b[0;34m\u001b[0m\u001b[0m\n\u001b[1;32m    255\u001b[0m             \u001b[0mself\u001b[0m\u001b[0;34m.\u001b[0m\u001b[0mdf\u001b[0m \u001b[0;34m=\u001b[0m \u001b[0mdf\u001b[0m\u001b[0;34m\u001b[0m\u001b[0;34m\u001b[0m\u001b[0m\n",
        "\u001b[0;32m/opt/conda/lib/python3.7/site-packages/surprise/dataset.py\u001b[0m in \u001b[0;36mread_ratings\u001b[0;34m(self, file_name)\u001b[0m\n\u001b[1;32m    170\u001b[0m         \u001b[0;32mwith\u001b[0m \u001b[0mopen\u001b[0m\u001b[0;34m(\u001b[0m\u001b[0mos\u001b[0m\u001b[0;34m.\u001b[0m\u001b[0mpath\u001b[0m\u001b[0;34m.\u001b[0m\u001b[0mexpanduser\u001b[0m\u001b[0;34m(\u001b[0m\u001b[0mfile_name\u001b[0m\u001b[0;34m)\u001b[0m\u001b[0;34m)\u001b[0m \u001b[0;32mas\u001b[0m \u001b[0mf\u001b[0m\u001b[0;34m:\u001b[0m\u001b[0;34m\u001b[0m\u001b[0;34m\u001b[0m\u001b[0m\n\u001b[1;32m    171\u001b[0m             raw_ratings = [self.reader.parse_line(line) for line in\n\u001b[0;32m--> 172\u001b[0;31m                            itertools.islice(f, self.reader.skip_lines, None)]\n\u001b[0m\u001b[1;32m    173\u001b[0m         \u001b[0;32mreturn\u001b[0m \u001b[0mraw_ratings\u001b[0m\u001b[0;34m\u001b[0m\u001b[0;34m\u001b[0m\u001b[0m\n\u001b[1;32m    174\u001b[0m \u001b[0;34m\u001b[0m\u001b[0m\n",
        "\u001b[0;32m/opt/conda/lib/python3.7/site-packages/surprise/dataset.py\u001b[0m in \u001b[0;36m<listcomp>\u001b[0;34m(.0)\u001b[0m\n\u001b[1;32m    169\u001b[0m \u001b[0;34m\u001b[0m\u001b[0m\n\u001b[1;32m    170\u001b[0m         \u001b[0;32mwith\u001b[0m \u001b[0mopen\u001b[0m\u001b[0;34m(\u001b[0m\u001b[0mos\u001b[0m\u001b[0;34m.\u001b[0m\u001b[0mpath\u001b[0m\u001b[0;34m.\u001b[0m\u001b[0mexpanduser\u001b[0m\u001b[0;34m(\u001b[0m\u001b[0mfile_name\u001b[0m\u001b[0;34m)\u001b[0m\u001b[0;34m)\u001b[0m \u001b[0;32mas\u001b[0m \u001b[0mf\u001b[0m\u001b[0;34m:\u001b[0m\u001b[0;34m\u001b[0m\u001b[0;34m\u001b[0m\u001b[0m\n\u001b[0;32m--> 171\u001b[0;31m             raw_ratings = [self.reader.parse_line(line) for line in\n\u001b[0m\u001b[1;32m    172\u001b[0m                            itertools.islice(f, self.reader.skip_lines, None)]\n\u001b[1;32m    173\u001b[0m         \u001b[0;32mreturn\u001b[0m \u001b[0mraw_ratings\u001b[0m\u001b[0;34m\u001b[0m\u001b[0;34m\u001b[0m\u001b[0m\n",
        "\u001b[0;32m/opt/conda/lib/python3.7/site-packages/surprise/reader.py\u001b[0m in \u001b[0;36mparse_line\u001b[0;34m(self, line)\u001b[0m\n\u001b[1;32m     98\u001b[0m \u001b[0;34m\u001b[0m\u001b[0m\n\u001b[1;32m     99\u001b[0m         \u001b[0;32mexcept\u001b[0m \u001b[0mIndexError\u001b[0m\u001b[0;34m:\u001b[0m\u001b[0;34m\u001b[0m\u001b[0;34m\u001b[0m\u001b[0m\n\u001b[0;32m--> 100\u001b[0;31m             raise ValueError('Impossible to parse line. Check the line_format'\n\u001b[0m\u001b[1;32m    101\u001b[0m                              ' and sep parameters.')\n\u001b[1;32m    102\u001b[0m \u001b[0;34m\u001b[0m\u001b[0m\n",
        "\u001b[0;31mValueError\u001b[0m: Impossible to parse line. Check the line_format and sep parameters."
       ]
      }
     ],
     "persistentId": "8aa6c260-6dae-4f17-b287-7cc27b040365",
     "text": "# 数据读取\nreader = Reader(line_format='user item rating timestamp', sep=',', skip_lines=1)\ndata = Dataset.load_from_file('./ratings.csv', reader=reader)\ntrain_set = data.build_full_trainset()"
    },
    "executionTime": "2020-03-20T02:42:16.274Z"
   },
   {
    "cell": {
     "executionCount": 4,
     "executionEventId": "dc9b4024-c21f-4553-b61e-551aa0f401a1",
     "hasError": false,
     "id": "5ab8c137-2e4a-4286-a8c9-446aeec86d29",
     "outputs": [],
     "persistentId": "2b675f7a-e24e-42de-8d6c-55e1f806fc6f",
     "text": "def search_model(algos, algo_names, k):\n    assert(k>2)\n    best_score = 1e10\n    best_algo = None\n    best_name = None\n    for algo, algo_name in zip(algos, algo_names):\n        print('training model {}'.format(algo_name))\n        # 定义K折交叉验证迭代器\n        kf = KFold(n_splits=k)\n        score = 0.0\n        for trainset, testset in kf.split(data):\n            # 训练并预测\n            algo.fit(trainset)\n            predictions = algo.test(testset)\n            # 计算RMSE\n            score += accuracy.rmse(predictions, verbose=True)\n            if best_score > score:\n                best_score = score\n                best_algo = algo\n                best_name = algo_name\n    return best_algo, best_name, best_score"
    },
    "executionTime": "2020-03-20T02:42:16.388Z"
   },
   {
    "cell": {
     "executionCount": 5,
     "executionEventId": "55046558-168a-46dc-add0-d55c9d1cb3bf",
     "hasError": true,
     "id": "05f991e8-00a9-4c00-a471-bc7a27a7b2e1",
     "outputs": [
      {
       "ename": "NameError",
       "evalue": "name 'algos' is not defined",
       "output_type": "error",
       "traceback": [
        "\u001b[0;31m---------------------------------------------------------------------------\u001b[0m",
        "\u001b[0;31mNameError\u001b[0m                                 Traceback (most recent call last)",
        "\u001b[0;32m<ipython-input-5-6f9ce8aa6e01>\u001b[0m in \u001b[0;36m<module>\u001b[0;34m\u001b[0m\n\u001b[0;32m----> 1\u001b[0;31m \u001b[0mbest_algo\u001b[0m\u001b[0;34m,\u001b[0m \u001b[0mbest_name\u001b[0m\u001b[0;34m,\u001b[0m \u001b[0mbest_score\u001b[0m \u001b[0;34m=\u001b[0m \u001b[0msearch_model\u001b[0m\u001b[0;34m(\u001b[0m\u001b[0malgos\u001b[0m\u001b[0;34m,\u001b[0m \u001b[0malgo_names\u001b[0m\u001b[0;34m,\u001b[0m \u001b[0;36m6\u001b[0m\u001b[0;34m)\u001b[0m\u001b[0;34m\u001b[0m\u001b[0;34m\u001b[0m\u001b[0m\n\u001b[0m\u001b[1;32m      2\u001b[0m \u001b[0mprint\u001b[0m\u001b[0;34m(\u001b[0m\u001b[0;34m'The best algorithm is {} with average k_fold rmse {}'\u001b[0m\u001b[0;34m.\u001b[0m\u001b[0mformat\u001b[0m\u001b[0;34m(\u001b[0m\u001b[0mbest_name\u001b[0m\u001b[0;34m,\u001b[0m \u001b[0mbest_score\u001b[0m\u001b[0;34m)\u001b[0m\u001b[0;34m)\u001b[0m\u001b[0;34m\u001b[0m\u001b[0;34m\u001b[0m\u001b[0m\n\u001b[1;32m      3\u001b[0m \u001b[0;34m\u001b[0m\u001b[0m\n\u001b[1;32m      4\u001b[0m \u001b[0;31m# 在整个训练集上重新训练模型\u001b[0m\u001b[0;34m\u001b[0m\u001b[0;34m\u001b[0m\u001b[0;34m\u001b[0m\u001b[0m\n\u001b[1;32m      5\u001b[0m \u001b[0mbest_algo\u001b[0m\u001b[0;34m.\u001b[0m\u001b[0mtrain\u001b[0m\u001b[0;34m(\u001b[0m\u001b[0mtrain_set\u001b[0m\u001b[0;34m)\u001b[0m\u001b[0;34m\u001b[0m\u001b[0;34m\u001b[0m\u001b[0m\n",
        "\u001b[0;31mNameError\u001b[0m: name 'algos' is not defined"
       ]
      }
     ],
     "persistentId": "20832ab0-43e0-4a53-b1ae-741f99d4d594",
     "text": "best_algo, best_name, best_score = search_model(algos, algo_names, 6)\nprint('The best algorithm is {} with average k_fold rmse {}'.format(best_name, best_score))\n\n# 在整个训练集上重新训练模型\nbest_algo.train(train_set)\n\nuid = str(196)\niid = str(302)\n# 输出uid对iid的预测结果\npred = algo.predict(uid, iid, r_ui=4, verbose=True)\ntime2=time.time()\nprint(time2-time1)"
    },
    "executionTime": "2020-03-20T02:42:16.529Z"
   },
   {
    "cell": {
     "executionCount": 6,
     "executionEventId": "0ca8d6bf-00a1-4153-8708-7bb56c91bb4d",
     "hasError": false,
     "id": "3ddd71da-0a74-410e-b102-4a6ed15396b4",
     "outputs": [],
     "persistentId": "feaf118e-5d57-4a7d-acc7-9b5eea024114",
     "text": "from surprise import SVDpp\nfrom surprise import SVD\nfrom surprise import Dataset\nfrom surprise import Reader\nfrom surprise import BaselineOnly, KNNBasic, NormalPredictor\nfrom surprise import accuracy\nfrom surprise.model_selection import KFold, cross_validate\nimport pandas as pd"
    },
    "executionTime": "2020-03-20T02:42:41.004Z"
   },
   {
    "cell": {
     "executionCount": 7,
     "executionEventId": "0490d942-aef2-489f-ba61-b870979fb7ee",
     "hasError": true,
     "id": "bafed696-f943-45af-958b-259ff0e5b800",
     "outputs": [
      {
       "ename": "ValueError",
       "evalue": "Impossible to parse line. Check the line_format and sep parameters.",
       "output_type": "error",
       "traceback": [
        "\u001b[0;31m---------------------------------------------------------------------------\u001b[0m",
        "\u001b[0;31mIndexError\u001b[0m                                Traceback (most recent call last)",
        "\u001b[0;32m/opt/conda/lib/python3.7/site-packages/surprise/reader.py\u001b[0m in \u001b[0;36mparse_line\u001b[0;34m(self, line)\u001b[0m\n\u001b[1;32m     92\u001b[0m                 uid, iid, r, timestamp = (line[i].strip()\n\u001b[0;32m---> 93\u001b[0;31m                                           for i in self.indexes)\n\u001b[0m\u001b[1;32m     94\u001b[0m             \u001b[0;32melse\u001b[0m\u001b[0;34m:\u001b[0m\u001b[0;34m\u001b[0m\u001b[0;34m\u001b[0m\u001b[0m\n",
        "\u001b[0;32m/opt/conda/lib/python3.7/site-packages/surprise/reader.py\u001b[0m in \u001b[0;36m<genexpr>\u001b[0;34m(.0)\u001b[0m\n\u001b[1;32m     92\u001b[0m                 uid, iid, r, timestamp = (line[i].strip()\n\u001b[0;32m---> 93\u001b[0;31m                                           for i in self.indexes)\n\u001b[0m\u001b[1;32m     94\u001b[0m             \u001b[0;32melse\u001b[0m\u001b[0;34m:\u001b[0m\u001b[0;34m\u001b[0m\u001b[0;34m\u001b[0m\u001b[0m\n",
        "\u001b[0;31mIndexError\u001b[0m: list index out of range",
        "\nDuring handling of the above exception, another exception occurred:\n",
        "\u001b[0;31mValueError\u001b[0m                                Traceback (most recent call last)",
        "\u001b[0;32m<ipython-input-7-c484691a8ad1>\u001b[0m in \u001b[0;36m<module>\u001b[0;34m\u001b[0m\n\u001b[1;32m      1\u001b[0m \u001b[0;31m# 数据读取\u001b[0m\u001b[0;34m\u001b[0m\u001b[0;34m\u001b[0m\u001b[0;34m\u001b[0m\u001b[0m\n\u001b[1;32m      2\u001b[0m \u001b[0mreader\u001b[0m \u001b[0;34m=\u001b[0m \u001b[0mReader\u001b[0m\u001b[0;34m(\u001b[0m\u001b[0mline_format\u001b[0m\u001b[0;34m=\u001b[0m\u001b[0;34m'user item rating timestamp'\u001b[0m\u001b[0;34m,\u001b[0m \u001b[0msep\u001b[0m\u001b[0;34m=\u001b[0m\u001b[0;34m','\u001b[0m\u001b[0;34m,\u001b[0m \u001b[0mskip_lines\u001b[0m\u001b[0;34m=\u001b[0m\u001b[0;36m1\u001b[0m\u001b[0;34m)\u001b[0m\u001b[0;34m\u001b[0m\u001b[0;34m\u001b[0m\u001b[0m\n\u001b[0;32m----> 3\u001b[0;31m \u001b[0mdata\u001b[0m \u001b[0;34m=\u001b[0m \u001b[0mDataset\u001b[0m\u001b[0;34m.\u001b[0m\u001b[0mload_from_file\u001b[0m\u001b[0;34m(\u001b[0m\u001b[0;34m'./ratings.csv'\u001b[0m\u001b[0;34m,\u001b[0m \u001b[0mreader\u001b[0m\u001b[0;34m=\u001b[0m\u001b[0mreader\u001b[0m\u001b[0;34m)\u001b[0m\u001b[0;34m\u001b[0m\u001b[0;34m\u001b[0m\u001b[0m\n\u001b[0m\u001b[1;32m      4\u001b[0m \u001b[0mtrain_set\u001b[0m \u001b[0;34m=\u001b[0m \u001b[0mdata\u001b[0m\u001b[0;34m.\u001b[0m\u001b[0mbuild_full_trainset\u001b[0m\u001b[0;34m(\u001b[0m\u001b[0;34m)\u001b[0m\u001b[0;34m\u001b[0m\u001b[0;34m\u001b[0m\u001b[0m\n",
        "\u001b[0;32m/opt/conda/lib/python3.7/site-packages/surprise/dataset.py\u001b[0m in \u001b[0;36mload_from_file\u001b[0;34m(cls, file_path, reader)\u001b[0m\n\u001b[1;32m    118\u001b[0m         \"\"\"\n\u001b[1;32m    119\u001b[0m \u001b[0;34m\u001b[0m\u001b[0m\n\u001b[0;32m--> 120\u001b[0;31m         \u001b[0;32mreturn\u001b[0m \u001b[0mDatasetAutoFolds\u001b[0m\u001b[0;34m(\u001b[0m\u001b[0mratings_file\u001b[0m\u001b[0;34m=\u001b[0m\u001b[0mfile_path\u001b[0m\u001b[0;34m,\u001b[0m \u001b[0mreader\u001b[0m\u001b[0;34m=\u001b[0m\u001b[0mreader\u001b[0m\u001b[0;34m)\u001b[0m\u001b[0;34m\u001b[0m\u001b[0;34m\u001b[0m\u001b[0m\n\u001b[0m\u001b[1;32m    121\u001b[0m \u001b[0;34m\u001b[0m\u001b[0m\n\u001b[1;32m    122\u001b[0m     \u001b[0;34m@\u001b[0m\u001b[0mclassmethod\u001b[0m\u001b[0;34m\u001b[0m\u001b[0;34m\u001b[0m\u001b[0m\n",
        "\u001b[0;32m/opt/conda/lib/python3.7/site-packages/surprise/dataset.py\u001b[0m in \u001b[0;36m__init__\u001b[0;34m(self, ratings_file, reader, df)\u001b[0m\n\u001b[1;32m    251\u001b[0m         \u001b[0;32mif\u001b[0m \u001b[0mratings_file\u001b[0m \u001b[0;32mis\u001b[0m \u001b[0;32mnot\u001b[0m \u001b[0;32mNone\u001b[0m\u001b[0;34m:\u001b[0m\u001b[0;34m\u001b[0m\u001b[0;34m\u001b[0m\u001b[0m\n\u001b[1;32m    252\u001b[0m             \u001b[0mself\u001b[0m\u001b[0;34m.\u001b[0m\u001b[0mratings_file\u001b[0m \u001b[0;34m=\u001b[0m \u001b[0mratings_file\u001b[0m\u001b[0;34m\u001b[0m\u001b[0;34m\u001b[0m\u001b[0m\n\u001b[0;32m--> 253\u001b[0;31m             \u001b[0mself\u001b[0m\u001b[0;34m.\u001b[0m\u001b[0mraw_ratings\u001b[0m \u001b[0;34m=\u001b[0m \u001b[0mself\u001b[0m\u001b[0;34m.\u001b[0m\u001b[0mread_ratings\u001b[0m\u001b[0;34m(\u001b[0m\u001b[0mself\u001b[0m\u001b[0;34m.\u001b[0m\u001b[0mratings_file\u001b[0m\u001b[0;34m)\u001b[0m\u001b[0;34m\u001b[0m\u001b[0;34m\u001b[0m\u001b[0m\n\u001b[0m\u001b[1;32m    254\u001b[0m         \u001b[0;32melif\u001b[0m \u001b[0mdf\u001b[0m \u001b[0;32mis\u001b[0m \u001b[0;32mnot\u001b[0m \u001b[0;32mNone\u001b[0m\u001b[0;34m:\u001b[0m\u001b[0;34m\u001b[0m\u001b[0;34m\u001b[0m\u001b[0m\n\u001b[1;32m    255\u001b[0m             \u001b[0mself\u001b[0m\u001b[0;34m.\u001b[0m\u001b[0mdf\u001b[0m \u001b[0;34m=\u001b[0m \u001b[0mdf\u001b[0m\u001b[0;34m\u001b[0m\u001b[0;34m\u001b[0m\u001b[0m\n",
        "\u001b[0;32m/opt/conda/lib/python3.7/site-packages/surprise/dataset.py\u001b[0m in \u001b[0;36mread_ratings\u001b[0;34m(self, file_name)\u001b[0m\n\u001b[1;32m    170\u001b[0m         \u001b[0;32mwith\u001b[0m \u001b[0mopen\u001b[0m\u001b[0;34m(\u001b[0m\u001b[0mos\u001b[0m\u001b[0;34m.\u001b[0m\u001b[0mpath\u001b[0m\u001b[0;34m.\u001b[0m\u001b[0mexpanduser\u001b[0m\u001b[0;34m(\u001b[0m\u001b[0mfile_name\u001b[0m\u001b[0;34m)\u001b[0m\u001b[0;34m)\u001b[0m \u001b[0;32mas\u001b[0m \u001b[0mf\u001b[0m\u001b[0;34m:\u001b[0m\u001b[0;34m\u001b[0m\u001b[0;34m\u001b[0m\u001b[0m\n\u001b[1;32m    171\u001b[0m             raw_ratings = [self.reader.parse_line(line) for line in\n\u001b[0;32m--> 172\u001b[0;31m                            itertools.islice(f, self.reader.skip_lines, None)]\n\u001b[0m\u001b[1;32m    173\u001b[0m         \u001b[0;32mreturn\u001b[0m \u001b[0mraw_ratings\u001b[0m\u001b[0;34m\u001b[0m\u001b[0;34m\u001b[0m\u001b[0m\n\u001b[1;32m    174\u001b[0m \u001b[0;34m\u001b[0m\u001b[0m\n",
        "\u001b[0;32m/opt/conda/lib/python3.7/site-packages/surprise/dataset.py\u001b[0m in \u001b[0;36m<listcomp>\u001b[0;34m(.0)\u001b[0m\n\u001b[1;32m    169\u001b[0m \u001b[0;34m\u001b[0m\u001b[0m\n\u001b[1;32m    170\u001b[0m         \u001b[0;32mwith\u001b[0m \u001b[0mopen\u001b[0m\u001b[0;34m(\u001b[0m\u001b[0mos\u001b[0m\u001b[0;34m.\u001b[0m\u001b[0mpath\u001b[0m\u001b[0;34m.\u001b[0m\u001b[0mexpanduser\u001b[0m\u001b[0;34m(\u001b[0m\u001b[0mfile_name\u001b[0m\u001b[0;34m)\u001b[0m\u001b[0;34m)\u001b[0m \u001b[0;32mas\u001b[0m \u001b[0mf\u001b[0m\u001b[0;34m:\u001b[0m\u001b[0;34m\u001b[0m\u001b[0;34m\u001b[0m\u001b[0m\n\u001b[0;32m--> 171\u001b[0;31m             raw_ratings = [self.reader.parse_line(line) for line in\n\u001b[0m\u001b[1;32m    172\u001b[0m                            itertools.islice(f, self.reader.skip_lines, None)]\n\u001b[1;32m    173\u001b[0m         \u001b[0;32mreturn\u001b[0m \u001b[0mraw_ratings\u001b[0m\u001b[0;34m\u001b[0m\u001b[0;34m\u001b[0m\u001b[0m\n",
        "\u001b[0;32m/opt/conda/lib/python3.7/site-packages/surprise/reader.py\u001b[0m in \u001b[0;36mparse_line\u001b[0;34m(self, line)\u001b[0m\n\u001b[1;32m     98\u001b[0m \u001b[0;34m\u001b[0m\u001b[0m\n\u001b[1;32m     99\u001b[0m         \u001b[0;32mexcept\u001b[0m \u001b[0mIndexError\u001b[0m\u001b[0;34m:\u001b[0m\u001b[0;34m\u001b[0m\u001b[0;34m\u001b[0m\u001b[0m\n\u001b[0;32m--> 100\u001b[0;31m             raise ValueError('Impossible to parse line. Check the line_format'\n\u001b[0m\u001b[1;32m    101\u001b[0m                              ' and sep parameters.')\n\u001b[1;32m    102\u001b[0m \u001b[0;34m\u001b[0m\u001b[0m\n",
        "\u001b[0;31mValueError\u001b[0m: Impossible to parse line. Check the line_format and sep parameters."
       ]
      }
     ],
     "persistentId": "8aa6c260-6dae-4f17-b287-7cc27b040365",
     "text": "# 数据读取\nreader = Reader(line_format='user item rating timestamp', sep=',', skip_lines=1)\ndata = Dataset.load_from_file('./ratings.csv', reader=reader)\ntrain_set = data.build_full_trainset()"
    },
    "executionTime": "2020-03-20T02:42:43.616Z"
   },
   {
    "cell": {
     "executionCount": 8,
     "executionEventId": "aab4ccf3-f19b-4c0f-b594-6e9aa0802c5c",
     "hasError": false,
     "id": "3ddd71da-0a74-410e-b102-4a6ed15396b4",
     "outputs": [],
     "persistentId": "feaf118e-5d57-4a7d-acc7-9b5eea024114",
     "text": "from surprise import SVDpp\nfrom surprise import SVD\nfrom surprise import Dataset\nfrom surprise import Reader\nfrom surprise import BaselineOnly, KNNBasic, NormalPredictor\nfrom surprise import accuracy\nfrom surprise.model_selection import KFold, cross_validate\nimport pandas as pd"
    },
    "executionTime": "2020-03-20T02:49:13.317Z"
   },
   {
    "cell": {
     "executionCount": 9,
     "executionEventId": "81670d2a-b797-4815-9ef4-c693ef2beb3b",
     "hasError": false,
     "id": "bafed696-f943-45af-958b-259ff0e5b800",
     "outputs": [],
     "persistentId": "8aa6c260-6dae-4f17-b287-7cc27b040365",
     "text": "# 数据读取\nreader = Reader(line_format='user item rating timestamp', sep=',', skip_lines=1)\ndata = Dataset.load_from_file('./ratings.csv', reader=reader)\ntrain_set = data.build_full_trainset()"
    },
    "executionTime": "2020-03-20T02:49:18.887Z"
   },
   {
    "cell": {
     "executionCount": 10,
     "executionEventId": "bc819034-e55c-43b6-b2a1-bb6974d15ffa",
     "hasError": false,
     "id": "c7009056-97f0-4088-b16e-3e6161fc84cb",
     "outputs": [],
     "persistentId": "a773e65e-f138-419e-8ea5-f63e8cd70f4c",
     "text": "# 使用funkSVD, BiasSVD 和 SVD++\nalgos = [SVD(biased=False), SVD(biased=True), SVDpp()]\nalgo_names = ['funkSVD', 'BiasSVD', 'SVD++']"
    },
    "executionTime": "2020-03-20T02:49:18.906Z"
   },
   {
    "cell": {
     "executionCount": 11,
     "executionEventId": "712a5d3d-4e6c-4ddc-913e-4597971d9421",
     "hasError": false,
     "id": "5ab8c137-2e4a-4286-a8c9-446aeec86d29",
     "outputs": [],
     "persistentId": "2b675f7a-e24e-42de-8d6c-55e1f806fc6f",
     "text": "def search_model(algos, algo_names, k):\n    assert(k>2)\n    best_score = 1e10\n    best_algo = None\n    best_name = None\n    for algo, algo_name in zip(algos, algo_names):\n        print('training model {}'.format(algo_name))\n        # 定义K折交叉验证迭代器\n        kf = KFold(n_splits=k)\n        score = 0.0\n        for trainset, testset in kf.split(data):\n            # 训练并预测\n            algo.fit(trainset)\n            predictions = algo.test(testset)\n            # 计算RMSE\n            score += accuracy.rmse(predictions, verbose=True)\n            if best_score > score:\n                best_score = score\n                best_algo = algo\n                best_name = algo_name\n    return best_algo, best_name, best_score"
    },
    "executionTime": "2020-03-20T02:49:18.962Z"
   },
   {
    "cell": {
     "executionCount": 12,
     "executionEventId": "89a5e38d-2fbb-4609-8a20-0c9cf0f52e22",
     "hasError": true,
     "id": "05f991e8-00a9-4c00-a471-bc7a27a7b2e1",
     "outputs": [
      {
       "name": "stdout",
       "output_type": "stream",
       "text": "training model funkSVD\nRMSE: 0.8484\nRMSE: 0.8524\nRMSE: 0.8553\nRMSE: 0.8547\nRMSE: 0.8532\nRMSE: 0.8532\ntraining model BiasSVD\nRMSE: 0.8320\nRMSE: 0.8285\nRMSE: 0.8321\nRMSE: 0.8327\nRMSE: 0.8266\nRMSE: 0.8309\ntraining model SVD++\nRMSE: 0.8207\nRMSE: 0.8201\nRMSE: 0.8158\nRMSE: 0.8191\nRMSE: 0.8189\nRMSE: 0.8186\nThe best algorithm is SVD++ with average k_fold rmse 0.8207102179981268\n"
      },
      {
       "ename": "AttributeError",
       "evalue": "'SVDpp' object has no attribute 'train'",
       "output_type": "error",
       "traceback": [
        "\u001b[0;31m---------------------------------------------------------------------------\u001b[0m",
        "\u001b[0;31mAttributeError\u001b[0m                            Traceback (most recent call last)",
        "\u001b[0;32m<ipython-input-12-6f9ce8aa6e01>\u001b[0m in \u001b[0;36m<module>\u001b[0;34m\u001b[0m\n\u001b[1;32m      3\u001b[0m \u001b[0;34m\u001b[0m\u001b[0m\n\u001b[1;32m      4\u001b[0m \u001b[0;31m# 在整个训练集上重新训练模型\u001b[0m\u001b[0;34m\u001b[0m\u001b[0;34m\u001b[0m\u001b[0;34m\u001b[0m\u001b[0m\n\u001b[0;32m----> 5\u001b[0;31m \u001b[0mbest_algo\u001b[0m\u001b[0;34m.\u001b[0m\u001b[0mtrain\u001b[0m\u001b[0;34m(\u001b[0m\u001b[0mtrain_set\u001b[0m\u001b[0;34m)\u001b[0m\u001b[0;34m\u001b[0m\u001b[0;34m\u001b[0m\u001b[0m\n\u001b[0m\u001b[1;32m      6\u001b[0m \u001b[0;34m\u001b[0m\u001b[0m\n\u001b[1;32m      7\u001b[0m \u001b[0muid\u001b[0m \u001b[0;34m=\u001b[0m \u001b[0mstr\u001b[0m\u001b[0;34m(\u001b[0m\u001b[0;36m196\u001b[0m\u001b[0;34m)\u001b[0m\u001b[0;34m\u001b[0m\u001b[0;34m\u001b[0m\u001b[0m\n",
        "\u001b[0;31mAttributeError\u001b[0m: 'SVDpp' object has no attribute 'train'"
       ]
      }
     ],
     "persistentId": "20832ab0-43e0-4a53-b1ae-741f99d4d594",
     "text": "best_algo, best_name, best_score = search_model(algos, algo_names, 6)\nprint('The best algorithm is {} with average k_fold rmse {}'.format(best_name, best_score))\n\n# 在整个训练集上重新训练模型\nbest_algo.train(train_set)\n\nuid = str(196)\niid = str(302)\n# 输出uid对iid的预测结果\npred = algo.predict(uid, iid, r_ui=4, verbose=True)\ntime2=time.time()\nprint(time2-time1)"
    },
    "executionTime": "2020-03-20T15:47:02.067Z"
   }
  ],
  "kernelspec": {
   "display_name": "Python 3",
   "language": "python",
   "name": "python3"
  },
  "language_info": {
   "codemirror_mode": {
    "name": "ipython",
    "version": 3
   },
   "file_extension": ".py",
   "mimetype": "text/x-python",
   "name": "python",
   "nbconvert_exporter": "python",
   "pygments_lexer": "ipython3",
   "version": "3.7.6"
  },
  "uuid": "84874878-ee17-4baf-ba1a-f418cfa65ef5"
 },
 "nbformat": 4,
 "nbformat_minor": 4
}
